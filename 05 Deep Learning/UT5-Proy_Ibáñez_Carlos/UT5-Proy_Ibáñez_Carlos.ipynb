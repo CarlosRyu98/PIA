{
 "cells": [
  {
   "cell_type": "markdown",
   "metadata": {},
   "source": [
    "---\n",
    "# Proyecto UT5: Predicción del tipo de un pokémon a partir de su imagen"
   ]
  },
  {
   "cell_type": "markdown",
   "metadata": {},
   "source": [
    "---\n",
    "## Imports"
   ]
  },
  {
   "cell_type": "code",
   "execution_count": 277,
   "metadata": {},
   "outputs": [],
   "source": [
    "import pandas as pd\n",
    "import matplotlib.pyplot as plt\n",
    "import tensorflow as tf\n",
    "\n",
    "import os\n",
    "import shutil"
   ]
  },
  {
   "cell_type": "markdown",
   "metadata": {},
   "source": [
    "---\n",
    "## Data"
   ]
  },
  {
   "cell_type": "markdown",
   "metadata": {},
   "source": [
    "### Preparación del dataset.\n",
    "\n",
    "Podemos observar que el dataframe incluye:\n",
    "* __Name__: El nombre del pokemon.\n",
    "* __Type1__: El tipo principal del pokemon.\n",
    "* __Type2__: El tipo secundario del pokemon. En principio no lo utilizaremos para nada para simplificar un poco las cosas."
   ]
  },
  {
   "cell_type": "code",
   "execution_count": 278,
   "metadata": {},
   "outputs": [
    {
     "data": {
      "text/html": [
       "<div>\n",
       "<style scoped>\n",
       "    .dataframe tbody tr th:only-of-type {\n",
       "        vertical-align: middle;\n",
       "    }\n",
       "\n",
       "    .dataframe tbody tr th {\n",
       "        vertical-align: top;\n",
       "    }\n",
       "\n",
       "    .dataframe thead th {\n",
       "        text-align: right;\n",
       "    }\n",
       "</style>\n",
       "<table border=\"1\" class=\"dataframe\">\n",
       "  <thead>\n",
       "    <tr style=\"text-align: right;\">\n",
       "      <th></th>\n",
       "      <th>Name</th>\n",
       "      <th>Type1</th>\n",
       "      <th>Type2</th>\n",
       "    </tr>\n",
       "  </thead>\n",
       "  <tbody>\n",
       "    <tr>\n",
       "      <th>0</th>\n",
       "      <td>bulbasaur</td>\n",
       "      <td>Grass</td>\n",
       "      <td>Poison</td>\n",
       "    </tr>\n",
       "    <tr>\n",
       "      <th>1</th>\n",
       "      <td>ivysaur</td>\n",
       "      <td>Grass</td>\n",
       "      <td>Poison</td>\n",
       "    </tr>\n",
       "    <tr>\n",
       "      <th>2</th>\n",
       "      <td>venusaur</td>\n",
       "      <td>Grass</td>\n",
       "      <td>Poison</td>\n",
       "    </tr>\n",
       "    <tr>\n",
       "      <th>3</th>\n",
       "      <td>charmander</td>\n",
       "      <td>Fire</td>\n",
       "      <td>NaN</td>\n",
       "    </tr>\n",
       "    <tr>\n",
       "      <th>4</th>\n",
       "      <td>charmeleon</td>\n",
       "      <td>Fire</td>\n",
       "      <td>NaN</td>\n",
       "    </tr>\n",
       "    <tr>\n",
       "      <th>...</th>\n",
       "      <td>...</td>\n",
       "      <td>...</td>\n",
       "      <td>...</td>\n",
       "    </tr>\n",
       "    <tr>\n",
       "      <th>804</th>\n",
       "      <td>stakataka</td>\n",
       "      <td>Rock</td>\n",
       "      <td>Steel</td>\n",
       "    </tr>\n",
       "    <tr>\n",
       "      <th>805</th>\n",
       "      <td>blacephalon</td>\n",
       "      <td>Fire</td>\n",
       "      <td>Ghost</td>\n",
       "    </tr>\n",
       "    <tr>\n",
       "      <th>806</th>\n",
       "      <td>zeraora</td>\n",
       "      <td>Electric</td>\n",
       "      <td>NaN</td>\n",
       "    </tr>\n",
       "    <tr>\n",
       "      <th>807</th>\n",
       "      <td>meltan</td>\n",
       "      <td>Steel</td>\n",
       "      <td>NaN</td>\n",
       "    </tr>\n",
       "    <tr>\n",
       "      <th>808</th>\n",
       "      <td>melmetal</td>\n",
       "      <td>Steel</td>\n",
       "      <td>NaN</td>\n",
       "    </tr>\n",
       "  </tbody>\n",
       "</table>\n",
       "<p>809 rows × 3 columns</p>\n",
       "</div>"
      ],
      "text/plain": [
       "            Name     Type1   Type2\n",
       "0      bulbasaur     Grass  Poison\n",
       "1        ivysaur     Grass  Poison\n",
       "2       venusaur     Grass  Poison\n",
       "3     charmander      Fire     NaN\n",
       "4     charmeleon      Fire     NaN\n",
       "..           ...       ...     ...\n",
       "804    stakataka      Rock   Steel\n",
       "805  blacephalon      Fire   Ghost\n",
       "806      zeraora  Electric     NaN\n",
       "807       meltan     Steel     NaN\n",
       "808     melmetal     Steel     NaN\n",
       "\n",
       "[809 rows x 3 columns]"
      ]
     },
     "execution_count": 278,
     "metadata": {},
     "output_type": "execute_result"
    }
   ],
   "source": [
    "dataframe = pd.read_csv(\"pokemon.csv\")\n",
    "dataframe"
   ]
  },
  {
   "cell_type": "markdown",
   "metadata": {},
   "source": [
    "Creamos la variable clases, en la que guardaremos los diferentes tipos que hay.  \n",
    "Comprobamos que se ajustan a los tipos reales y no hay ningún tipo de error."
   ]
  },
  {
   "cell_type": "code",
   "execution_count": 279,
   "metadata": {},
   "outputs": [
    {
     "data": {
      "text/plain": [
       "array(['Grass', 'Fire', 'Water', 'Bug', 'Normal', 'Poison', 'Electric',\n",
       "       'Ground', 'Fairy', 'Fighting', 'Psychic', 'Rock', 'Ghost', 'Ice',\n",
       "       'Dragon', 'Dark', 'Steel', 'Flying'], dtype=object)"
      ]
     },
     "execution_count": 279,
     "metadata": {},
     "output_type": "execute_result"
    }
   ],
   "source": [
    "clases = dataframe.Type1.unique()\n",
    "clases"
   ]
  },
  {
   "cell_type": "markdown",
   "metadata": {},
   "source": [
    "## Preparación de las imagenes.\n",
    "\n",
    "Para empezar guardamos el path de la imagen del pokemon en el dataframe. (Código sacado de internet).  \n",
    "Así ya tenemos guardado cada pokémon con la dirección de su respectiva imagen."
   ]
  },
  {
   "cell_type": "code",
   "execution_count": 280,
   "metadata": {},
   "outputs": [],
   "source": [
    "# import the modules\n",
    "images = []\n",
    "# get the path or directory\n",
    "folder_dir = \"images/images\"\n",
    "for image in os.listdir(folder_dir):\n",
    "    # check if the image end swith png or jpg or jpeg\n",
    "    if (image.endswith(\".png\") or image.endswith(\".jpg\") or image.endswith(\".jpeg\")):\n",
    "        # display\n",
    "        images.append(image)\n"
   ]
  },
  {
   "cell_type": "markdown",
   "metadata": {},
   "source": [
    "Como las imágenes no están todas en el mismo formato, hay que tener cuidado y estar pendiente de si se guardan en un formato u otro, por eso mismo vamos a guardarnos también su formato."
   ]
  },
  {
   "cell_type": "code",
   "execution_count": 281,
   "metadata": {},
   "outputs": [],
   "source": [
    "paths = []\n",
    "format = []\n",
    "for d in dataframe.Name:\n",
    "    for i in images:\n",
    "        if (d + \".png\" == i or d + \".jpg\" == i):\n",
    "            paths.append(\"images/images/\"+i)\n",
    "            if (d + \".png\" == i):\n",
    "                format.append(\".png\")\n",
    "            else:\n",
    "                format.append(\".jpg\")"
   ]
  },
  {
   "cell_type": "markdown",
   "metadata": {},
   "source": [
    "Así pues ahora tenemos guardado el __Path__ de la imagen del pokemon y también el __formato__ en el que está guardado."
   ]
  },
  {
   "cell_type": "code",
   "execution_count": 282,
   "metadata": {},
   "outputs": [
    {
     "data": {
      "text/html": [
       "<div>\n",
       "<style scoped>\n",
       "    .dataframe tbody tr th:only-of-type {\n",
       "        vertical-align: middle;\n",
       "    }\n",
       "\n",
       "    .dataframe tbody tr th {\n",
       "        vertical-align: top;\n",
       "    }\n",
       "\n",
       "    .dataframe thead th {\n",
       "        text-align: right;\n",
       "    }\n",
       "</style>\n",
       "<table border=\"1\" class=\"dataframe\">\n",
       "  <thead>\n",
       "    <tr style=\"text-align: right;\">\n",
       "      <th></th>\n",
       "      <th>Name</th>\n",
       "      <th>Type1</th>\n",
       "      <th>Type2</th>\n",
       "      <th>ImgPath</th>\n",
       "      <th>Format</th>\n",
       "    </tr>\n",
       "  </thead>\n",
       "  <tbody>\n",
       "    <tr>\n",
       "      <th>0</th>\n",
       "      <td>bulbasaur</td>\n",
       "      <td>Grass</td>\n",
       "      <td>Poison</td>\n",
       "      <td>images/images/bulbasaur.png</td>\n",
       "      <td>.png</td>\n",
       "    </tr>\n",
       "    <tr>\n",
       "      <th>1</th>\n",
       "      <td>ivysaur</td>\n",
       "      <td>Grass</td>\n",
       "      <td>Poison</td>\n",
       "      <td>images/images/ivysaur.png</td>\n",
       "      <td>.png</td>\n",
       "    </tr>\n",
       "    <tr>\n",
       "      <th>2</th>\n",
       "      <td>venusaur</td>\n",
       "      <td>Grass</td>\n",
       "      <td>Poison</td>\n",
       "      <td>images/images/venusaur.png</td>\n",
       "      <td>.png</td>\n",
       "    </tr>\n",
       "    <tr>\n",
       "      <th>3</th>\n",
       "      <td>charmander</td>\n",
       "      <td>Fire</td>\n",
       "      <td>NaN</td>\n",
       "      <td>images/images/charmander.png</td>\n",
       "      <td>.png</td>\n",
       "    </tr>\n",
       "    <tr>\n",
       "      <th>4</th>\n",
       "      <td>charmeleon</td>\n",
       "      <td>Fire</td>\n",
       "      <td>NaN</td>\n",
       "      <td>images/images/charmeleon.png</td>\n",
       "      <td>.png</td>\n",
       "    </tr>\n",
       "    <tr>\n",
       "      <th>...</th>\n",
       "      <td>...</td>\n",
       "      <td>...</td>\n",
       "      <td>...</td>\n",
       "      <td>...</td>\n",
       "      <td>...</td>\n",
       "    </tr>\n",
       "    <tr>\n",
       "      <th>804</th>\n",
       "      <td>stakataka</td>\n",
       "      <td>Rock</td>\n",
       "      <td>Steel</td>\n",
       "      <td>images/images/stakataka.jpg</td>\n",
       "      <td>.jpg</td>\n",
       "    </tr>\n",
       "    <tr>\n",
       "      <th>805</th>\n",
       "      <td>blacephalon</td>\n",
       "      <td>Fire</td>\n",
       "      <td>Ghost</td>\n",
       "      <td>images/images/blacephalon.jpg</td>\n",
       "      <td>.jpg</td>\n",
       "    </tr>\n",
       "    <tr>\n",
       "      <th>806</th>\n",
       "      <td>zeraora</td>\n",
       "      <td>Electric</td>\n",
       "      <td>NaN</td>\n",
       "      <td>images/images/zeraora.jpg</td>\n",
       "      <td>.jpg</td>\n",
       "    </tr>\n",
       "    <tr>\n",
       "      <th>807</th>\n",
       "      <td>meltan</td>\n",
       "      <td>Steel</td>\n",
       "      <td>NaN</td>\n",
       "      <td>images/images/meltan.jpg</td>\n",
       "      <td>.jpg</td>\n",
       "    </tr>\n",
       "    <tr>\n",
       "      <th>808</th>\n",
       "      <td>melmetal</td>\n",
       "      <td>Steel</td>\n",
       "      <td>NaN</td>\n",
       "      <td>images/images/melmetal.jpg</td>\n",
       "      <td>.jpg</td>\n",
       "    </tr>\n",
       "  </tbody>\n",
       "</table>\n",
       "<p>809 rows × 5 columns</p>\n",
       "</div>"
      ],
      "text/plain": [
       "            Name     Type1   Type2                        ImgPath Format\n",
       "0      bulbasaur     Grass  Poison    images/images/bulbasaur.png   .png\n",
       "1        ivysaur     Grass  Poison      images/images/ivysaur.png   .png\n",
       "2       venusaur     Grass  Poison     images/images/venusaur.png   .png\n",
       "3     charmander      Fire     NaN   images/images/charmander.png   .png\n",
       "4     charmeleon      Fire     NaN   images/images/charmeleon.png   .png\n",
       "..           ...       ...     ...                            ...    ...\n",
       "804    stakataka      Rock   Steel    images/images/stakataka.jpg   .jpg\n",
       "805  blacephalon      Fire   Ghost  images/images/blacephalon.jpg   .jpg\n",
       "806      zeraora  Electric     NaN      images/images/zeraora.jpg   .jpg\n",
       "807       meltan     Steel     NaN       images/images/meltan.jpg   .jpg\n",
       "808     melmetal     Steel     NaN     images/images/melmetal.jpg   .jpg\n",
       "\n",
       "[809 rows x 5 columns]"
      ]
     },
     "execution_count": 282,
     "metadata": {},
     "output_type": "execute_result"
    }
   ],
   "source": [
    "dataframe = dataframe.assign(ImgPath=paths)\n",
    "dataframe = dataframe.assign(Format=format)\n",
    "\n",
    "dataframe"
   ]
  },
  {
   "cell_type": "markdown",
   "metadata": {},
   "source": [
    "Ahora utilizamos las librerías __os__ y __shutil__ para crear el directorio necesario para la importación de keras.  \n",
    "\n",
    "Podemos ajustar los ifs para elegir solo los tipos que queramos.  \n",
    "\n",
    "Crearemos un directorio _train/train_ donde guardaremos todos los pokemons separados para clase que utilizaremos para entrenar el modelo."
   ]
  },
  {
   "cell_type": "code",
   "execution_count": 283,
   "metadata": {},
   "outputs": [],
   "source": [
    "shutil.rmtree(\"train\")\n",
    "os.mkdir(\"train\")\n",
    "\n",
    "for clase in clases:\n",
    "    # if (clase == \"Water\" or clase == \"Fire\" or clase == \"Grass\"):\n",
    "        os.mkdir(\"train/\" + clase)\n",
    "\n",
    "for (path, type, name, format) in zip(dataframe.ImgPath, dataframe.Type1, dataframe.Name, dataframe.Format):\n",
    "    # if (type == \"Water\" or type == \"Fire\" or type == \"Grass\"):\n",
    "        shutil.copyfile(path, \"train/\" + type + \"/\" + name + format)"
   ]
  },
  {
   "cell_type": "markdown",
   "metadata": {},
   "source": [
    "Finalmente cargamos las imagenes ya organizadas por tipos.  \n",
    "Dividimos los datos en _training_ y en _validation_."
   ]
  },
  {
   "cell_type": "code",
   "execution_count": 284,
   "metadata": {},
   "outputs": [
    {
     "name": "stdout",
     "output_type": "stream",
     "text": [
      "Found 809 files belonging to 18 classes.\n",
      "Using 648 files for training.\n",
      "Found 809 files belonging to 18 classes.\n",
      "Using 161 files for validation.\n"
     ]
    }
   ],
   "source": [
    "pokemons_train = tf.keras.utils.image_dataset_from_directory(directory=\"train\", subset=\"training\", validation_split=0.2, seed=612)\n",
    "pokemons_val = tf.keras.utils.image_dataset_from_directory(directory=\"train\", subset=\"validation\", validation_split=0.2, seed=612)"
   ]
  },
  {
   "cell_type": "markdown",
   "metadata": {},
   "source": [
    "Reasignamos la variable _clases_ para que guarde los tipos en el orden correcto."
   ]
  },
  {
   "cell_type": "code",
   "execution_count": 285,
   "metadata": {},
   "outputs": [
    {
     "data": {
      "text/plain": [
       "['Bug',\n",
       " 'Dark',\n",
       " 'Dragon',\n",
       " 'Electric',\n",
       " 'Fairy',\n",
       " 'Fighting',\n",
       " 'Fire',\n",
       " 'Flying',\n",
       " 'Ghost',\n",
       " 'Grass',\n",
       " 'Ground',\n",
       " 'Ice',\n",
       " 'Normal',\n",
       " 'Poison',\n",
       " 'Psychic',\n",
       " 'Rock',\n",
       " 'Steel',\n",
       " 'Water']"
      ]
     },
     "execution_count": 285,
     "metadata": {},
     "output_type": "execute_result"
    }
   ],
   "source": [
    "clases = pokemons_train.class_names\n",
    "clases"
   ]
  },
  {
   "cell_type": "markdown",
   "metadata": {},
   "source": [
    "---\n",
    "## Modelo"
   ]
  },
  {
   "cell_type": "markdown",
   "metadata": {},
   "source": [
    "Ajustamos el numero de clases según la cantidad de clases que detecte en los datos (util si hemos jugado con los ifs para coger diferentes tipos)."
   ]
  },
  {
   "cell_type": "code",
   "execution_count": 286,
   "metadata": {},
   "outputs": [],
   "source": [
    "num_clases = len(pokemons_train.class_names)"
   ]
  },
  {
   "cell_type": "markdown",
   "metadata": {},
   "source": [
    "Preparamos el entrenamiento del modelo. Incluye: \n",
    "\n",
    "* Capa __Dropout__, para evitar un poco el sobreaprendizaje.\n",
    "* Capa __Convulacional 2D__, para el tratamiento de imágenes.\n",
    "* Capa __MaxPooling 2D__, también para el tratamiento de imágenes.\n",
    "* Capa __Flatten__, para pasar de las capas de tratamiento de imagen a otras.\n",
    "* Capa __Dense__, para el tratamiento de datos en general."
   ]
  },
  {
   "cell_type": "code",
   "execution_count": 287,
   "metadata": {},
   "outputs": [],
   "source": [
    "inputs = tf.keras.Input(shape=(256,256,3))\n",
    "x = tf.keras.layers.Dropout(0.1)(inputs)\n",
    "x = tf.keras.layers.Conv2D(4, 3, activation=\"relu\")(x)\n",
    "x = tf.keras.layers.MaxPooling2D()(x)\n",
    "x = tf.keras.layers.Conv2D(16, 3, activation=\"relu\")(x)\n",
    "x = tf.keras.layers.MaxPooling2D()(x)\n",
    "x = tf.keras.layers.Conv2D(64, 3, activation=\"relu\")(x)\n",
    "x = tf.keras.layers.MaxPooling2D()(x)\n",
    "x = tf.keras.layers.Conv2D(256, 5, activation=\"relu\")(x)\n",
    "x = tf.keras.layers.MaxPooling2D()(x)\n",
    "x = tf.keras.layers.Conv2D(512, 7, activation=\"relu\")(x)\n",
    "\n",
    "x = tf.keras.layers.Flatten()(x)\n",
    "\n",
    "x = tf.keras.layers.Dense(512, activation=\"relu\")(x)\n",
    "x = tf.keras.layers.Dense(32, activation=\"relu\")(x)\n",
    "\n",
    "x = tf.keras.layers.Dense(num_clases, activation=\"softmax\")(x)\n",
    "\n",
    "model = tf.keras.Model(inputs, x)"
   ]
  },
  {
   "cell_type": "markdown",
   "metadata": {},
   "source": [
    "Compilamos el modelo:\n",
    "* Optimizador __Adam__, un modelo eficiente y básico para Redes Neuronales.\n",
    "* __Sparse Categorical Crossentropy__, para cuando hay varias clases diferentes para clasificar.\n"
   ]
  },
  {
   "cell_type": "code",
   "execution_count": 288,
   "metadata": {},
   "outputs": [],
   "source": [
    "model.compile(\n",
    "    optimizer='adam',\n",
    "    loss=tf.losses.SparseCategoricalCrossentropy(),\n",
    "    metrics=['sparse_categorical_accuracy'])"
   ]
  },
  {
   "cell_type": "markdown",
   "metadata": {},
   "source": [
    "Mostramos un pequeño resumen del modelo que hemos hecho, para comprobar."
   ]
  },
  {
   "cell_type": "code",
   "execution_count": 289,
   "metadata": {},
   "outputs": [
    {
     "name": "stdout",
     "output_type": "stream",
     "text": [
      "Model: \"model_11\"\n",
      "_________________________________________________________________\n",
      " Layer (type)                Output Shape              Param #   \n",
      "=================================================================\n",
      " input_12 (InputLayer)       [(None, 256, 256, 3)]     0         \n",
      "                                                                 \n",
      " dropout_6 (Dropout)         (None, 256, 256, 3)       0         \n",
      "                                                                 \n",
      " conv2d_55 (Conv2D)          (None, 254, 254, 4)       112       \n",
      "                                                                 \n",
      " max_pooling2d_44 (MaxPoolin  (None, 127, 127, 4)      0         \n",
      " g2D)                                                            \n",
      "                                                                 \n",
      " conv2d_56 (Conv2D)          (None, 125, 125, 16)      592       \n",
      "                                                                 \n",
      " max_pooling2d_45 (MaxPoolin  (None, 62, 62, 16)       0         \n",
      " g2D)                                                            \n",
      "                                                                 \n",
      " conv2d_57 (Conv2D)          (None, 60, 60, 64)        9280      \n",
      "                                                                 \n",
      " max_pooling2d_46 (MaxPoolin  (None, 30, 30, 64)       0         \n",
      " g2D)                                                            \n",
      "                                                                 \n",
      " conv2d_58 (Conv2D)          (None, 26, 26, 256)       409856    \n",
      "                                                                 \n",
      " max_pooling2d_47 (MaxPoolin  (None, 13, 13, 256)      0         \n",
      " g2D)                                                            \n",
      "                                                                 \n",
      " conv2d_59 (Conv2D)          (None, 7, 7, 512)         6423040   \n",
      "                                                                 \n",
      " flatten_11 (Flatten)        (None, 25088)             0         \n",
      "                                                                 \n",
      " dense_33 (Dense)            (None, 512)               12845568  \n",
      "                                                                 \n",
      " dense_34 (Dense)            (None, 32)                16416     \n",
      "                                                                 \n",
      " dense_35 (Dense)            (None, 18)                594       \n",
      "                                                                 \n",
      "=================================================================\n",
      "Total params: 19,705,458\n",
      "Trainable params: 19,705,458\n",
      "Non-trainable params: 0\n",
      "_________________________________________________________________\n"
     ]
    }
   ],
   "source": [
    "model.summary()"
   ]
  },
  {
   "cell_type": "markdown",
   "metadata": {},
   "source": [
    "Finalmente hacemos fit del modelo.  \n",
    "Guardamos un historial para poder visualizar cómo ha ido el entrenamiento.\n",
    "\n",
    "Asignamos como datos de entrenamiento el _pokemons_train_ y como datos de validación el _pokemons_val_"
   ]
  },
  {
   "cell_type": "code",
   "execution_count": 290,
   "metadata": {},
   "outputs": [
    {
     "name": "stdout",
     "output_type": "stream",
     "text": [
      "Epoch 1/20\n",
      "21/21 [==============================] - 19s 866ms/step - loss: 63.6053 - sparse_categorical_accuracy: 0.0880 - val_loss: 2.8236 - val_sparse_categorical_accuracy: 0.1429\n",
      "Epoch 2/20\n",
      "21/21 [==============================] - 18s 841ms/step - loss: 2.7686 - sparse_categorical_accuracy: 0.1420 - val_loss: 2.8311 - val_sparse_categorical_accuracy: 0.0870\n",
      "Epoch 3/20\n",
      "21/21 [==============================] - 18s 836ms/step - loss: 2.8350 - sparse_categorical_accuracy: 0.1373 - val_loss: 2.8462 - val_sparse_categorical_accuracy: 0.0994\n",
      "Epoch 4/20\n",
      "21/21 [==============================] - 18s 851ms/step - loss: 2.7540 - sparse_categorical_accuracy: 0.1420 - val_loss: 2.7609 - val_sparse_categorical_accuracy: 0.1366\n",
      "Epoch 5/20\n",
      "21/21 [==============================] - 17s 830ms/step - loss: 2.6613 - sparse_categorical_accuracy: 0.1682 - val_loss: 2.8037 - val_sparse_categorical_accuracy: 0.1242\n",
      "Epoch 6/20\n",
      "21/21 [==============================] - 18s 862ms/step - loss: 2.5753 - sparse_categorical_accuracy: 0.1852 - val_loss: 2.8322 - val_sparse_categorical_accuracy: 0.1304\n",
      "Epoch 7/20\n",
      "21/21 [==============================] - 18s 841ms/step - loss: 2.4840 - sparse_categorical_accuracy: 0.2068 - val_loss: 2.7809 - val_sparse_categorical_accuracy: 0.1242\n",
      "Epoch 8/20\n",
      "21/21 [==============================] - 17s 801ms/step - loss: 2.3375 - sparse_categorical_accuracy: 0.2346 - val_loss: 2.9827 - val_sparse_categorical_accuracy: 0.0932\n",
      "Epoch 9/20\n",
      "21/21 [==============================] - 17s 821ms/step - loss: 2.2327 - sparse_categorical_accuracy: 0.2747 - val_loss: 2.9740 - val_sparse_categorical_accuracy: 0.1180\n",
      "Epoch 10/20\n",
      "21/21 [==============================] - 17s 811ms/step - loss: 1.9431 - sparse_categorical_accuracy: 0.3441 - val_loss: 3.5159 - val_sparse_categorical_accuracy: 0.1304\n",
      "Epoch 11/20\n",
      "21/21 [==============================] - 17s 815ms/step - loss: 1.5997 - sparse_categorical_accuracy: 0.4321 - val_loss: 3.6636 - val_sparse_categorical_accuracy: 0.0994\n",
      "Epoch 12/20\n",
      "21/21 [==============================] - 18s 841ms/step - loss: 1.4402 - sparse_categorical_accuracy: 0.5000 - val_loss: 4.0919 - val_sparse_categorical_accuracy: 0.1491\n",
      "Epoch 13/20\n",
      "21/21 [==============================] - 18s 839ms/step - loss: 1.2907 - sparse_categorical_accuracy: 0.5525 - val_loss: 3.8728 - val_sparse_categorical_accuracy: 0.0932\n",
      "Epoch 14/20\n",
      "21/21 [==============================] - 18s 841ms/step - loss: 1.2692 - sparse_categorical_accuracy: 0.5664 - val_loss: 3.8712 - val_sparse_categorical_accuracy: 0.1180\n",
      "Epoch 15/20\n",
      "21/21 [==============================] - 18s 851ms/step - loss: 1.0951 - sparse_categorical_accuracy: 0.6188 - val_loss: 4.4486 - val_sparse_categorical_accuracy: 0.1429\n",
      "Epoch 16/20\n",
      "21/21 [==============================] - 18s 837ms/step - loss: 0.8716 - sparse_categorical_accuracy: 0.6914 - val_loss: 4.3762 - val_sparse_categorical_accuracy: 0.1304\n",
      "Epoch 17/20\n",
      "21/21 [==============================] - 18s 835ms/step - loss: 0.6555 - sparse_categorical_accuracy: 0.7855 - val_loss: 5.1749 - val_sparse_categorical_accuracy: 0.1242\n",
      "Epoch 18/20\n",
      "21/21 [==============================] - 18s 832ms/step - loss: 0.4831 - sparse_categorical_accuracy: 0.8318 - val_loss: 6.3805 - val_sparse_categorical_accuracy: 0.1180\n",
      "Epoch 19/20\n",
      "21/21 [==============================] - 18s 840ms/step - loss: 0.4717 - sparse_categorical_accuracy: 0.8426 - val_loss: 5.7977 - val_sparse_categorical_accuracy: 0.1429\n",
      "Epoch 20/20\n",
      "21/21 [==============================] - 18s 831ms/step - loss: 0.3400 - sparse_categorical_accuracy: 0.9012 - val_loss: 7.4933 - val_sparse_categorical_accuracy: 0.1429\n"
     ]
    }
   ],
   "source": [
    "history = model.fit(\n",
    "    pokemons_train,\n",
    "    validation_data = pokemons_val,\n",
    "    epochs=20\n",
    ")"
   ]
  },
  {
   "cell_type": "code",
   "execution_count": 291,
   "metadata": {},
   "outputs": [
    {
     "data": {
      "image/png": "[encoded data removed]",
      "text/plain": [
       "<Figure size 432x288 with 1 Axes>"
      ]
     },
     "metadata": {
      "needs_background": "light"
     },
     "output_type": "display_data"
    }
   ],
   "source": [
    "plt.plot(history.history['sparse_categorical_accuracy'], label='Training')\n",
    "plt.plot(history.history['val_sparse_categorical_accuracy'], label='Validation')\n",
    "plt.title('Accuracy')\n",
    "plt.ylabel('Accuracy value')\n",
    "plt.xlabel('No. epoch')\n",
    "plt.legend(loc=\"upper left\")\n",
    "plt.ylim(0,1)\n",
    "plt.show()"
   ]
  },
  {
   "cell_type": "code",
   "execution_count": 292,
   "metadata": {},
   "outputs": [
    {
     "data": {
      "image/png": "[encoded data removed]",
      "text/plain": [
       "<Figure size 432x288 with 1 Axes>"
      ]
     },
     "metadata": {
      "needs_background": "light"
     },
     "output_type": "display_data"
    }
   ],
   "source": [
    "plt.plot(history.history['loss'], label='Training')\n",
    "plt.plot(history.history['val_loss'], label='Validation')\n",
    "plt.title('Loss')\n",
    "plt.ylabel('Loss value')\n",
    "plt.xlabel('No. epoch')\n",
    "plt.legend(loc=\"upper right\")\n",
    "plt.show()"
   ]
  },
  {
   "cell_type": "markdown",
   "metadata": {},
   "source": [
    "Podemos observar cómo el accuracy de los datos de _training_ van mejorando poco a poco mientras que los datos de _validation_ se quedan estancados en unos valores relativamente bajos.  \n",
    "Teniendo en cuenta que hay 18 clases y su accuracy ronda el 11-15% podemos afirmar que hay cierto aprendizaje, ya que en caso de no haberlo este porcentaje debería rondar el 6%; pero no el suficiente.  \n",
    "También observamos que cuanto más sobreaprende el _training_ más bajo da el accuracy del _validation_."
   ]
  },
  {
   "cell_type": "markdown",
   "metadata": {},
   "source": [
    "---\n",
    "## Predicciones"
   ]
  },
  {
   "cell_type": "markdown",
   "metadata": {},
   "source": [
    "Ahora, con el modelo entrenado, vamos a tratar de hacer predicciones individuales para comprobar el funcionamiento.  \n",
    "Se podría también tratar de predecir cualquier tipo de imagen, por ejemplo un Digimon, y de ver qué tipo le asignaría con los datos recopilados; sin embargo vamos a introducir pokemons reales (que ya tenemos guardados) para ver si se ajusta o no a lo real.\n",
    "\n",
    "En _pok_name_ introduciremos el nombre del pokemon que queremos predecir."
   ]
  },
  {
   "cell_type": "code",
   "execution_count": 293,
   "metadata": {},
   "outputs": [
    {
     "name": "stderr",
     "output_type": "stream",
     "text": [
      "C:\\Users\\BDIA\\AppData\\Local\\Packages\\PythonSoftwareFoundation.Python.3.9_qbz5n2kfra8p0\\LocalCache\\local-packages\\Python39\\site-packages\\PIL\\Image.py:975: UserWarning: Palette images with Transparency expressed in bytes should be converted to RGBA images\n",
      "  warnings.warn(\n"
     ]
    },
    {
     "data": {
      "image/png": "[encoded data removed]",
      "text/plain": [
       "<PIL.Image.Image image mode=RGB size=120x120 at 0x175652EC550>"
      ]
     },
     "execution_count": 293,
     "metadata": {},
     "output_type": "execute_result"
    }
   ],
   "source": [
    "pok_name = \"pikachu\"\n",
    "pok = dataframe.loc[(dataframe.Name == pok_name)]\n",
    "tf.keras.utils.load_img(pok.ImgPath.item())"
   ]
  },
  {
   "cell_type": "markdown",
   "metadata": {},
   "source": [
    "Crearemos un directorio _test_ para que podamos usar correctamente el sistema de importación de keras."
   ]
  },
  {
   "cell_type": "code",
   "execution_count": 294,
   "metadata": {},
   "outputs": [
    {
     "data": {
      "text/plain": [
       "'test/test/pikachu.png'"
      ]
     },
     "execution_count": 294,
     "metadata": {},
     "output_type": "execute_result"
    }
   ],
   "source": [
    "shutil.rmtree(\"test\") # Si ya existe el directorio lo borramos para que no haya errores\n",
    "os.mkdir(\"test\")\n",
    "os.mkdir(\"test/test\")\n",
    "shutil.copyfile(pok.ImgPath.item(), \"test/test/\" + pok.Name.item() + pok.Format.item())"
   ]
  },
  {
   "cell_type": "markdown",
   "metadata": {},
   "source": [
    "Finalmente predecimos el tipo de pokémon.  "
   ]
  },
  {
   "cell_type": "code",
   "execution_count": 295,
   "metadata": {},
   "outputs": [
    {
     "name": "stdout",
     "output_type": "stream",
     "text": [
      "Found 1 files belonging to 1 classes.\n"
     ]
    }
   ],
   "source": [
    "pokemons_test = tf.keras.utils.image_dataset_from_directory(directory=\"test\")\n",
    "predictions = model.predict(pokemons_test)\n"
   ]
  },
  {
   "cell_type": "markdown",
   "metadata": {},
   "source": [
    "Primero mostraremos el tipo al que es más probable que pertenezca.  "
   ]
  },
  {
   "cell_type": "code",
   "execution_count": 296,
   "metadata": {},
   "outputs": [
    {
     "name": "stdout",
     "output_type": "stream",
     "text": [
      "El tipo PREDECIDO es: Water\n"
     ]
    }
   ],
   "source": [
    "print(\"El tipo PREDECIDO es:\", clases[(predictions.argmax())])"
   ]
  },
  {
   "cell_type": "markdown",
   "metadata": {},
   "source": [
    "Luego mostraremos las probabilidades de cada tipo.  "
   ]
  },
  {
   "cell_type": "code",
   "execution_count": 297,
   "metadata": {},
   "outputs": [
    {
     "name": "stdout",
     "output_type": "stream",
     "text": [
      "Las probabilidades de que pertenezca a cada tipo son:\n",
      "\t Bug : 1.6\n",
      "\t Dark : 0.0\n",
      "\t Dragon : 0.0\n",
      "\t Electric : 8.3\n",
      "\t Fairy : 0.0\n",
      "\t Fighting : 0.0\n",
      "\t Fire : 0.0\n",
      "\t Flying : 0.0\n",
      "\t Ghost : 0.0\n",
      "\t Grass : 0.0\n",
      "\t Ground : 0.0\n",
      "\t Ice : 0.0\n",
      "\t Normal : 39.4\n",
      "\t Poison : 0.0\n",
      "\t Psychic : 0.0\n",
      "\t Rock : 0.0\n",
      "\t Steel : 0.0\n",
      "\t Water : 50.7\n"
     ]
    }
   ],
   "source": [
    "print(\"Las probabilidades de que pertenezca a cada tipo son:\")\n",
    "c = 0\n",
    "for p in predictions[0]:\n",
    "    print(\"\\t\", clases[c], \": %.1f\" % (p*100))\n",
    "    c += 1"
   ]
  },
  {
   "cell_type": "markdown",
   "metadata": {},
   "source": [
    "Finalmente mostraremos su tipo real."
   ]
  },
  {
   "cell_type": "code",
   "execution_count": 298,
   "metadata": {},
   "outputs": [
    {
     "name": "stdout",
     "output_type": "stream",
     "text": [
      "El tipo REAL es: Electric\n"
     ]
    }
   ],
   "source": [
    "print(\"El tipo REAL es:\", pok.Type1.item())"
   ]
  }
 ],
 "metadata": {
  "interpreter": {
   "hash": "69eb92836b941e979072a76c7fcfffe5419cca933cedd02cfafbdfca1a93358c"
  },
  "kernelspec": {
   "display_name": "Python 3.9.10 64-bit",
   "language": "python",
   "name": "python3"
  },
  "language_info": {
   "codemirror_mode": {
    "name": "ipython",
    "version": 3
   },
   "file_extension": ".py",
   "mimetype": "text/x-python",
   "name": "python",
   "nbconvert_exporter": "python",
   "pygments_lexer": "ipython3",
   "version": "3.9.11"
  },
  "orig_nbformat": 4
 },
 "nbformat": 4,
 "nbformat_minor": 2
}
