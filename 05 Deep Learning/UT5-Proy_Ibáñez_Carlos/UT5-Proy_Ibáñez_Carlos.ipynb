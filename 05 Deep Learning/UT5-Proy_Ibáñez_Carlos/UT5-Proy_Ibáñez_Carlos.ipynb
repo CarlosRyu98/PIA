{
 "cells": [
  {
   "cell_type": "markdown",
   "metadata": {},
   "source": [
    "# Proyecto UT5:\n",
    "## Predicción del tipo de un pokémon a partir de su imagen"
   ]
  },
  {
   "cell_type": "markdown",
   "metadata": {},
   "source": [
    "### Imports"
   ]
  },
  {
   "cell_type": "code",
   "execution_count": 19,
   "metadata": {},
   "outputs": [],
   "source": [
    "import numpy as np\n",
    "import pandas as pd\n",
    "import matplotlib.pyplot as plt\n",
    "import tensorflow as tf\n",
    "from tensorflow import keras as kr\n",
    "\n",
    "import os\n",
    "import shutil"
   ]
  },
  {
   "cell_type": "markdown",
   "metadata": {},
   "source": [
    "### Data"
   ]
  },
  {
   "cell_type": "markdown",
   "metadata": {},
   "source": [
    "Primero preparamos los pokemon con sus tipos.\n",
    "\n",
    "Podemos observar que el dataframe incluye:\n",
    "* __Name__: El nombre del pokemon.\n",
    "* __Type1__: El tipo principal del pokemon.\n",
    "* __Type2__: El tipo secundario del pokemon. En principio no lo utilizaremos para nada para simplificar un poco las cosas."
   ]
  },
  {
   "cell_type": "code",
   "execution_count": 20,
   "metadata": {},
   "outputs": [
    {
     "data": {
      "text/html": [
       "<div>\n",
       "<style scoped>\n",
       "    .dataframe tbody tr th:only-of-type {\n",
       "        vertical-align: middle;\n",
       "    }\n",
       "\n",
       "    .dataframe tbody tr th {\n",
       "        vertical-align: top;\n",
       "    }\n",
       "\n",
       "    .dataframe thead th {\n",
       "        text-align: right;\n",
       "    }\n",
       "</style>\n",
       "<table border=\"1\" class=\"dataframe\">\n",
       "  <thead>\n",
       "    <tr style=\"text-align: right;\">\n",
       "      <th></th>\n",
       "      <th>Name</th>\n",
       "      <th>Type1</th>\n",
       "      <th>Type2</th>\n",
       "    </tr>\n",
       "  </thead>\n",
       "  <tbody>\n",
       "    <tr>\n",
       "      <th>0</th>\n",
       "      <td>bulbasaur</td>\n",
       "      <td>Grass</td>\n",
       "      <td>Poison</td>\n",
       "    </tr>\n",
       "    <tr>\n",
       "      <th>1</th>\n",
       "      <td>ivysaur</td>\n",
       "      <td>Grass</td>\n",
       "      <td>Poison</td>\n",
       "    </tr>\n",
       "    <tr>\n",
       "      <th>2</th>\n",
       "      <td>venusaur</td>\n",
       "      <td>Grass</td>\n",
       "      <td>Poison</td>\n",
       "    </tr>\n",
       "    <tr>\n",
       "      <th>3</th>\n",
       "      <td>charmander</td>\n",
       "      <td>Fire</td>\n",
       "      <td>NaN</td>\n",
       "    </tr>\n",
       "    <tr>\n",
       "      <th>4</th>\n",
       "      <td>charmeleon</td>\n",
       "      <td>Fire</td>\n",
       "      <td>NaN</td>\n",
       "    </tr>\n",
       "    <tr>\n",
       "      <th>...</th>\n",
       "      <td>...</td>\n",
       "      <td>...</td>\n",
       "      <td>...</td>\n",
       "    </tr>\n",
       "    <tr>\n",
       "      <th>804</th>\n",
       "      <td>stakataka</td>\n",
       "      <td>Rock</td>\n",
       "      <td>Steel</td>\n",
       "    </tr>\n",
       "    <tr>\n",
       "      <th>805</th>\n",
       "      <td>blacephalon</td>\n",
       "      <td>Fire</td>\n",
       "      <td>Ghost</td>\n",
       "    </tr>\n",
       "    <tr>\n",
       "      <th>806</th>\n",
       "      <td>zeraora</td>\n",
       "      <td>Electric</td>\n",
       "      <td>NaN</td>\n",
       "    </tr>\n",
       "    <tr>\n",
       "      <th>807</th>\n",
       "      <td>meltan</td>\n",
       "      <td>Steel</td>\n",
       "      <td>NaN</td>\n",
       "    </tr>\n",
       "    <tr>\n",
       "      <th>808</th>\n",
       "      <td>melmetal</td>\n",
       "      <td>Steel</td>\n",
       "      <td>NaN</td>\n",
       "    </tr>\n",
       "  </tbody>\n",
       "</table>\n",
       "<p>809 rows × 3 columns</p>\n",
       "</div>"
      ],
      "text/plain": [
       "            Name     Type1   Type2\n",
       "0      bulbasaur     Grass  Poison\n",
       "1        ivysaur     Grass  Poison\n",
       "2       venusaur     Grass  Poison\n",
       "3     charmander      Fire     NaN\n",
       "4     charmeleon      Fire     NaN\n",
       "..           ...       ...     ...\n",
       "804    stakataka      Rock   Steel\n",
       "805  blacephalon      Fire   Ghost\n",
       "806      zeraora  Electric     NaN\n",
       "807       meltan     Steel     NaN\n",
       "808     melmetal     Steel     NaN\n",
       "\n",
       "[809 rows x 3 columns]"
      ]
     },
     "execution_count": 20,
     "metadata": {},
     "output_type": "execute_result"
    }
   ],
   "source": [
    "dataframe = pd.read_csv(\"pokemon.csv\")\n",
    "dataframe"
   ]
  },
  {
   "cell_type": "markdown",
   "metadata": {},
   "source": [
    "Creamos la variable clases, en la que guardaremos los diferentes tipos que hay. Comprobamos que se ajustan a los tipos reales y no hay ningún tipo de error."
   ]
  },
  {
   "cell_type": "code",
   "execution_count": 21,
   "metadata": {},
   "outputs": [
    {
     "data": {
      "text/plain": [
       "array(['Grass', 'Fire', 'Water', 'Bug', 'Normal', 'Poison', 'Electric',\n",
       "       'Ground', 'Fairy', 'Fighting', 'Psychic', 'Rock', 'Ghost', 'Ice',\n",
       "       'Dragon', 'Dark', 'Steel', 'Flying'], dtype=object)"
      ]
     },
     "execution_count": 21,
     "metadata": {},
     "output_type": "execute_result"
    }
   ],
   "source": [
    "clases = dataframe.Type1.unique()\n",
    "clases"
   ]
  },
  {
   "cell_type": "markdown",
   "metadata": {},
   "source": [
    "Ahora preparamos las imágenes de los pokémons.\n",
    "\n",
    "Para empezar guardamos el path de la imagen del pokemon en el dataframe. (Código sacado de internet).  \n",
    "Así ya tenemos guardado cada pokémon con su respectiva imagen."
   ]
  },
  {
   "cell_type": "code",
   "execution_count": 22,
   "metadata": {},
   "outputs": [],
   "source": [
    "# import the modules\n",
    "images = []\n",
    "# get the path or directory\n",
    "folder_dir = \"images/images\"\n",
    "for image in os.listdir(folder_dir):\n",
    "    # check if the image end swith png or jpg or jpeg\n",
    "    if (image.endswith(\".png\") or image.endswith(\".jpg\") or image.endswith(\".jpeg\")):\n",
    "        # display\n",
    "        images.append(image)\n"
   ]
  },
  {
   "cell_type": "markdown",
   "metadata": {},
   "source": [
    "Como las imágenes no están todas en el mismo formato, hay que tener cuidado y estar pendiente de si se guardan en un formato u otro, por eso mismo vamos a guardarnos también su formato."
   ]
  },
  {
   "cell_type": "code",
   "execution_count": 23,
   "metadata": {},
   "outputs": [],
   "source": [
    "paths = []\n",
    "format = []\n",
    "for d in dataframe.Name:\n",
    "    for i in images:\n",
    "        if (d + \".png\" == i or d + \".jpg\" == i):\n",
    "            paths.append(\"images/images/\"+i)\n",
    "            if (d + \".png\" == i):\n",
    "                format.append(\".png\")\n",
    "            else:\n",
    "                format.append(\".jpg\")"
   ]
  },
  {
   "cell_type": "markdown",
   "metadata": {},
   "source": [
    "Así pues ahora tenemos guardado el __Path__ de la imagen del pokemon y también el __formato__ en el que está guardado."
   ]
  },
  {
   "cell_type": "code",
   "execution_count": 24,
   "metadata": {},
   "outputs": [
    {
     "data": {
      "text/html": [
       "<div>\n",
       "<style scoped>\n",
       "    .dataframe tbody tr th:only-of-type {\n",
       "        vertical-align: middle;\n",
       "    }\n",
       "\n",
       "    .dataframe tbody tr th {\n",
       "        vertical-align: top;\n",
       "    }\n",
       "\n",
       "    .dataframe thead th {\n",
       "        text-align: right;\n",
       "    }\n",
       "</style>\n",
       "<table border=\"1\" class=\"dataframe\">\n",
       "  <thead>\n",
       "    <tr style=\"text-align: right;\">\n",
       "      <th></th>\n",
       "      <th>Name</th>\n",
       "      <th>Type1</th>\n",
       "      <th>Type2</th>\n",
       "      <th>ImgPath</th>\n",
       "      <th>Format</th>\n",
       "    </tr>\n",
       "  </thead>\n",
       "  <tbody>\n",
       "    <tr>\n",
       "      <th>0</th>\n",
       "      <td>bulbasaur</td>\n",
       "      <td>Grass</td>\n",
       "      <td>Poison</td>\n",
       "      <td>images/images/bulbasaur.png</td>\n",
       "      <td>.png</td>\n",
       "    </tr>\n",
       "    <tr>\n",
       "      <th>1</th>\n",
       "      <td>ivysaur</td>\n",
       "      <td>Grass</td>\n",
       "      <td>Poison</td>\n",
       "      <td>images/images/ivysaur.png</td>\n",
       "      <td>.png</td>\n",
       "    </tr>\n",
       "    <tr>\n",
       "      <th>2</th>\n",
       "      <td>venusaur</td>\n",
       "      <td>Grass</td>\n",
       "      <td>Poison</td>\n",
       "      <td>images/images/venusaur.png</td>\n",
       "      <td>.png</td>\n",
       "    </tr>\n",
       "    <tr>\n",
       "      <th>3</th>\n",
       "      <td>charmander</td>\n",
       "      <td>Fire</td>\n",
       "      <td>NaN</td>\n",
       "      <td>images/images/charmander.png</td>\n",
       "      <td>.png</td>\n",
       "    </tr>\n",
       "    <tr>\n",
       "      <th>4</th>\n",
       "      <td>charmeleon</td>\n",
       "      <td>Fire</td>\n",
       "      <td>NaN</td>\n",
       "      <td>images/images/charmeleon.png</td>\n",
       "      <td>.png</td>\n",
       "    </tr>\n",
       "    <tr>\n",
       "      <th>...</th>\n",
       "      <td>...</td>\n",
       "      <td>...</td>\n",
       "      <td>...</td>\n",
       "      <td>...</td>\n",
       "      <td>...</td>\n",
       "    </tr>\n",
       "    <tr>\n",
       "      <th>804</th>\n",
       "      <td>stakataka</td>\n",
       "      <td>Rock</td>\n",
       "      <td>Steel</td>\n",
       "      <td>images/images/stakataka.jpg</td>\n",
       "      <td>.jpg</td>\n",
       "    </tr>\n",
       "    <tr>\n",
       "      <th>805</th>\n",
       "      <td>blacephalon</td>\n",
       "      <td>Fire</td>\n",
       "      <td>Ghost</td>\n",
       "      <td>images/images/blacephalon.jpg</td>\n",
       "      <td>.jpg</td>\n",
       "    </tr>\n",
       "    <tr>\n",
       "      <th>806</th>\n",
       "      <td>zeraora</td>\n",
       "      <td>Electric</td>\n",
       "      <td>NaN</td>\n",
       "      <td>images/images/zeraora.jpg</td>\n",
       "      <td>.jpg</td>\n",
       "    </tr>\n",
       "    <tr>\n",
       "      <th>807</th>\n",
       "      <td>meltan</td>\n",
       "      <td>Steel</td>\n",
       "      <td>NaN</td>\n",
       "      <td>images/images/meltan.jpg</td>\n",
       "      <td>.jpg</td>\n",
       "    </tr>\n",
       "    <tr>\n",
       "      <th>808</th>\n",
       "      <td>melmetal</td>\n",
       "      <td>Steel</td>\n",
       "      <td>NaN</td>\n",
       "      <td>images/images/melmetal.jpg</td>\n",
       "      <td>.jpg</td>\n",
       "    </tr>\n",
       "  </tbody>\n",
       "</table>\n",
       "<p>809 rows × 5 columns</p>\n",
       "</div>"
      ],
      "text/plain": [
       "            Name     Type1   Type2                        ImgPath Format\n",
       "0      bulbasaur     Grass  Poison    images/images/bulbasaur.png   .png\n",
       "1        ivysaur     Grass  Poison      images/images/ivysaur.png   .png\n",
       "2       venusaur     Grass  Poison     images/images/venusaur.png   .png\n",
       "3     charmander      Fire     NaN   images/images/charmander.png   .png\n",
       "4     charmeleon      Fire     NaN   images/images/charmeleon.png   .png\n",
       "..           ...       ...     ...                            ...    ...\n",
       "804    stakataka      Rock   Steel    images/images/stakataka.jpg   .jpg\n",
       "805  blacephalon      Fire   Ghost  images/images/blacephalon.jpg   .jpg\n",
       "806      zeraora  Electric     NaN      images/images/zeraora.jpg   .jpg\n",
       "807       meltan     Steel     NaN       images/images/meltan.jpg   .jpg\n",
       "808     melmetal     Steel     NaN     images/images/melmetal.jpg   .jpg\n",
       "\n",
       "[809 rows x 5 columns]"
      ]
     },
     "execution_count": 24,
     "metadata": {},
     "output_type": "execute_result"
    }
   ],
   "source": [
    "dataframe = dataframe.assign(ImgPath=paths)\n",
    "dataframe = dataframe.assign(Format=format)\n",
    "\n",
    "dataframe"
   ]
  },
  {
   "cell_type": "markdown",
   "metadata": {},
   "source": [
    "Una vez tenemos hecho lo anterior, organizamos el directorio de imágenes según su tipo.  \n",
    "Para ello utilizamos las librerías __os__ y __shutil__.  \n",
    "\n",
    "Podemos ajustar los ifs para elegir solo los tipos que queramos."
   ]
  },
  {
   "cell_type": "code",
   "execution_count": 25,
   "metadata": {},
   "outputs": [],
   "source": [
    "shutil.rmtree(\"train\")\n",
    "os.mkdir(\"train\")\n",
    "\n",
    "for clase in clases:\n",
    "    if (clase == \"Grass\" or clase == \"Water\" or clase == \"Fire\"):\n",
    "        os.mkdir(\"train/\" + clase)\n",
    "\n",
    "for (path, type, name, format) in zip(dataframe.ImgPath, dataframe.Type1, dataframe.Name, dataframe.Format):\n",
    "    if (type == \"Grass\" or type == \"Water\" or type == \"Fire\"):\n",
    "        shutil.copyfile(path, \"train/\" + type + \"/\" + name + format)"
   ]
  },
  {
   "cell_type": "markdown",
   "metadata": {},
   "source": [
    "Finalmente cargamos las imagenes ya organizadas por tipos.  \n",
    "Dividimos "
   ]
  },
  {
   "cell_type": "code",
   "execution_count": 26,
   "metadata": {},
   "outputs": [
    {
     "name": "stdout",
     "output_type": "stream",
     "text": [
      "Found 245 files belonging to 3 classes.\n",
      "Using 196 files for training.\n",
      "Found 245 files belonging to 3 classes.\n",
      "Using 49 files for validation.\n"
     ]
    }
   ],
   "source": [
    "pokemons_train = tf.keras.utils.image_dataset_from_directory(directory=\"train\", subset=\"training\", validation_split=0.2, seed=612)\n",
    "pokemons_val = tf.keras.utils.image_dataset_from_directory(directory=\"train\", subset=\"validation\", validation_split=0.2, seed=612)"
   ]
  },
  {
   "cell_type": "code",
   "execution_count": 27,
   "metadata": {},
   "outputs": [
    {
     "data": {
      "text/plain": [
       "['Fire', 'Grass', 'Water']"
      ]
     },
     "execution_count": 27,
     "metadata": {},
     "output_type": "execute_result"
    }
   ],
   "source": [
    "cls = pokemons_train.class_names\n",
    "cls"
   ]
  },
  {
   "cell_type": "markdown",
   "metadata": {},
   "source": [
    "### Modelo"
   ]
  },
  {
   "cell_type": "markdown",
   "metadata": {},
   "source": [
    "Ajustamos el numero de clases según la cantidad de clases que detecte en los datos."
   ]
  },
  {
   "cell_type": "code",
   "execution_count": 28,
   "metadata": {},
   "outputs": [],
   "source": [
    "num_clases = len(pokemons_train.class_names)"
   ]
  },
  {
   "cell_type": "markdown",
   "metadata": {},
   "source": [
    "Entrenamiento del modelo, con varias capas convolucionales para detectar imágenes."
   ]
  },
  {
   "cell_type": "code",
   "execution_count": 29,
   "metadata": {},
   "outputs": [],
   "source": [
    "inputs = tf.keras.Input(shape=(256,256,3))\n",
    "x = tf.keras.layers.Conv2D(4, 3, activation=\"relu\")(inputs)\n",
    "x = tf.keras.layers.MaxPooling2D()(x)\n",
    "x = tf.keras.layers.Conv2D(16, 3, activation=\"relu\")(x)\n",
    "x = tf.keras.layers.MaxPooling2D()(x)\n",
    "x = tf.keras.layers.Conv2D(64, 3, activation=\"relu\")(x)\n",
    "x = tf.keras.layers.MaxPooling2D()(x)\n",
    "x = tf.keras.layers.Conv2D(256, 5, activation=\"relu\")(x)\n",
    "x = tf.keras.layers.MaxPooling2D()(x)\n",
    "\n",
    "x = tf.keras.layers.Flatten()(x)\n",
    "\n",
    "x = tf.keras.layers.Dense(256, activation=\"relu\")(x)\n",
    "x = tf.keras.layers.Dense(32, activation=\"relu\")(x)\n",
    "\n",
    "x = tf.keras.layers.Dense(num_clases, activation=\"softmax\")(x)\n",
    "\n",
    "model = tf.keras.Model(inputs, x)"
   ]
  },
  {
   "cell_type": "markdown",
   "metadata": {},
   "source": [
    "Compilamos el modelo"
   ]
  },
  {
   "cell_type": "code",
   "execution_count": 30,
   "metadata": {},
   "outputs": [],
   "source": [
    "model.compile(\n",
    "    optimizer='adam',\n",
    "    loss=tf.losses.SparseCategoricalCrossentropy(),\n",
    "    metrics=['accuracy'])"
   ]
  },
  {
   "cell_type": "markdown",
   "metadata": {},
   "source": [
    "Mostramos un pequeño resumen del modelo que hemos hecho, para comprobar."
   ]
  },
  {
   "cell_type": "code",
   "execution_count": 31,
   "metadata": {},
   "outputs": [
    {
     "name": "stdout",
     "output_type": "stream",
     "text": [
      "Model: \"model_1\"\n",
      "_________________________________________________________________\n",
      " Layer (type)                Output Shape              Param #   \n",
      "=================================================================\n",
      " input_2 (InputLayer)        [(None, 256, 256, 3)]     0         \n",
      "                                                                 \n",
      " conv2d_4 (Conv2D)           (None, 254, 254, 4)       112       \n",
      "                                                                 \n",
      " max_pooling2d_4 (MaxPooling  (None, 127, 127, 4)      0         \n",
      " 2D)                                                             \n",
      "                                                                 \n",
      " conv2d_5 (Conv2D)           (None, 125, 125, 16)      592       \n",
      "                                                                 \n",
      " max_pooling2d_5 (MaxPooling  (None, 62, 62, 16)       0         \n",
      " 2D)                                                             \n",
      "                                                                 \n",
      " conv2d_6 (Conv2D)           (None, 60, 60, 64)        9280      \n",
      "                                                                 \n",
      " max_pooling2d_6 (MaxPooling  (None, 30, 30, 64)       0         \n",
      " 2D)                                                             \n",
      "                                                                 \n",
      " conv2d_7 (Conv2D)           (None, 26, 26, 256)       409856    \n",
      "                                                                 \n",
      " max_pooling2d_7 (MaxPooling  (None, 13, 13, 256)      0         \n",
      " 2D)                                                             \n",
      "                                                                 \n",
      " flatten_1 (Flatten)         (None, 43264)             0         \n",
      "                                                                 \n",
      " dense_3 (Dense)             (None, 256)               11075840  \n",
      "                                                                 \n",
      " dense_4 (Dense)             (None, 32)                8224      \n",
      "                                                                 \n",
      " dense_5 (Dense)             (None, 3)                 99        \n",
      "                                                                 \n",
      "=================================================================\n",
      "Total params: 11,504,003\n",
      "Trainable params: 11,504,003\n",
      "Non-trainable params: 0\n",
      "_________________________________________________________________\n"
     ]
    }
   ],
   "source": [
    "model.summary()"
   ]
  },
  {
   "cell_type": "markdown",
   "metadata": {},
   "source": [
    "Entrenamos el modelo.  \n",
    "Asignamos como datos de entrenamiento el _pokemons_train_ y como datos de validación el _pokemons_val_"
   ]
  },
  {
   "cell_type": "code",
   "execution_count": 32,
   "metadata": {},
   "outputs": [
    {
     "name": "stdout",
     "output_type": "stream",
     "text": [
      "Epoch 1/20\n",
      "7/7 [==============================] - 4s 529ms/step - loss: 146.6142 - accuracy: 0.4031 - val_loss: 1.6202 - val_accuracy: 0.4694\n",
      "Epoch 2/20\n",
      "7/7 [==============================] - 3s 485ms/step - loss: 1.2295 - accuracy: 0.4796 - val_loss: 1.0775 - val_accuracy: 0.4286\n",
      "Epoch 3/20\n",
      "7/7 [==============================] - 4s 510ms/step - loss: 0.9960 - accuracy: 0.5000 - val_loss: 1.0671 - val_accuracy: 0.4490\n",
      "Epoch 4/20\n",
      "7/7 [==============================] - 4s 500ms/step - loss: 0.8800 - accuracy: 0.5765 - val_loss: 1.1006 - val_accuracy: 0.4490\n",
      "Epoch 5/20\n",
      "7/7 [==============================] - 4s 509ms/step - loss: 0.7382 - accuracy: 0.6378 - val_loss: 1.1663 - val_accuracy: 0.3673\n",
      "Epoch 6/20\n",
      "7/7 [==============================] - 4s 501ms/step - loss: 0.5066 - accuracy: 0.8163 - val_loss: 1.3516 - val_accuracy: 0.3673\n",
      "Epoch 7/20\n",
      "7/7 [==============================] - 4s 507ms/step - loss: 0.3079 - accuracy: 0.8878 - val_loss: 1.6379 - val_accuracy: 0.4082\n",
      "Epoch 8/20\n",
      "7/7 [==============================] - 4s 489ms/step - loss: 0.2068 - accuracy: 0.9490 - val_loss: 1.7970 - val_accuracy: 0.3673\n",
      "Epoch 9/20\n",
      "7/7 [==============================] - 4s 505ms/step - loss: 0.1598 - accuracy: 0.9439 - val_loss: 2.1213 - val_accuracy: 0.4082\n",
      "Epoch 10/20\n",
      "7/7 [==============================] - 4s 493ms/step - loss: 0.1336 - accuracy: 0.9490 - val_loss: 2.4334 - val_accuracy: 0.4286\n",
      "Epoch 11/20\n",
      "7/7 [==============================] - 3s 486ms/step - loss: 0.1227 - accuracy: 0.9592 - val_loss: 2.6728 - val_accuracy: 0.3878\n",
      "Epoch 12/20\n",
      "7/7 [==============================] - 4s 492ms/step - loss: 0.1165 - accuracy: 0.9643 - val_loss: 3.0290 - val_accuracy: 0.3878\n",
      "Epoch 13/20\n",
      "7/7 [==============================] - 3s 484ms/step - loss: 0.1133 - accuracy: 0.9490 - val_loss: 3.1639 - val_accuracy: 0.4286\n",
      "Epoch 14/20\n",
      "7/7 [==============================] - 4s 484ms/step - loss: 0.1036 - accuracy: 0.9643 - val_loss: 3.4221 - val_accuracy: 0.4082\n",
      "Epoch 15/20\n",
      "7/7 [==============================] - 4s 500ms/step - loss: 0.1261 - accuracy: 0.9439 - val_loss: 2.5220 - val_accuracy: 0.4082\n",
      "Epoch 16/20\n",
      "7/7 [==============================] - 4s 501ms/step - loss: 0.1114 - accuracy: 0.9643 - val_loss: 2.5480 - val_accuracy: 0.4286\n",
      "Epoch 17/20\n",
      "7/7 [==============================] - 3s 486ms/step - loss: 0.1528 - accuracy: 0.9337 - val_loss: 3.9398 - val_accuracy: 0.3673\n",
      "Epoch 18/20\n",
      "7/7 [==============================] - 3s 481ms/step - loss: 0.1520 - accuracy: 0.9592 - val_loss: 2.8087 - val_accuracy: 0.3673\n",
      "Epoch 19/20\n",
      "7/7 [==============================] - 3s 487ms/step - loss: 0.1224 - accuracy: 0.9439 - val_loss: 2.7956 - val_accuracy: 0.4694\n",
      "Epoch 20/20\n",
      "7/7 [==============================] - 3s 483ms/step - loss: 0.1195 - accuracy: 0.9439 - val_loss: 2.7030 - val_accuracy: 0.4490\n"
     ]
    },
    {
     "data": {
      "text/plain": [
       "<keras.callbacks.History at 0x22c6471cfa0>"
      ]
     },
     "execution_count": 32,
     "metadata": {},
     "output_type": "execute_result"
    }
   ],
   "source": [
    "model.fit(\n",
    "    pokemons_train,\n",
    "    validation_data = pokemons_val,\n",
    "    epochs=20\n",
    ")"
   ]
  },
  {
   "cell_type": "markdown",
   "metadata": {},
   "source": [
    "### Predicciones"
   ]
  },
  {
   "cell_type": "markdown",
   "metadata": {},
   "source": [
    "En _pok_name_ introduciremos el nombre del pokemon que queremos predecir."
   ]
  },
  {
   "cell_type": "code",
   "execution_count": 42,
   "metadata": {},
   "outputs": [
    {
     "data": {
      "image/png": "[encoded data removed]",
      "text/plain": [
       "<PIL.Image.Image image mode=RGB size=120x120 at 0x22C6243CD30>"
      ]
     },
     "execution_count": 42,
     "metadata": {},
     "output_type": "execute_result"
    }
   ],
   "source": [
    "pok_name = \"lotad\"\n",
    "pok = dataframe.loc[(dataframe.Name == pok_name)]\n",
    "tf.keras.utils.load_img(pok.ImgPath.item())"
   ]
  },
  {
   "cell_type": "markdown",
   "metadata": {},
   "source": [
    "Crearemos un directorio _test_ para que podamos usar correctamente el sistema de predicciones."
   ]
  },
  {
   "cell_type": "code",
   "execution_count": 43,
   "metadata": {},
   "outputs": [
    {
     "data": {
      "text/plain": [
       "'test/test/lotad.png'"
      ]
     },
     "execution_count": 43,
     "metadata": {},
     "output_type": "execute_result"
    }
   ],
   "source": [
    "shutil.rmtree(\"test\") # Si ya existe el directorio lo borramos para que no haya errores\n",
    "os.mkdir(\"test\")\n",
    "os.mkdir(\"test/test\")\n",
    "shutil.copyfile(pok.ImgPath.item(), \"test/test/\" + pok.Name.item() + pok.Format.item())"
   ]
  },
  {
   "cell_type": "markdown",
   "metadata": {},
   "source": [
    "Finalmente predecimos el tipo de pokémon.  "
   ]
  },
  {
   "cell_type": "code",
   "execution_count": 44,
   "metadata": {},
   "outputs": [
    {
     "name": "stdout",
     "output_type": "stream",
     "text": [
      "Found 1 files belonging to 1 classes.\n"
     ]
    }
   ],
   "source": [
    "pokemons_test = tf.keras.utils.image_dataset_from_directory(directory=\"test\")\n",
    "predictions = model.predict(pokemons_test)\n"
   ]
  },
  {
   "cell_type": "markdown",
   "metadata": {},
   "source": [
    "Primero mostraremos el tipo al que es más probable que pertenezca.  "
   ]
  },
  {
   "cell_type": "code",
   "execution_count": 45,
   "metadata": {},
   "outputs": [
    {
     "name": "stdout",
     "output_type": "stream",
     "text": [
      "El tipo PREDECIDO es: Water\n"
     ]
    }
   ],
   "source": [
    "print(\"El tipo PREDECIDO es:\", cls[(predictions.argmax())])"
   ]
  },
  {
   "cell_type": "markdown",
   "metadata": {},
   "source": [
    "Luego mostraremos las probabilidades de cada tipo.  "
   ]
  },
  {
   "cell_type": "code",
   "execution_count": 49,
   "metadata": {},
   "outputs": [
    {
     "name": "stdout",
     "output_type": "stream",
     "text": [
      "Las probabilidades de que pertenezca a cada tipo son:\n",
      "\t Fire : 0.3\n",
      "\t Grass : 23.2\n",
      "\t Water : 76.5\n"
     ]
    }
   ],
   "source": [
    "print(\"Las probabilidades de que pertenezca a cada tipo son:\")\n",
    "c = 0\n",
    "for p in predictions[0]:\n",
    "    print(\"\\t\", cls[c], \": %.1f\" % (p*100))\n",
    "    c += 1"
   ]
  },
  {
   "cell_type": "markdown",
   "metadata": {},
   "source": [
    "Finalmente mostraremos su tipo real."
   ]
  },
  {
   "cell_type": "code",
   "execution_count": 48,
   "metadata": {},
   "outputs": [
    {
     "name": "stdout",
     "output_type": "stream",
     "text": [
      "El tipo REAL es: Water\n"
     ]
    }
   ],
   "source": [
    "print(\"El tipo REAL es:\", pok.Type1.item())"
   ]
  }
 ],
 "metadata": {
  "interpreter": {
   "hash": "69eb92836b941e979072a76c7fcfffe5419cca933cedd02cfafbdfca1a93358c"
  },
  "kernelspec": {
   "display_name": "Python 3.9.10 64-bit",
   "language": "python",
   "name": "python3"
  },
  "language_info": {
   "codemirror_mode": {
    "name": "ipython",
    "version": 3
   },
   "file_extension": ".py",
   "mimetype": "text/x-python",
   "name": "python",
   "nbconvert_exporter": "python",
   "pygments_lexer": "ipython3",
   "version": "3.9.11"
  },
  "orig_nbformat": 4
 },
 "nbformat": 4,
 "nbformat_minor": 2
}
