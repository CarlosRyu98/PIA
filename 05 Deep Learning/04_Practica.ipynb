{
 "cells": [
  {
   "cell_type": "markdown",
   "metadata": {
    "id": "YenH_9hJbFk1"
   },
   "source": [
    "# Práctica 4: Redes Neuronales Convolucionales"
   ]
  },
  {
   "cell_type": "markdown",
   "metadata": {
    "id": "FbVhjPpzn6BM"
   },
   "source": [
    "Importa las librerías que vayas a necesitar:"
   ]
  },
  {
   "cell_type": "code",
   "execution_count": 135,
   "metadata": {
    "execution": {
     "iopub.execute_input": "2020-09-23T00:11:56.338306Z",
     "iopub.status.busy": "2020-09-23T00:11:56.337617Z",
     "iopub.status.idle": "2020-09-23T00:12:03.150200Z",
     "shell.execute_reply": "2020-09-23T00:12:03.150753Z"
    },
    "id": "dzLKpmZICaWN"
   },
   "outputs": [],
   "source": [
    "import numpy as np\n",
    "import pandas as pd\n",
    "import matplotlib.pyplot as plt\n",
    "import tensorflow as tf"
   ]
  },
  {
   "cell_type": "markdown",
   "metadata": {
    "id": "yR0EdgrLCaWR"
   },
   "source": [
    "## Seleccionar dataset e importarlo"
   ]
  },
  {
   "cell_type": "markdown",
   "metadata": {
    "id": "DLdCchMdCaWQ"
   },
   "source": [
    "Busca en la web de Kaggle (o en cualquier otra) un dataset de cualquier tema que te interese. Procura que no sea excesivamente grande para evitar un tiempo de entrenamiento mayor:"
   ]
  },
  {
   "cell_type": "code",
   "execution_count": 136,
   "metadata": {},
   "outputs": [
    {
     "name": "stdout",
     "output_type": "stream",
     "text": [
      "Found 6270 files belonging to 151 classes.\n",
      "Using 5016 files for training.\n",
      "Found 6270 files belonging to 151 classes.\n",
      "Using 1254 files for validation.\n"
     ]
    }
   ],
   "source": [
    "animals_train = tf.keras.utils.image_dataset_from_directory(directory=\"04_Data/animals151/dataset/\", validation_split=0.2, subset=\"training\", seed=413)\n",
    "animals_val = tf.keras.utils.image_dataset_from_directory(directory=\"04_Data/animals151/dataset/\", validation_split=0.2, subset=\"validation\", seed=413)"
   ]
  },
  {
   "cell_type": "markdown",
   "metadata": {
    "id": "Brm0b_KACaWX"
   },
   "source": [
    "## Exploramos el dataset\n",
    "\n",
    "Exploramos el formato del dataset: forma, número de elementos, número de \"clases\" finales..."
   ]
  },
  {
   "cell_type": "code",
   "execution_count": 137,
   "metadata": {
    "execution": {
     "iopub.execute_input": "2020-09-23T00:12:04.638892Z",
     "iopub.status.busy": "2020-09-23T00:12:04.638288Z",
     "iopub.status.idle": "2020-09-23T00:12:04.641162Z",
     "shell.execute_reply": "2020-09-23T00:12:04.640615Z"
    },
    "id": "iJmPr5-ACaWn"
   },
   "outputs": [
    {
     "data": {
      "text/plain": [
       "['acinonyx-jubatus',\n",
       " 'aethia-cristatella',\n",
       " 'agalychnis-callidryas',\n",
       " 'agkistrodon-contortrix',\n",
       " 'ailuropoda-melanoleuca',\n",
       " 'ailurus-fulgens',\n",
       " 'alces-alces',\n",
       " 'anas-platyrhynchos',\n",
       " 'ankylosaurus-magniventris',\n",
       " 'apis-mellifera',\n",
       " 'aptenodytes-forsteri',\n",
       " 'aquila-chrysaetos',\n",
       " 'ara-macao',\n",
       " 'architeuthis-dux',\n",
       " 'ardea-herodias',\n",
       " 'balaenoptera-musculus',\n",
       " 'betta-splendens',\n",
       " 'bison-bison',\n",
       " 'bos-gaurus',\n",
       " 'bos-taurus',\n",
       " 'bradypus-variegatus',\n",
       " 'branta-canadensis',\n",
       " 'canis-lupus',\n",
       " 'canis-lupus-familiaris',\n",
       " 'carcharodon-carcharias',\n",
       " 'cardinalis-cardinalis',\n",
       " 'cathartes-aura',\n",
       " 'centrochelys-sulcata',\n",
       " 'centruroides-vittatus',\n",
       " 'ceratitis-capitata',\n",
       " 'ceratotherium-simum',\n",
       " 'chelonia-mydas',\n",
       " 'chrysemys-picta',\n",
       " 'circus-hudsonius',\n",
       " 'codium-fragile',\n",
       " 'coelacanthiformes',\n",
       " 'colaptes-auratus',\n",
       " 'connochaetes-gnou',\n",
       " 'correlophus-ciliatus',\n",
       " 'crocodylus-niloticus',\n",
       " 'crotalus-atrox',\n",
       " 'crotophaga-sulcirostris',\n",
       " 'cryptoprocta-ferox',\n",
       " 'cyanocitta-cristata',\n",
       " 'danaus-plexippus',\n",
       " 'dasypus-novemcinctus',\n",
       " 'delphinapterus-leucas',\n",
       " 'dendrobatidae',\n",
       " 'dermochelys-coriacea',\n",
       " 'desmodus-rotundus',\n",
       " 'diplodocus',\n",
       " 'dugong-dugon',\n",
       " 'eidolon-helvum',\n",
       " 'enhydra-lutris',\n",
       " 'enteroctopus-dofleini',\n",
       " 'equus-caballus',\n",
       " 'equus-quagga',\n",
       " 'eudocimus-albus',\n",
       " 'eunectes-murinus',\n",
       " 'falco-peregrinus',\n",
       " 'felis-catus',\n",
       " 'formicidae',\n",
       " 'gallus-gallus-domesticus',\n",
       " 'gavialis-gangeticus',\n",
       " 'geococcyx-californianus',\n",
       " 'giraffa-camelopardalis',\n",
       " 'gorilla-gorilla',\n",
       " 'haliaeetus-leucocephalus',\n",
       " 'hapalochlaena-maculosa',\n",
       " 'heloderma-suspectum',\n",
       " 'heterocera',\n",
       " 'hippopotamus-amphibius',\n",
       " 'homo-sapiens',\n",
       " 'hydrurga-leptonyx',\n",
       " 'icterus-galbula',\n",
       " 'icterus-gularis',\n",
       " 'icterus-spurius',\n",
       " 'iguana-iguana',\n",
       " 'iguanodon-bernissartensis',\n",
       " 'inia-geoffrensis',\n",
       " 'lampropeltis-triangulum',\n",
       " 'lemur-catta',\n",
       " 'lepus-americanus',\n",
       " 'loxodonta-africana',\n",
       " 'macropus-giganteus',\n",
       " 'malayopython-reticulatus',\n",
       " 'mammuthus-primigeniu',\n",
       " 'martes-americana',\n",
       " 'megaptera-novaeangliae',\n",
       " 'melanerpes-carolinus',\n",
       " 'mellisuga-helenae',\n",
       " 'mergus-serrator',\n",
       " 'mimus-polyglottos',\n",
       " 'monodon-monoceros',\n",
       " 'musca-domestica',\n",
       " 'odobenus-rosmarus',\n",
       " 'okapia-johnstoni',\n",
       " 'ophiophagus-hannah',\n",
       " 'orcinus-orca',\n",
       " 'ornithorhynchus-anatinus',\n",
       " 'ovis-aries',\n",
       " 'ovis-canadensis',\n",
       " 'panthera-leo',\n",
       " 'panthera-onca',\n",
       " 'panthera-pardus',\n",
       " 'panthera-tigris',\n",
       " 'pantherophis-alleghaniensis',\n",
       " 'pantherophis-guttatus',\n",
       " 'papilio-glaucus',\n",
       " 'passerina-ciris',\n",
       " 'pavo-cristatus',\n",
       " 'periplaneta-americana',\n",
       " 'phascolarctos-cinereus',\n",
       " 'phoebetria-fusca',\n",
       " 'phoenicopterus-ruber',\n",
       " 'phyllobates-terribilis',\n",
       " 'physalia-physalis',\n",
       " 'physeter-macrocephalus',\n",
       " 'poecile-atricapillus',\n",
       " 'pongo-abelii',\n",
       " 'procyon-lotor',\n",
       " 'pteranodon-longiceps',\n",
       " 'pterois-mombasae',\n",
       " 'pterois-volitans',\n",
       " 'puma-concolor',\n",
       " 'rattus-rattus',\n",
       " 'rusa-unicolor',\n",
       " 'salmo-salar',\n",
       " 'sciurus-carolinensis',\n",
       " 'smilodon-populator',\n",
       " 'spheniscus-demersus',\n",
       " 'sphyrna-mokarran',\n",
       " 'spinosaurus-aegyptiacus',\n",
       " 'stegosaurus-stenops',\n",
       " 'struthio-camelus',\n",
       " 'tapirus',\n",
       " 'tarsius-pumilus',\n",
       " 'taurotragus-oryx',\n",
       " 'telmatobufo-bullocki',\n",
       " 'thryothorus-ludovicianus',\n",
       " 'triceratops-horridus',\n",
       " 'trilobita',\n",
       " 'turdus-migratorius',\n",
       " 'tursiops-truncatus',\n",
       " 'tyrannosaurus-rex',\n",
       " 'tyrannus-tyrannus',\n",
       " 'ursus-arctos-horribilis',\n",
       " 'ursus-maritimus',\n",
       " 'varanus-komodoensis',\n",
       " 'vulpes-vulpes',\n",
       " 'vultur-gryphus']"
      ]
     },
     "execution_count": 137,
     "metadata": {},
     "output_type": "execute_result"
    }
   ],
   "source": [
    "animals_train.class_names"
   ]
  },
  {
   "cell_type": "markdown",
   "metadata": {
    "id": "ES6uQoLKCaWr"
   },
   "source": [
    "## Preprocesamiento del dataset\n",
    "\n",
    "Haz las operaciones oportunas sobre el set de datos (en caso de ser necesarias). Por ejemplo, si se trata de imágenes en color y quieres trabajar en blanco y negro cambia sus dimensiones. O si son valores entre 0 y 255 escalalos al intervalo 0-1:"
   ]
  },
  {
   "cell_type": "code",
   "execution_count": null,
   "metadata": {},
   "outputs": [],
   "source": []
  },
  {
   "cell_type": "markdown",
   "metadata": {
    "id": "59veuiEZCaW4"
   },
   "source": [
    "## Construir el Modelo\n",
    "\n",
    "Construir la red neuronal requiere configurar las capas del modelo y luego compilar el modelo. Para ello, recuerda que puedes revisar el ejemplo realizado por Marcos y Carmen (Conv2D) o Ainhoa y Carlos (Conv3D) en la práctica 2, además de tener en cuenta los siguientes aspectos importantes:\n",
    "\n",
    "*   Según nos adentramos en capas más profundas, el tamaño de las imágenes se debería ir reescalando por uno menor (utilizando la **capa MaxPool**)\n",
    "*   Según nos adentramos en capas más profundas, la cantidad de capas convolucionales seguidas ha de ser mayor para que detecten patrones más complejos.\n",
    "*   El final de la red será una **capa Flatten** para \"aplanar\" las imágenes resultantes de capas anteriores, seguido de tantas **capas Dense** como necesites.\n",
    "*   Recuerda dejar en la última capa densa tantas neuronas como \"clases\" tengas que diferenciar."
   ]
  },
  {
   "cell_type": "code",
   "execution_count": 138,
   "metadata": {
    "execution": {
     "iopub.execute_input": "2020-09-23T00:12:05.902968Z",
     "iopub.status.busy": "2020-09-23T00:12:05.900405Z",
     "iopub.status.idle": "2020-09-23T00:12:07.650519Z",
     "shell.execute_reply": "2020-09-23T00:12:07.650995Z"
    },
    "id": "9ODch-OFCaW4"
   },
   "outputs": [],
   "source": [
    "num_classes = 151\n",
    "\n",
    "model = tf.keras.Sequential([\n",
    "    tf.keras.layers.Rescaling(1./255),\n",
    "    tf.keras.layers.Conv2D(16, 3, activation='relu'),\n",
    "    tf.keras.layers.MaxPooling2D(),\n",
    "    tf.keras.layers.Conv2D(32, 3, activation='relu'),\n",
    "    tf.keras.layers.MaxPooling2D(),\n",
    "    tf.keras.layers.Conv2D(64, 3, activation='relu'),\n",
    "    tf.keras.layers.MaxPooling2D(),\n",
    "    tf.keras.layers.Flatten(),\n",
    "    tf.keras.layers.Dense(num_classes)\n",
    "])\n"
   ]
  },
  {
   "cell_type": "markdown",
   "metadata": {
    "id": "gut8A_7rCaW6"
   },
   "source": [
    "### Compilamos el modelo\n",
    "\n",
    "Antes de que el modelo este listo para entrenar , se necesitan algunas configuraciones mas: el optimizador, la función de coste o las métricas a utilizar:"
   ]
  },
  {
   "cell_type": "code",
   "execution_count": 139,
   "metadata": {
    "execution": {
     "iopub.execute_input": "2020-09-23T00:12:07.663857Z",
     "iopub.status.busy": "2020-09-23T00:12:07.663044Z",
     "iopub.status.idle": "2020-09-23T00:12:07.670764Z",
     "shell.execute_reply": "2020-09-23T00:12:07.670104Z"
    },
    "id": "Lhan11blCaW7"
   },
   "outputs": [],
   "source": [
    "model.compile(\n",
    "    optimizer='adam',\n",
    "    loss=tf.losses.SparseCategoricalCrossentropy(from_logits=True),\n",
    "    metrics=['accuracy'])\n"
   ]
  },
  {
   "cell_type": "markdown",
   "metadata": {
    "id": "qKF6uW-BCaW-"
   },
   "source": [
    "## Entrenar el Modelo"
   ]
  },
  {
   "cell_type": "code",
   "execution_count": 140,
   "metadata": {
    "execution": {
     "iopub.execute_input": "2020-09-23T00:12:07.675211Z",
     "iopub.status.busy": "2020-09-23T00:12:07.674345Z",
     "iopub.status.idle": "2020-09-23T00:12:36.454526Z",
     "shell.execute_reply": "2020-09-23T00:12:36.453882Z"
    },
    "id": "xvwvpA64CaW_"
   },
   "outputs": [
    {
     "name": "stdout",
     "output_type": "stream",
     "text": [
      "Epoch 1/5\n",
      "157/157 [==============================] - 92s 582ms/step - loss: 4.8563 - accuracy: 0.0273 - val_loss: 4.5787 - val_accuracy: 0.0630\n",
      "Epoch 2/5\n",
      "157/157 [==============================] - 90s 574ms/step - loss: 3.6082 - accuracy: 0.2171 - val_loss: 4.4609 - val_accuracy: 0.1244\n",
      "Epoch 3/5\n",
      "157/157 [==============================] - 90s 576ms/step - loss: 1.5687 - accuracy: 0.6330 - val_loss: 5.4636 - val_accuracy: 0.1188\n",
      "Epoch 4/5\n",
      "157/157 [==============================] - 90s 574ms/step - loss: 0.5222 - accuracy: 0.8806 - val_loss: 7.6565 - val_accuracy: 0.1196\n",
      "Epoch 5/5\n",
      "157/157 [==============================] - 90s 575ms/step - loss: 0.2430 - accuracy: 0.9476 - val_loss: 9.1833 - val_accuracy: 0.1124\n"
     ]
    },
    {
     "data": {
      "text/plain": [
       "<keras.callbacks.History at 0x1993f77e1f0>"
      ]
     },
     "execution_count": 140,
     "metadata": {},
     "output_type": "execute_result"
    }
   ],
   "source": [
    "model.fit(\n",
    "    animals_train,\n",
    "    validation_data=animals_val,\n",
    "    epochs=5\n",
    ")"
   ]
  },
  {
   "cell_type": "markdown",
   "metadata": {
    "id": "oEw4bZgGCaXB"
   },
   "source": [
    "## Evaluar Exactitud\n",
    "\n",
    "Comparar el rendimiento del modelo sobre el dataset de test:"
   ]
  },
  {
   "cell_type": "code",
   "execution_count": 141,
   "metadata": {
    "execution": {
     "iopub.execute_input": "2020-09-23T00:12:36.459549Z",
     "iopub.status.busy": "2020-09-23T00:12:36.458790Z",
     "iopub.status.idle": "2020-09-23T00:12:37.082116Z",
     "shell.execute_reply": "2020-09-23T00:12:37.082547Z"
    },
    "id": "VflXLEeECaXC"
   },
   "outputs": [
    {
     "name": "stdout",
     "output_type": "stream",
     "text": [
      "40/40 [==============================] - 6s 156ms/step - loss: 9.1833 - accuracy: 0.1124\n"
     ]
    },
    {
     "data": {
      "text/plain": [
       "[9.183300018310547, 0.11244019120931625]"
      ]
     },
     "execution_count": 141,
     "metadata": {},
     "output_type": "execute_result"
    }
   ],
   "source": [
    "model.evaluate(animals_val)"
   ]
  },
  {
   "cell_type": "markdown",
   "metadata": {
    "id": "xsoS7CPDCaXH"
   },
   "source": [
    "## Hacer predicciones\n",
    "\n",
    "Con el modelo entrenado probar a hacer predicciones sobre alguna imagen concreta:"
   ]
  },
  {
   "cell_type": "code",
   "execution_count": null,
   "metadata": {
    "execution": {
     "iopub.execute_input": "2020-09-23T00:12:37.087029Z",
     "iopub.status.busy": "2020-09-23T00:12:37.086398Z",
     "iopub.status.idle": "2020-09-23T00:12:37.407345Z",
     "shell.execute_reply": "2020-09-23T00:12:37.406539Z"
    },
    "id": "Gl91RPhdCaXI"
   },
   "outputs": [],
   "source": []
  }
 ],
 "metadata": {
  "colab": {
   "collapsed_sections": [],
   "name": "classification.ipynb",
   "toc_visible": true
  },
  "kernelspec": {
   "display_name": "Python 3",
   "name": "python3"
  },
  "language_info": {
   "codemirror_mode": {
    "name": "ipython",
    "version": 3
   },
   "file_extension": ".py",
   "mimetype": "text/x-python",
   "name": "python",
   "nbconvert_exporter": "python",
   "pygments_lexer": "ipython3",
   "version": "3.9.10"
  }
 },
 "nbformat": 4,
 "nbformat_minor": 0
}
