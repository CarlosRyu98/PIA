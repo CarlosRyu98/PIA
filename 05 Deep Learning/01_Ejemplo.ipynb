{
 "cells": [
  {
   "cell_type": "markdown",
   "metadata": {
    "id": "YenH_9hJbFk1"
   },
   "source": [
    "# Práctica 1: primeras pruebas con TensorFlow y Keras"
   ]
  },
  {
   "cell_type": "markdown",
   "metadata": {
    "id": "FbVhjPpzn6BM"
   },
   "source": [
    "Esta Guia entrena un modelo de red neuronal para clasificar imagenes de ropa como, pantalones y camisetas. No hay problema sino entiendes todos los detalles.\n",
    "Para empezar, tendrás que instalar la librería de TensorFlow (Keras está incluída dentro de esta):"
   ]
  },
  {
   "cell_type": "code",
   "execution_count": 1,
   "metadata": {},
   "outputs": [],
   "source": [
    "# Instalar TensorFlow\n",
    "# pip install tensorflow"
   ]
  },
  {
   "cell_type": "code",
   "execution_count": 2,
   "metadata": {
    "execution": {
     "iopub.execute_input": "2020-09-23T00:11:56.338306Z",
     "iopub.status.busy": "2020-09-23T00:11:56.337617Z",
     "iopub.status.idle": "2020-09-23T00:12:03.150200Z",
     "shell.execute_reply": "2020-09-23T00:12:03.150753Z"
    },
    "id": "dzLKpmZICaWN"
   },
   "outputs": [
    {
     "name": "stdout",
     "output_type": "stream",
     "text": [
      "2.8.0\n"
     ]
    }
   ],
   "source": [
    "# TensorFlow y tf.keras\n",
    "import tensorflow as tf\n",
    "from tensorflow import keras\n",
    "\n",
    "# Librerias de ayuda\n",
    "import numpy as np\n",
    "import matplotlib.pyplot as plt\n",
    "\n",
    "print(tf.__version__)"
   ]
  },
  {
   "cell_type": "markdown",
   "metadata": {
    "id": "yR0EdgrLCaWR"
   },
   "source": [
    "## Importar el set de datos de moda de MNIST"
   ]
  },
  {
   "cell_type": "markdown",
   "metadata": {
    "id": "DLdCchMdCaWQ"
   },
   "source": [
    "Esta guia usa el set de datos de [Fashion MNIST](https://github.com/zalandoresearch/fashion-mnist)\n",
    "que contiene mas de 70,000 imagenes en 10 categorias. Las imagenes muestran articulos individuales de ropa a una resolucion baja (28 por 28 pixeles) como se ve aquí:\n",
    "\n",
    "<table>\n",
    "  <tr><td>\n",
    "    <img src=\"https://tensorflow.org/images/fashion-mnist-sprite.png\"\n",
    "         alt=\"Fashion MNIST sprite\"  width=\"600\">\n",
    "  </td></tr>\n",
    "  <tr><td align=\"center\">\n",
    "    <b>Figure 1.</b> <a href=\"https://github.com/zalandoresearch/fashion-mnist\">Fashion-MNIST samples</a><br/>&nbsp;\n",
    "  </td></tr>\n",
    "</table>\n",
    "\n",
    "Moda MNIST esta construida como un reemplazo para el set de datos clasico [MNIST](http://yann.lecun.com/exdb/mnist/) \n",
    "casi siempre utilizado como el \"Hola Mundo\" de programas de aprendizaje automatico (ML) para clasificación de imágenes. El set de datos de MNIST contiene imagenes de digitos escrito a mano (0, 1, 2, etc.) en un formato identico al de los articulos de ropa que va a utilizar aquí.\n",
    "\n",
    "60,000 imagenes son usadas para entrenar la red neuronal y 10,000 imagenes son usadas para evaluar las clasificaciones de la misma. Podéis acceder al set de moda de MNIST directamente desde TensorFlow. Para importar y cargar el set de datos de MNIST directamente de TensorFlow:"
   ]
  },
  {
   "cell_type": "code",
   "execution_count": 3,
   "metadata": {
    "execution": {
     "iopub.execute_input": "2020-09-23T00:12:03.156630Z",
     "iopub.status.busy": "2020-09-23T00:12:03.154908Z",
     "iopub.status.idle": "2020-09-23T00:12:04.600741Z",
     "shell.execute_reply": "2020-09-23T00:12:04.600139Z"
    },
    "id": "7MqDQO0KCaWS"
   },
   "outputs": [],
   "source": [
    "fashion_mnist = keras.datasets.fashion_mnist\n",
    "\n",
    "(train_images, train_labels), (test_images, test_labels) = fashion_mnist.load_data()"
   ]
  },
  {
   "cell_type": "markdown",
   "metadata": {
    "id": "t9FDsUlxCaWW"
   },
   "source": [
    "Al cargar el set de datos retorna cuatro arrays en NumPy:\n",
    "\n",
    "* Los arrays `train_images` y `train_labels` son los arrays que la red utilizará para aprender.\n",
    "* La red se probará contra los conjuntos de test `test_images`, y `test_labels`.\n",
    "\n",
    "Las imagenes son arrays de NumPy de 28x28 pixels, con valores de pixel que varian de 0 a 255. Los *labels* son un array de integers, que van del 0 al 9. Estos corresponden a la clase de ropa que la imagen representa.\n",
    "\n",
    "<table>\n",
    "  <tr>\n",
    "    <th>Label</th>\n",
    "    <th>Class</th>\n",
    "  </tr>\n",
    "  <tr>\n",
    "    <td>0</td>\n",
    "    <td>T-shirt/top</td>\n",
    "  </tr>\n",
    "  <tr>\n",
    "    <td>1</td>\n",
    "    <td>Trouser</td>\n",
    "  </tr>\n",
    "    <tr>\n",
    "    <td>2</td>\n",
    "    <td>Pullover</td>\n",
    "  </tr>\n",
    "    <tr>\n",
    "    <td>3</td>\n",
    "    <td>Dress</td>\n",
    "  </tr>\n",
    "    <tr>\n",
    "    <td>4</td>\n",
    "    <td>Coat</td>\n",
    "  </tr>\n",
    "    <tr>\n",
    "    <td>5</td>\n",
    "    <td>Sandal</td>\n",
    "  </tr>\n",
    "    <tr>\n",
    "    <td>6</td>\n",
    "    <td>Shirt</td>\n",
    "  </tr>\n",
    "    <tr>\n",
    "    <td>7</td>\n",
    "    <td>Sneaker</td>\n",
    "  </tr>\n",
    "    <tr>\n",
    "    <td>8</td>\n",
    "    <td>Bag</td>\n",
    "  </tr>\n",
    "    <tr>\n",
    "    <td>9</td>\n",
    "    <td>Ankle boot</td>\n",
    "  </tr>\n",
    "</table>\n",
    "\n",
    "Cada imagen es mapeada a una unica etiqueta. Ya que los *Class names* no estan incluidos en el dataset, lo almacenamos aquí para usarlos luego cuando se visualicen las imagenes:"
   ]
  },
  {
   "cell_type": "code",
   "execution_count": 4,
   "metadata": {
    "execution": {
     "iopub.execute_input": "2020-09-23T00:12:04.605691Z",
     "iopub.status.busy": "2020-09-23T00:12:04.605005Z",
     "iopub.status.idle": "2020-09-23T00:12:04.607235Z",
     "shell.execute_reply": "2020-09-23T00:12:04.606589Z"
    },
    "id": "IjnLH5S2CaWx"
   },
   "outputs": [],
   "source": [
    "class_names = ['T-shirt/top', 'Trouser', 'Pullover', 'Dress', 'Coat',\n",
    "                'Sandal', 'Shirt', 'Sneaker', 'Bag', 'Ankle boot']"
   ]
  },
  {
   "cell_type": "markdown",
   "metadata": {
    "id": "Brm0b_KACaWX"
   },
   "source": [
    "## Exploramos el set de datos\n",
    "\n",
    "Exploramos el formato de el set de datos antes de entrenar el modelo. Lo siguiente muestra que hay 60,000 imagenes en el set de entrenamiento, con cada imagen representada por pixeles de 28x28:"
   ]
  },
  {
   "cell_type": "code",
   "execution_count": 5,
   "metadata": {
    "execution": {
     "iopub.execute_input": "2020-09-23T00:12:04.612889Z",
     "iopub.status.busy": "2020-09-23T00:12:04.612214Z",
     "iopub.status.idle": "2020-09-23T00:12:04.615425Z",
     "shell.execute_reply": "2020-09-23T00:12:04.615926Z"
    },
    "id": "zW5k_xz1CaWX"
   },
   "outputs": [
    {
     "data": {
      "text/plain": [
       "(60000, 28, 28)"
      ]
     },
     "execution_count": 5,
     "metadata": {},
     "output_type": "execute_result"
    }
   ],
   "source": [
    "train_images.shape"
   ]
  },
  {
   "cell_type": "markdown",
   "metadata": {
    "id": "cIAcvQqMCaWf"
   },
   "source": [
    "Asimismo, hay 60,000 etiquetas en el set de entrenamiento:"
   ]
  },
  {
   "cell_type": "code",
   "execution_count": 6,
   "metadata": {
    "execution": {
     "iopub.execute_input": "2020-09-23T00:12:04.619917Z",
     "iopub.status.busy": "2020-09-23T00:12:04.619263Z",
     "iopub.status.idle": "2020-09-23T00:12:04.622504Z",
     "shell.execute_reply": "2020-09-23T00:12:04.621929Z"
    },
    "id": "TRFYHB2mCaWb"
   },
   "outputs": [
    {
     "data": {
      "text/plain": [
       "60000"
      ]
     },
     "execution_count": 6,
     "metadata": {},
     "output_type": "execute_result"
    }
   ],
   "source": [
    "len(train_labels)"
   ]
  },
  {
   "cell_type": "markdown",
   "metadata": {
    "id": "YSlYxFuRCaWk"
   },
   "source": [
    "Cada etiqueta es un entero entre 0 y 9:"
   ]
  },
  {
   "cell_type": "code",
   "execution_count": 7,
   "metadata": {
    "execution": {
     "iopub.execute_input": "2020-09-23T00:12:04.626690Z",
     "iopub.status.busy": "2020-09-23T00:12:04.626075Z",
     "iopub.status.idle": "2020-09-23T00:12:04.629060Z",
     "shell.execute_reply": "2020-09-23T00:12:04.628553Z"
    },
    "id": "XKnCTHz4CaWg"
   },
   "outputs": [
    {
     "data": {
      "text/plain": [
       "array([0, 1, 2, 3, 4, 5, 6, 7, 8, 9], dtype=uint8)"
      ]
     },
     "execution_count": 7,
     "metadata": {},
     "output_type": "execute_result"
    }
   ],
   "source": [
    "np.unique(train_labels)"
   ]
  },
  {
   "cell_type": "markdown",
   "metadata": {
    "id": "TMPI88iZpO2T"
   },
   "source": [
    "Hay 10,000 imagenes en el set de pruebas. Otra vez, cada imagen es representada como pixeles de 28x28:"
   ]
  },
  {
   "cell_type": "code",
   "execution_count": 8,
   "metadata": {
    "execution": {
     "iopub.execute_input": "2020-09-23T00:12:04.632971Z",
     "iopub.status.busy": "2020-09-23T00:12:04.632319Z",
     "iopub.status.idle": "2020-09-23T00:12:04.634737Z",
     "shell.execute_reply": "2020-09-23T00:12:04.635201Z"
    },
    "id": "2KFnYlcwCaWl"
   },
   "outputs": [
    {
     "data": {
      "text/plain": [
       "(10000, 28, 28)"
      ]
     },
     "execution_count": 8,
     "metadata": {},
     "output_type": "execute_result"
    }
   ],
   "source": [
    "test_images.shape"
   ]
  },
  {
   "cell_type": "markdown",
   "metadata": {
    "id": "rd0A0Iu0CaWq"
   },
   "source": [
    "Y el set de pruebas contiene 10,000 etiquetas de imagen:"
   ]
  },
  {
   "cell_type": "code",
   "execution_count": 9,
   "metadata": {
    "execution": {
     "iopub.execute_input": "2020-09-23T00:12:04.638892Z",
     "iopub.status.busy": "2020-09-23T00:12:04.638288Z",
     "iopub.status.idle": "2020-09-23T00:12:04.641162Z",
     "shell.execute_reply": "2020-09-23T00:12:04.640615Z"
    },
    "id": "iJmPr5-ACaWn"
   },
   "outputs": [
    {
     "data": {
      "text/plain": [
       "10000"
      ]
     },
     "execution_count": 9,
     "metadata": {},
     "output_type": "execute_result"
    }
   ],
   "source": [
    "len(test_labels)"
   ]
  },
  {
   "cell_type": "markdown",
   "metadata": {
    "id": "ES6uQoLKCaWr"
   },
   "source": [
    "## Pre-procese el set de datos\n",
    "\n",
    "El set de datos debe ser pre-procesado antes de entrenar la red. Si inspeccionamos la primera imagen en el set de entrenamiento, veremos que los valores de los pixeles estan entre 0 y 255 (escala de grises):"
   ]
  },
  {
   "cell_type": "code",
   "execution_count": 10,
   "metadata": {
    "execution": {
     "iopub.execute_input": "2020-09-23T00:12:04.662721Z",
     "iopub.status.busy": "2020-09-23T00:12:04.645719Z",
     "iopub.status.idle": "2020-09-23T00:12:04.845607Z",
     "shell.execute_reply": "2020-09-23T00:12:04.846037Z"
    },
    "id": "m4VEw8Ud9Quh"
   },
   "outputs": [
    {
     "data": {
      "image/png": "[encoded data removed]",
      "text/plain": [
       "<Figure size 432x288 with 2 Axes>"
      ]
     },
     "metadata": {
      "needs_background": "light"
     },
     "output_type": "display_data"
    }
   ],
   "source": [
    "plt.figure()\n",
    "plt.imshow(train_images[0], cmap=plt.cm.binary)\n",
    "plt.colorbar()\n",
    "plt.show()"
   ]
  },
  {
   "cell_type": "markdown",
   "metadata": {
    "id": "Wz7l27Lz9S1P"
   },
   "source": [
    "Como hemos mencionado alguna vez, es preferible que los valores de los pixels estén entre 0 y 1. Por ello, escalaremos estos valores en un rango de 0 a 1 antes de alimentarlos al modelo de la red neuronal. Para hacero, dividimos los valores por 255. Es importante que el *training set* y el *testing set* se pre-procesen de la misma forma:"
   ]
  },
  {
   "cell_type": "code",
   "execution_count": 11,
   "metadata": {
    "execution": {
     "iopub.execute_input": "2020-09-23T00:12:04.850245Z",
     "iopub.status.busy": "2020-09-23T00:12:04.849612Z",
     "iopub.status.idle": "2020-09-23T00:12:05.014795Z",
     "shell.execute_reply": "2020-09-23T00:12:05.015335Z"
    },
    "id": "bW5WzIPlCaWv"
   },
   "outputs": [],
   "source": [
    "train_images = train_images / 255.0\n",
    "\n",
    "test_images = test_images / 255.0"
   ]
  },
  {
   "cell_type": "markdown",
   "metadata": {
    "id": "Ee638AlnCaWz"
   },
   "source": [
    "Para verificar que el set de datos esta en el formato adecuado y que estan listos para construir y entrenar la red, vamos a desplegar las primeras 25 imagenes de el *training set* y despleguemos el nombre de cada clase debajo de cada imagen."
   ]
  },
  {
   "cell_type": "code",
   "execution_count": 12,
   "metadata": {
    "execution": {
     "iopub.execute_input": "2020-09-23T00:12:05.031312Z",
     "iopub.status.busy": "2020-09-23T00:12:05.030478Z",
     "iopub.status.idle": "2020-09-23T00:12:05.895379Z",
     "shell.execute_reply": "2020-09-23T00:12:05.895951Z"
    },
    "id": "oZTImqg_CaW1"
   },
   "outputs": [
    {
     "data": {
      "image/png": "[encoded data removed]",
      "text/plain": [
       "<Figure size 720x720 with 25 Axes>"
      ]
     },
     "metadata": {},
     "output_type": "display_data"
    }
   ],
   "source": [
    "plt.figure(figsize=(10,10))\n",
    "for i in range(25):\n",
    "    plt.subplot(5,5,i+1)\n",
    "    plt.xticks([])\n",
    "    plt.yticks([])\n",
    "    plt.grid(False)\n",
    "    plt.imshow(train_images[i], cmap=plt.cm.binary)\n",
    "    plt.xlabel(class_names[train_labels[i]])\n",
    "plt.show()"
   ]
  },
  {
   "cell_type": "markdown",
   "metadata": {
    "id": "59veuiEZCaW4"
   },
   "source": [
    "## Construir el Modelo\n",
    "\n",
    "Construir la red neuronal requiere configurar las capas del modelo y luego compilar el modelo."
   ]
  },
  {
   "cell_type": "markdown",
   "metadata": {
    "id": "Gxg1XGm0eOBy"
   },
   "source": [
    "### Configurar las Capas\n",
    "\n",
    "Los bloques de construccion basicos de una red neuronal son las *capas* o *layers*. Las capas extraen representaciones de el set de datos que se les alimentan. Con suerte, estas representaciones son considerables para el problema que estamos solucionando.\n",
    "\n",
    "La mayor del aprendizaje profundo consiste de unir capas sencillas. \n",
    "La mayoria de las capas serán como `tf.keras.layers.Dense`, tienen parametros que son aprendidos durante el entrenamiento."
   ]
  },
  {
   "cell_type": "code",
   "execution_count": 13,
   "metadata": {
    "execution": {
     "iopub.execute_input": "2020-09-23T00:12:05.902968Z",
     "iopub.status.busy": "2020-09-23T00:12:05.900405Z",
     "iopub.status.idle": "2020-09-23T00:12:07.650519Z",
     "shell.execute_reply": "2020-09-23T00:12:07.650995Z"
    },
    "id": "9ODch-OFCaW4"
   },
   "outputs": [],
   "source": [
    "model = keras.Sequential([\n",
    "    # Primera capa\n",
    "    keras.layers.Flatten(input_shape=(28, 28)),\n",
    "    # Capas ocultas totalmente conectadas con la capa anterior.\n",
    "    keras.layers.Dense(128, activation='relu'),\n",
    "    keras.layers.Dense(10, activation='softmax')\n",
    "])"
   ]
  },
  {
   "cell_type": "markdown",
   "metadata": {
    "id": "gut8A_7rCaW6"
   },
   "source": [
    "La primera capa de esta red, `tf.keras.layers.Flatten`, \n",
    "transforma el formato de las imagenes de un arreglo bi-dimensional (de 28 por 28 pixeles) a un array uni dimensional (de 28*28 pixeles = 784 pixeles). Observa esta capa como una capa no apilada de filas de pixeles en la misma imagen y alineandolo. Esta capa no tiene parametros que aprender; solo reformatea el set de datos.\n",
    "\n",
    "Despues de que los pixeles estan \"aplanados\", la secuencia consta de dos capas`tf.keras.layers.Dense`. Estas estan completamente o \"Densamente\" conectadas. La primera capa `Dense` tiene 128 nodos (o neuronas). La segunda (y ultima) capa es una capa de 10 nodos *softmax* que devuelve un array de 10 probabilidades que suman 1. Cada nodo contiene una calificación que indica la probabilidad que la actual imagen pertenece a una de las 10 clases.\n",
    "\n",
    "### Compilamos el modelo\n",
    "\n",
    "Antes de que el modelo este listo para entrenar , se necesitan algunas configuraciones mas. Estas son agregadas durante el paso de compilacion del modelo:\n",
    "\n",
    "* *Loss function* — Hace referencia a la función de coste utilizada durante el entrenamiento. El objetivo es minimizar esta funcion.\n",
    "* *Optimizer* — Esto es como el modelo se actualiza basado en el set de datos que ve y la funcion de coste. Es lo que para nuestra red era el descenso del gradiente.\n",
    "* *Metrics* — Se usan para monitorear los pasos de entrenamiento y de test.\n",
    "El siguiente ejemplo usa *accuracy* (exactitud, acierto) , la fraccion de las imagenes que son correctamente clasificadas."
   ]
  },
  {
   "cell_type": "code",
   "execution_count": 14,
   "metadata": {
    "execution": {
     "iopub.execute_input": "2020-09-23T00:12:07.663857Z",
     "iopub.status.busy": "2020-09-23T00:12:07.663044Z",
     "iopub.status.idle": "2020-09-23T00:12:07.670764Z",
     "shell.execute_reply": "2020-09-23T00:12:07.670104Z"
    },
    "id": "Lhan11blCaW7"
   },
   "outputs": [],
   "source": [
    "model.compile(  optimizer='adam',\n",
    "                loss='sparse_categorical_crossentropy',\n",
    "                metrics=['accuracy'])"
   ]
  },
  {
   "cell_type": "markdown",
   "metadata": {
    "id": "qKF6uW-BCaW-"
   },
   "source": [
    "## Entrenar el Modelo\n",
    "\n",
    "Entrenar el modelo de red neuronal requiere de los siguientes pasos:\n",
    "\n",
    "1. Pasar los datos de entrenamiento al modelo. En este ejemplo , el set de datos de entrenamiento estan en los arrays `train_images` y `train_labels`.\n",
    "2. El modelo aprende a asociar imagenes y etiquetas.\n",
    "3. Pedimos al modelo que haga predicciones sobre un set de datos que se encuentran en el ejemplo,incluido en el arreglo `test_images`. Verificamos que las predicciones sean iguales a las etiquetas de el array`test_labels`.\n",
    "\n",
    "Para comenzar a entrenar, llamamos al método `model.fit`, es llamado asi por que *fit* (ajusta) el modelo a el set de datos de entrenamiento:"
   ]
  },
  {
   "cell_type": "code",
   "execution_count": 15,
   "metadata": {
    "execution": {
     "iopub.execute_input": "2020-09-23T00:12:07.675211Z",
     "iopub.status.busy": "2020-09-23T00:12:07.674345Z",
     "iopub.status.idle": "2020-09-23T00:12:36.454526Z",
     "shell.execute_reply": "2020-09-23T00:12:36.453882Z"
    },
    "id": "xvwvpA64CaW_"
   },
   "outputs": [
    {
     "name": "stdout",
     "output_type": "stream",
     "text": [
      "Epoch 1/10\n",
      "1875/1875 [==============================] - 2s 948us/step - loss: 0.4930 - accuracy: 0.8273\n",
      "Epoch 2/10\n",
      "1875/1875 [==============================] - 2s 930us/step - loss: 0.3725 - accuracy: 0.8657\n",
      "Epoch 3/10\n",
      "1875/1875 [==============================] - 2s 935us/step - loss: 0.3373 - accuracy: 0.8764\n",
      "Epoch 4/10\n",
      "1875/1875 [==============================] - 2s 931us/step - loss: 0.3126 - accuracy: 0.8847\n",
      "Epoch 5/10\n",
      "1875/1875 [==============================] - 2s 937us/step - loss: 0.2930 - accuracy: 0.8928\n",
      "Epoch 6/10\n",
      "1875/1875 [==============================] - 2s 893us/step - loss: 0.2802 - accuracy: 0.8963\n",
      "Epoch 7/10\n",
      "1875/1875 [==============================] - 2s 894us/step - loss: 0.2674 - accuracy: 0.9006\n",
      "Epoch 8/10\n",
      "1875/1875 [==============================] - 2s 891us/step - loss: 0.2596 - accuracy: 0.9035\n",
      "Epoch 9/10\n",
      "1875/1875 [==============================] - 2s 890us/step - loss: 0.2481 - accuracy: 0.9081\n",
      "Epoch 10/10\n",
      "1875/1875 [==============================] - 2s 899us/step - loss: 0.2390 - accuracy: 0.9113\n"
     ]
    },
    {
     "data": {
      "text/plain": [
       "<keras.callbacks.History at 0x153fcedde20>"
      ]
     },
     "execution_count": 15,
     "metadata": {},
     "output_type": "execute_result"
    }
   ],
   "source": [
    "model.fit(train_images, train_labels, epochs=10)"
   ]
  },
  {
   "cell_type": "markdown",
   "metadata": {
    "id": "W3ZVOhugCaXA"
   },
   "source": [
    "A medida que el modelo entrena, la perdida y la exactitud son mostradas. Este modelo alcanza una exactitud de 0.91 (o 91%) sobre el set de datos de entrenamiento."
   ]
  },
  {
   "cell_type": "markdown",
   "metadata": {
    "id": "oEw4bZgGCaXB"
   },
   "source": [
    "## Evaluar Exactitud\n",
    "\n",
    "Siguente, comparamos el rendimiento del modelo sobre el set de datos de test:"
   ]
  },
  {
   "cell_type": "code",
   "execution_count": 16,
   "metadata": {
    "execution": {
     "iopub.execute_input": "2020-09-23T00:12:36.459549Z",
     "iopub.status.busy": "2020-09-23T00:12:36.458790Z",
     "iopub.status.idle": "2020-09-23T00:12:37.082116Z",
     "shell.execute_reply": "2020-09-23T00:12:37.082547Z"
    },
    "id": "VflXLEeECaXC"
   },
   "outputs": [
    {
     "name": "stdout",
     "output_type": "stream",
     "text": [
      "313/313 - 0s - loss: 0.3294 - accuracy: 0.8831 - 296ms/epoch - 946us/step\n",
      "\n",
      "Test accuracy: 0.8830999732017517\n"
     ]
    }
   ],
   "source": [
    "test_loss, test_acc = model.evaluate(test_images,  test_labels, verbose=2)\n",
    "\n",
    "print('\\nTest accuracy:', test_acc)"
   ]
  },
  {
   "cell_type": "markdown",
   "metadata": {
    "id": "yWfgsmVXCaXG"
   },
   "source": [
    "Resulta que la exactitud sobre el set de datos es un poco menor que la exactitud sobre el set de entrenamiento. Esta diferencia entre el entrenamiento y el test se debe a *overfitting* (sobre ajuste). Sobre ajuste sucede cuando un modelo tiene un rendimiento peor sobre un set de datos nuevo, que nunca antes ha visto comparado con el de entrenamiento."
   ]
  },
  {
   "cell_type": "markdown",
   "metadata": {
    "id": "xsoS7CPDCaXH"
   },
   "source": [
    "## Hacer predicciones\n",
    "\n",
    "Con el modelo entrenado podemos usarlo para hacer predicciones sobre imágenes."
   ]
  },
  {
   "cell_type": "code",
   "execution_count": 17,
   "metadata": {
    "execution": {
     "iopub.execute_input": "2020-09-23T00:12:37.087029Z",
     "iopub.status.busy": "2020-09-23T00:12:37.086398Z",
     "iopub.status.idle": "2020-09-23T00:12:37.407345Z",
     "shell.execute_reply": "2020-09-23T00:12:37.406539Z"
    },
    "id": "Gl91RPhdCaXI"
   },
   "outputs": [],
   "source": [
    "predictions = model.predict(test_images)"
   ]
  },
  {
   "cell_type": "markdown",
   "metadata": {
    "id": "x9Kk1voUCaXJ"
   },
   "source": [
    "El modelo ha predecido la etiqueta para cada imagen en el set de datos de *test* (prueba). Miremos la primera prediccion:"
   ]
  },
  {
   "cell_type": "code",
   "execution_count": 18,
   "metadata": {
    "execution": {
     "iopub.execute_input": "2020-09-23T00:12:37.412550Z",
     "iopub.status.busy": "2020-09-23T00:12:37.411807Z",
     "iopub.status.idle": "2020-09-23T00:12:37.414437Z",
     "shell.execute_reply": "2020-09-23T00:12:37.414875Z"
    },
    "id": "3DmJEUinCaXK"
   },
   "outputs": [
    {
     "data": {
      "text/plain": [
       "array([2.6568504e-08, 6.2880452e-09, 1.9161246e-10, 1.4948462e-10,\n",
       "       1.1263688e-07, 2.9046044e-03, 2.6946125e-07, 1.4933426e-02,\n",
       "       2.7059345e-06, 9.8215884e-01], dtype=float32)"
      ]
     },
     "execution_count": 18,
     "metadata": {},
     "output_type": "execute_result"
    }
   ],
   "source": [
    "predictions[0]"
   ]
  },
  {
   "cell_type": "markdown",
   "metadata": {
    "id": "-hw1hgeSCaXN"
   },
   "source": [
    "*una* prediccion es un array de 10 numeros. Estos representan el nivel de \"confianza\" del modelo sobre las imagenes de cada uno de los 10 articulos de moda/ropa. Podemos revisar cual tiene el nivel mas alto de confianza:"
   ]
  },
  {
   "cell_type": "code",
   "execution_count": 19,
   "metadata": {
    "execution": {
     "iopub.execute_input": "2020-09-23T00:12:37.419598Z",
     "iopub.status.busy": "2020-09-23T00:12:37.418897Z",
     "iopub.status.idle": "2020-09-23T00:12:37.421942Z",
     "shell.execute_reply": "2020-09-23T00:12:37.421420Z"
    },
    "id": "qsqenuPnCaXO"
   },
   "outputs": [
    {
     "data": {
      "text/plain": [
       "9"
      ]
     },
     "execution_count": 19,
     "metadata": {},
     "output_type": "execute_result"
    }
   ],
   "source": [
    "np.argmax(predictions[0])"
   ]
  },
  {
   "cell_type": "markdown",
   "metadata": {
    "id": "E51yS7iCCaXO"
   },
   "source": [
    "Entonces, el modelo tiene mayor confianza que esta imagen es un bota de tobillo \"ankle boot\" o `class_names[9]`. Examinando las etiquetas de *test* o de pruebas muestra que esta clasificaion es correcta:"
   ]
  },
  {
   "cell_type": "code",
   "execution_count": 20,
   "metadata": {
    "execution": {
     "iopub.execute_input": "2020-09-23T00:12:37.426275Z",
     "iopub.status.busy": "2020-09-23T00:12:37.425639Z",
     "iopub.status.idle": "2020-09-23T00:12:37.428526Z",
     "shell.execute_reply": "2020-09-23T00:12:37.428018Z"
    },
    "id": "Sd7Pgsu6CaXP"
   },
   "outputs": [
    {
     "data": {
      "text/plain": [
       "9"
      ]
     },
     "execution_count": 20,
     "metadata": {},
     "output_type": "execute_result"
    }
   ],
   "source": [
    "test_labels[0]"
   ]
  },
  {
   "cell_type": "markdown",
   "metadata": {
    "id": "ygh2yYC972ne"
   },
   "source": [
    "Utilizaremos estas funciones para poder ver todo el set de la prediccion de las 10 clases:"
   ]
  },
  {
   "cell_type": "code",
   "execution_count": 21,
   "metadata": {
    "execution": {
     "iopub.execute_input": "2020-09-23T00:12:37.436576Z",
     "iopub.status.busy": "2020-09-23T00:12:37.435927Z",
     "iopub.status.idle": "2020-09-23T00:12:37.437739Z",
     "shell.execute_reply": "2020-09-23T00:12:37.438165Z"
    },
    "id": "DvYmmrpIy6Y1"
   },
   "outputs": [],
   "source": [
    "def plot_image(i, predictions_array, true_label, img):\n",
    "  predictions_array, true_label, img = predictions_array, true_label[i], img[i]\n",
    "  plt.grid(False)\n",
    "  plt.xticks([])\n",
    "  plt.yticks([])\n",
    "\n",
    "  plt.imshow(img, cmap=plt.cm.binary)\n",
    "\n",
    "  predicted_label = np.argmax(predictions_array)\n",
    "  if predicted_label == true_label:\n",
    "    color = 'blue'\n",
    "  else:\n",
    "    color = 'red'\n",
    "\n",
    "  plt.xlabel(\"{} {:2.0f}% ({})\".format(class_names[predicted_label],\n",
    "                                100*np.max(predictions_array),\n",
    "                                class_names[true_label]),\n",
    "                                color=color)\n",
    "\n",
    "def plot_value_array(i, predictions_array, true_label):\n",
    "  predictions_array, true_label = predictions_array, true_label[i]\n",
    "  plt.grid(False)\n",
    "  plt.xticks(range(10))\n",
    "  plt.yticks([])\n",
    "  thisplot = plt.bar(range(10), predictions_array, color=\"#777777\")\n",
    "  plt.ylim([0, 1])\n",
    "  predicted_label = np.argmax(predictions_array)\n",
    "\n",
    "  thisplot[predicted_label].set_color('red')\n",
    "  thisplot[true_label].set_color('blue')"
   ]
  },
  {
   "cell_type": "markdown",
   "metadata": {
    "id": "d4Ov9OFDMmOD"
   },
   "source": [
    "Miremos la imagen [0], sus predicciones y el array de predicciones. Las etiquetas de prediccion correctas estan en azul y las incorrectas estan en rojo. El numero entrega el porcentaje (sobre 100) para la etiqueta predecida."
   ]
  },
  {
   "cell_type": "code",
   "execution_count": 22,
   "metadata": {
    "execution": {
     "iopub.execute_input": "2020-09-23T00:12:37.447943Z",
     "iopub.status.busy": "2020-09-23T00:12:37.443377Z",
     "iopub.status.idle": "2020-09-23T00:12:37.559790Z",
     "shell.execute_reply": "2020-09-23T00:12:37.560326Z"
    },
    "id": "HV5jw-5HwSmO"
   },
   "outputs": [
    {
     "data": {
      "image/png": "[encoded data removed]",
      "text/plain": [
       "<Figure size 432x216 with 2 Axes>"
      ]
     },
     "metadata": {
      "needs_background": "light"
     },
     "output_type": "display_data"
    }
   ],
   "source": [
    "i = 0\n",
    "plt.figure(figsize=(6,3))\n",
    "plt.subplot(1,2,1)\n",
    "plot_image(i, predictions[i], test_labels, test_images)\n",
    "plt.subplot(1,2,2)\n",
    "plot_value_array(i, predictions[i],  test_labels)\n",
    "plt.show()"
   ]
  },
  {
   "cell_type": "code",
   "execution_count": 23,
   "metadata": {
    "execution": {
     "iopub.execute_input": "2020-09-23T00:12:37.574455Z",
     "iopub.status.busy": "2020-09-23T00:12:37.572922Z",
     "iopub.status.idle": "2020-09-23T00:12:37.679858Z",
     "shell.execute_reply": "2020-09-23T00:12:37.679297Z"
    },
    "id": "Ko-uzOufSCSe"
   },
   "outputs": [
    {
     "data": {
      "image/png": "[encoded data removed]",
      "text/plain": [
       "<Figure size 432x216 with 2 Axes>"
      ]
     },
     "metadata": {
      "needs_background": "light"
     },
     "output_type": "display_data"
    }
   ],
   "source": [
    "i = 12\n",
    "plt.figure(figsize=(6,3))\n",
    "plt.subplot(1,2,1)\n",
    "plot_image(i, predictions[i], test_labels, test_images)\n",
    "plt.subplot(1,2,2)\n",
    "plot_value_array(i, predictions[i],  test_labels)\n",
    "plt.show()"
   ]
  },
  {
   "cell_type": "markdown",
   "metadata": {
    "id": "kgdvGD52CaXR"
   },
   "source": [
    "Vamos a mostrar los gráficos de multiples imágenes con sus predicciones. Hay que destacar que el modelo puede estar equivocado aun cuando tiene mucha confianza."
   ]
  },
  {
   "cell_type": "code",
   "execution_count": 24,
   "metadata": {
    "execution": {
     "iopub.execute_input": "2020-09-23T00:12:37.704262Z",
     "iopub.status.busy": "2020-09-23T00:12:37.703472Z",
     "iopub.status.idle": "2020-09-23T00:12:39.542467Z",
     "shell.execute_reply": "2020-09-23T00:12:39.543014Z"
    },
    "id": "hQlnbqaw2Qu_"
   },
   "outputs": [
    {
     "data": {
      "image/png": "[encoded data removed]",
      "text/plain": [
       "<Figure size 864x720 with 30 Axes>"
      ]
     },
     "metadata": {
      "needs_background": "light"
     },
     "output_type": "display_data"
    }
   ],
   "source": [
    "# Plot the first X test images, their predicted labels, and the true labels.\n",
    "# Color correct predictions in blue and incorrect predictions in red.\n",
    "num_rows = 5\n",
    "num_cols = 3\n",
    "num_images = num_rows*num_cols\n",
    "plt.figure(figsize=(2*2*num_cols, 2*num_rows))\n",
    "for i in range(num_images):\n",
    "  plt.subplot(num_rows, 2*num_cols, 2*i+1)\n",
    "  plot_image(i, predictions[i], test_labels, test_images)\n",
    "  plt.subplot(num_rows, 2*num_cols, 2*i+2)\n",
    "  plot_value_array(i, predictions[i], test_labels)\n",
    "plt.tight_layout()\n",
    "plt.show()"
   ]
  },
  {
   "cell_type": "markdown",
   "metadata": {
    "id": "R32zteKHCaXT"
   },
   "source": [
    "Finalmente, usamos el modelo entrenado para hacer una prediccion sobre una unica imagen."
   ]
  },
  {
   "cell_type": "code",
   "execution_count": 25,
   "metadata": {
    "execution": {
     "iopub.execute_input": "2020-09-23T00:12:39.547795Z",
     "iopub.status.busy": "2020-09-23T00:12:39.547091Z",
     "iopub.status.idle": "2020-09-23T00:12:39.549226Z",
     "shell.execute_reply": "2020-09-23T00:12:39.549730Z"
    },
    "id": "yRJ7JU7JCaXT"
   },
   "outputs": [
    {
     "name": "stdout",
     "output_type": "stream",
     "text": [
      "(28, 28)\n"
     ]
    }
   ],
   "source": [
    "# Grab an image from the test dataset.\n",
    "img = test_images[1]\n",
    "\n",
    "print(img.shape)"
   ]
  },
  {
   "cell_type": "markdown",
   "metadata": {
    "id": "vz3bVp21CaXV"
   },
   "source": [
    "Los modelos de `tf.keras` son optimizados sobre *batch* o bloques, o coleciones de ejemplos por vez.\n",
    "De acuerdo a esto, aunque usemos una única imagen toca agregarla a una lista:"
   ]
  },
  {
   "cell_type": "code",
   "execution_count": 26,
   "metadata": {
    "execution": {
     "iopub.execute_input": "2020-09-23T00:12:39.554000Z",
     "iopub.status.busy": "2020-09-23T00:12:39.553363Z",
     "iopub.status.idle": "2020-09-23T00:12:39.556184Z",
     "shell.execute_reply": "2020-09-23T00:12:39.555583Z"
    },
    "id": "lDFh5yF_CaXW"
   },
   "outputs": [
    {
     "name": "stdout",
     "output_type": "stream",
     "text": [
      "(1, 28, 28)\n"
     ]
    }
   ],
   "source": [
    "img = (np.expand_dims(img,0))\n",
    "print(img.shape)"
   ]
  },
  {
   "cell_type": "markdown",
   "metadata": {
    "id": "EQ5wLTkcCaXY"
   },
   "source": [
    "Ahora predecimos la etiqueta correcta para esta imagen:"
   ]
  },
  {
   "cell_type": "code",
   "execution_count": 27,
   "metadata": {
    "execution": {
     "iopub.execute_input": "2020-09-23T00:12:39.560100Z",
     "iopub.status.busy": "2020-09-23T00:12:39.559462Z",
     "iopub.status.idle": "2020-09-23T00:12:39.595462Z",
     "shell.execute_reply": "2020-09-23T00:12:39.595894Z"
    },
    "id": "o_rzNSdrCaXY"
   },
   "outputs": [
    {
     "name": "stdout",
     "output_type": "stream",
     "text": [
      "[[1.6237738e-05 1.2125564e-15 9.9876189e-01 3.2244263e-10 5.1125506e-04\n",
      "  5.1740131e-12 7.1068387e-04 6.2385725e-13 1.0407260e-10 1.3422857e-14]]\n"
     ]
    }
   ],
   "source": [
    "predictions_single = model.predict(img)\n",
    "print(predictions_single)"
   ]
  },
  {
   "cell_type": "code",
   "execution_count": 28,
   "metadata": {
    "execution": {
     "iopub.execute_input": "2020-09-23T00:12:39.613213Z",
     "iopub.status.busy": "2020-09-23T00:12:39.607790Z",
     "iopub.status.idle": "2020-09-23T00:12:39.693950Z",
     "shell.execute_reply": "2020-09-23T00:12:39.693294Z"
    },
    "id": "6Ai-cpLjO-3A"
   },
   "outputs": [
    {
     "data": {
      "image/png": "[encoded data removed]",
      "text/plain": [
       "<Figure size 432x288 with 1 Axes>"
      ]
     },
     "metadata": {
      "needs_background": "light"
     },
     "output_type": "display_data"
    }
   ],
   "source": [
    "plot_value_array(1, predictions_single[0], test_labels)\n",
    "_ = plt.xticks(range(10), class_names, rotation=45)"
   ]
  },
  {
   "cell_type": "markdown",
   "metadata": {
    "id": "cU1Y2OAMCaXb"
   },
   "source": [
    "`model.predict` retorna una lista de listas para cada imagen dentro del *batch* o bloque de datos. Tomamos la prediccion para nuestra unica imagen dentro del *batch* o bloque:"
   ]
  },
  {
   "cell_type": "code",
   "execution_count": 29,
   "metadata": {
    "execution": {
     "iopub.execute_input": "2020-09-23T00:12:39.698805Z",
     "iopub.status.busy": "2020-09-23T00:12:39.698163Z",
     "iopub.status.idle": "2020-09-23T00:12:39.701361Z",
     "shell.execute_reply": "2020-09-23T00:12:39.700720Z"
    },
    "id": "2tRmdq_8CaXb"
   },
   "outputs": [
    {
     "data": {
      "text/plain": [
       "2"
      ]
     },
     "execution_count": 29,
     "metadata": {},
     "output_type": "execute_result"
    }
   ],
   "source": [
    "np.argmax(predictions_single[0])"
   ]
  },
  {
   "cell_type": "markdown",
   "metadata": {
    "id": "YFc2HbEVCaXd"
   },
   "source": [
    "Y el modelo predice una etiqueta de 2."
   ]
  }
 ],
 "metadata": {
  "colab": {
   "collapsed_sections": [],
   "name": "classification.ipynb",
   "toc_visible": true
  },
  "kernelspec": {
   "display_name": "Python 3",
   "name": "python3"
  },
  "language_info": {
   "codemirror_mode": {
    "name": "ipython",
    "version": 3
   },
   "file_extension": ".py",
   "mimetype": "text/x-python",
   "name": "python",
   "nbconvert_exporter": "python",
   "pygments_lexer": "ipython3",
   "version": "3.9.10"
  }
 },
 "nbformat": 4,
 "nbformat_minor": 0
}
