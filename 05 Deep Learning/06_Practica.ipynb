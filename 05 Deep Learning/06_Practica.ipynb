{
 "cells": [
  {
   "cell_type": "markdown",
   "metadata": {},
   "source": [
    "## Imports"
   ]
  },
  {
   "cell_type": "code",
   "execution_count": 1,
   "metadata": {},
   "outputs": [],
   "source": [
    "import numpy as np\n",
    "import pandas as pd\n",
    "import matplotlib.pyplot as plt\n",
    "import tensorflow as tf\n",
    "from tensorflow import keras as kr\n",
    "from tensorflow.keras.layers import Normalization, IntegerLookup, StringLookup"
   ]
  },
  {
   "cell_type": "markdown",
   "metadata": {},
   "source": [
    "## Data"
   ]
  },
  {
   "cell_type": "code",
   "execution_count": 2,
   "metadata": {},
   "outputs": [],
   "source": [
    "dataframe = pd.read_csv(\"06_Data/pokemon.csv\")"
   ]
  },
  {
   "cell_type": "markdown",
   "metadata": {},
   "source": [
    "Shape:"
   ]
  },
  {
   "cell_type": "code",
   "execution_count": 3,
   "metadata": {},
   "outputs": [
    {
     "data": {
      "text/plain": [
       "(801, 41)"
      ]
     },
     "execution_count": 3,
     "metadata": {},
     "output_type": "execute_result"
    }
   ],
   "source": [
    "dataframe.shape"
   ]
  },
  {
   "cell_type": "markdown",
   "metadata": {},
   "source": [
    "Visualization:"
   ]
  },
  {
   "cell_type": "code",
   "execution_count": 4,
   "metadata": {},
   "outputs": [
    {
     "data": {
      "text/plain": [
       "\"['Overgrow', 'Chlorophyll']\""
      ]
     },
     "execution_count": 4,
     "metadata": {},
     "output_type": "execute_result"
    }
   ],
   "source": [
    "dataframe.abilities[0]"
   ]
  },
  {
   "cell_type": "code",
   "execution_count": 5,
   "metadata": {},
   "outputs": [
    {
     "data": {
      "text/plain": [
       "Index(['abilities', 'against_bug', 'against_dark', 'against_dragon',\n",
       "       'against_electric', 'against_fairy', 'against_fight', 'against_fire',\n",
       "       'against_flying', 'against_ghost', 'against_grass', 'against_ground',\n",
       "       'against_ice', 'against_normal', 'against_poison', 'against_psychic',\n",
       "       'against_rock', 'against_steel', 'against_water', 'attack',\n",
       "       'base_egg_steps', 'base_happiness', 'base_total', 'capture_rate',\n",
       "       'classfication', 'defense', 'experience_growth', 'height_m', 'hp',\n",
       "       'japanese_name', 'name', 'percentage_male', 'pokedex_number',\n",
       "       'sp_attack', 'sp_defense', 'speed', 'type1', 'type2', 'weight_kg',\n",
       "       'generation', 'is_legendary'],\n",
       "      dtype='object')"
      ]
     },
     "execution_count": 5,
     "metadata": {},
     "output_type": "execute_result"
    }
   ],
   "source": [
    "dataframe.columns"
   ]
  },
  {
   "cell_type": "markdown",
   "metadata": {},
   "source": [
    "Definimos qué queremos predecir en base a qué.  \n",
    "Intentaremos predecir si un pokemon es __legendario__ en base a __base_egg_steps__, __base_total__ y __experience_growth__."
   ]
  },
  {
   "cell_type": "markdown",
   "metadata": {},
   "source": [
    "Dividimos el data en data de entrenamiento y de validación."
   ]
  },
  {
   "cell_type": "code",
   "execution_count": 6,
   "metadata": {},
   "outputs": [
    {
     "name": "stdout",
     "output_type": "stream",
     "text": [
      "Using 641 samples for training and 160 for validation\n"
     ]
    }
   ],
   "source": [
    "df_val = dataframe.sample(frac=0.2, random_state=413)\n",
    "df_train = dataframe.drop(df_val.index)\n",
    "\n",
    "print(\n",
    "    \"Using %d samples for training and %d for validation\"\n",
    "    % (len(df_train), len(df_val))\n",
    ")"
   ]
  },
  {
   "cell_type": "markdown",
   "metadata": {},
   "source": [
    "Pasamos los datos a un tipo que tensorflow pueda entender."
   ]
  },
  {
   "cell_type": "code",
   "execution_count": 7,
   "metadata": {},
   "outputs": [],
   "source": [
    "def dataframe_to_dataset(dataframe):\n",
    "    # Seleccionamos aquí las columnas que vamos a utilizar\n",
    "    dataframe = dataframe[[\"base_egg_steps\", \"base_total\", \"experience_growth\", \"is_legendary\"]]\n",
    "    labels = dataframe.pop(\"is_legendary\") # Lo que queremos predecir\n",
    "    ds = tf.data.Dataset.from_tensor_slices((dict(dataframe), labels))\n",
    "    ds = ds.shuffle(buffer_size=len(dataframe))\n",
    "    return ds\n",
    "\n",
    "ds_train = dataframe_to_dataset(df_train)\n",
    "ds_val = dataframe_to_dataset(df_val)\n"
   ]
  },
  {
   "cell_type": "code",
   "execution_count": 8,
   "metadata": {},
   "outputs": [
    {
     "name": "stdout",
     "output_type": "stream",
     "text": [
      "Input: {'base_egg_steps': <tf.Tensor: shape=(), dtype=int64, numpy=10240>, 'base_total': <tf.Tensor: shape=(), dtype=int64, numpy=360>, 'experience_growth': <tf.Tensor: shape=(), dtype=int64, numpy=1250000>}\n",
      "Target: tf.Tensor(0, shape=(), dtype=int64)\n"
     ]
    }
   ],
   "source": [
    "for x, y in ds_train.take(1):\n",
    "    print(\"Input:\", x)\n",
    "    print(\"Target:\", y)"
   ]
  },
  {
   "cell_type": "markdown",
   "metadata": {},
   "source": [
    "Batch de los datasets"
   ]
  },
  {
   "cell_type": "code",
   "execution_count": 9,
   "metadata": {},
   "outputs": [],
   "source": [
    "ds_train = ds_train.batch(32)\n",
    "ds_val = ds_val.batch(32)"
   ]
  },
  {
   "cell_type": "markdown",
   "metadata": {},
   "source": [
    "## Procesamiento con Keras"
   ]
  },
  {
   "cell_type": "code",
   "execution_count": 10,
   "metadata": {},
   "outputs": [],
   "source": [
    "def encode_numerical_feature(feature, name, dataset):\n",
    "    # Create a Normalization layer for our feature\n",
    "    normalizer = kr.layers.Normalization()\n",
    "\n",
    "    # Prepare a Dataset that only yields our feature\n",
    "    feature_ds = dataset.map(lambda x, y: x[name])\n",
    "    feature_ds = feature_ds.map(lambda x: tf.expand_dims(x, -1))\n",
    "\n",
    "    # Learn the statistics of the data\n",
    "    normalizer.adapt(feature_ds)\n",
    "\n",
    "    # Normalize the input feature\n",
    "    encoded_feature = normalizer(feature)\n",
    "    return encoded_feature\n",
    "\n",
    "def encode_categorical_feature(feature, name, dataset, is_string):\n",
    "    lookup_class = StringLookup if is_string else IntegerLookup\n",
    "    # Create a lookup layer which will turn strings into integer indices\n",
    "    lookup = lookup_class(output_mode=\"binary\")\n",
    "\n",
    "    # Prepare a Dataset that only yields our feature\n",
    "    feature_ds = dataset.map(lambda x, y: x[name])\n",
    "    feature_ds = feature_ds.map(lambda x: tf.expand_dims(x, -1))\n",
    "\n",
    "    # Learn the set of possible string values and assign them a fixed integer index\n",
    "    lookup.adapt(feature_ds)\n",
    "\n",
    "    # Turn the string input into integer indices\n",
    "    encoded_feature = lookup(feature)\n",
    "    return encoded_feature"
   ]
  },
  {
   "cell_type": "markdown",
   "metadata": {},
   "source": [
    "## Modelo"
   ]
  },
  {
   "cell_type": "code",
   "execution_count": 11,
   "metadata": {},
   "outputs": [],
   "source": [
    "# Datos numéricos\n",
    "base_egg_steps = kr.Input(shape=(1,), name=\"base_egg_steps\")\n",
    "base_total = kr.Input(shape=(1,), name=\"base_total\")\n",
    "experience_growth = kr.Input(shape=(1,), name=\"experience_growth\")\n",
    "\n",
    "# Lista con todos los inputs\n",
    "all_inputs =[\n",
    "    base_egg_steps,\n",
    "    base_total,\n",
    "    experience_growth,\n",
    "]\n",
    "\n",
    "# Datos numéricos encoded\n",
    "base_egg_steps_encoded = encode_numerical_feature(base_egg_steps, \"base_egg_steps\", ds_train)\n",
    "base_total_encoded = encode_numerical_feature(base_total, \"base_total\", ds_train)\n",
    "experience_growth_encoded = encode_numerical_feature(experience_growth, \"experience_growth\", ds_train)\n",
    "\n",
    "all_features = kr.layers.concatenate(\n",
    "    [\n",
    "        base_egg_steps_encoded,\n",
    "        base_total_encoded,\n",
    "        experience_growth_encoded,\n",
    "    ]\n",
    ")\n",
    "\n",
    "x = kr.layers.Dense(32, activation=\"relu\")(all_features)\n",
    "x = kr.layers.Dropout(0.3)(x)\n",
    "output = kr.layers.Dense(1, activation=\"sigmoid\")(x)\n",
    "model = kr.Model(all_inputs, output)\n",
    "model.compile(\"adam\", \"binary_crossentropy\", metrics=[\"accuracy\"])"
   ]
  },
  {
   "cell_type": "markdown",
   "metadata": {},
   "source": [
    "## Entrenamiento del Modelo"
   ]
  },
  {
   "cell_type": "code",
   "execution_count": 12,
   "metadata": {},
   "outputs": [
    {
     "name": "stdout",
     "output_type": "stream",
     "text": [
      "Epoch 1/100\n",
      "21/21 [==============================] - 1s 8ms/step - loss: 0.6007 - accuracy: 0.8331 - val_loss: 0.5498 - val_accuracy: 0.9187\n",
      "Epoch 2/100\n",
      "21/21 [==============================] - 0s 2ms/step - loss: 0.5142 - accuracy: 0.8908 - val_loss: 0.4646 - val_accuracy: 0.9187\n",
      "Epoch 3/100\n",
      "21/21 [==============================] - 0s 2ms/step - loss: 0.4524 - accuracy: 0.9204 - val_loss: 0.3993 - val_accuracy: 0.9187\n",
      "Epoch 4/100\n",
      "21/21 [==============================] - 0s 2ms/step - loss: 0.3893 - accuracy: 0.9251 - val_loss: 0.3445 - val_accuracy: 0.9187\n",
      "Epoch 5/100\n",
      "21/21 [==============================] - 0s 2ms/step - loss: 0.3402 - accuracy: 0.9314 - val_loss: 0.2987 - val_accuracy: 0.9187\n",
      "Epoch 6/100\n",
      "21/21 [==============================] - 0s 2ms/step - loss: 0.3009 - accuracy: 0.9407 - val_loss: 0.2606 - val_accuracy: 0.9500\n",
      "Epoch 7/100\n",
      "21/21 [==============================] - 0s 2ms/step - loss: 0.2678 - accuracy: 0.9548 - val_loss: 0.2272 - val_accuracy: 0.9688\n",
      "Epoch 8/100\n",
      "21/21 [==============================] - 0s 2ms/step - loss: 0.2341 - accuracy: 0.9657 - val_loss: 0.1999 - val_accuracy: 0.9750\n",
      "Epoch 9/100\n",
      "21/21 [==============================] - 0s 2ms/step - loss: 0.2122 - accuracy: 0.9594 - val_loss: 0.1767 - val_accuracy: 0.9937\n",
      "Epoch 10/100\n",
      "21/21 [==============================] - 0s 2ms/step - loss: 0.1944 - accuracy: 0.9594 - val_loss: 0.1570 - val_accuracy: 0.9937\n",
      "Epoch 11/100\n",
      "21/21 [==============================] - 0s 2ms/step - loss: 0.1764 - accuracy: 0.9750 - val_loss: 0.1401 - val_accuracy: 0.9937\n",
      "Epoch 12/100\n",
      "21/21 [==============================] - 0s 2ms/step - loss: 0.1640 - accuracy: 0.9750 - val_loss: 0.1263 - val_accuracy: 0.9937\n",
      "Epoch 13/100\n",
      "21/21 [==============================] - 0s 2ms/step - loss: 0.1484 - accuracy: 0.9797 - val_loss: 0.1139 - val_accuracy: 0.9937\n",
      "Epoch 14/100\n",
      "21/21 [==============================] - 0s 2ms/step - loss: 0.1311 - accuracy: 0.9797 - val_loss: 0.1050 - val_accuracy: 0.9937\n",
      "Epoch 15/100\n",
      "21/21 [==============================] - 0s 2ms/step - loss: 0.1241 - accuracy: 0.9828 - val_loss: 0.0960 - val_accuracy: 0.9937\n",
      "Epoch 16/100\n",
      "21/21 [==============================] - 0s 2ms/step - loss: 0.1160 - accuracy: 0.9828 - val_loss: 0.0886 - val_accuracy: 0.9937\n",
      "Epoch 17/100\n",
      "21/21 [==============================] - 0s 2ms/step - loss: 0.1199 - accuracy: 0.9813 - val_loss: 0.0825 - val_accuracy: 0.9937\n",
      "Epoch 18/100\n",
      "21/21 [==============================] - 0s 2ms/step - loss: 0.1082 - accuracy: 0.9860 - val_loss: 0.0768 - val_accuracy: 0.9937\n",
      "Epoch 19/100\n",
      "21/21 [==============================] - 0s 2ms/step - loss: 0.1010 - accuracy: 0.9828 - val_loss: 0.0726 - val_accuracy: 0.9937\n",
      "Epoch 20/100\n",
      "21/21 [==============================] - 0s 2ms/step - loss: 0.0991 - accuracy: 0.9844 - val_loss: 0.0692 - val_accuracy: 0.9937\n",
      "Epoch 21/100\n",
      "21/21 [==============================] - 0s 2ms/step - loss: 0.1032 - accuracy: 0.9797 - val_loss: 0.0657 - val_accuracy: 0.9937\n",
      "Epoch 22/100\n",
      "21/21 [==============================] - 0s 2ms/step - loss: 0.0933 - accuracy: 0.9860 - val_loss: 0.0633 - val_accuracy: 0.9937\n",
      "Epoch 23/100\n",
      "21/21 [==============================] - 0s 2ms/step - loss: 0.0947 - accuracy: 0.9860 - val_loss: 0.0608 - val_accuracy: 0.9937\n",
      "Epoch 24/100\n",
      "21/21 [==============================] - 0s 2ms/step - loss: 0.0922 - accuracy: 0.9828 - val_loss: 0.0593 - val_accuracy: 0.9937\n",
      "Epoch 25/100\n",
      "21/21 [==============================] - 0s 2ms/step - loss: 0.0834 - accuracy: 0.9860 - val_loss: 0.0574 - val_accuracy: 0.9937\n",
      "Epoch 26/100\n",
      "21/21 [==============================] - 0s 2ms/step - loss: 0.0819 - accuracy: 0.9844 - val_loss: 0.0560 - val_accuracy: 0.9937\n",
      "Epoch 27/100\n",
      "21/21 [==============================] - 0s 2ms/step - loss: 0.0776 - accuracy: 0.9875 - val_loss: 0.0544 - val_accuracy: 0.9937\n",
      "Epoch 28/100\n",
      "21/21 [==============================] - 0s 2ms/step - loss: 0.0812 - accuracy: 0.9844 - val_loss: 0.0538 - val_accuracy: 0.9937\n",
      "Epoch 29/100\n",
      "21/21 [==============================] - 0s 2ms/step - loss: 0.0741 - accuracy: 0.9828 - val_loss: 0.0521 - val_accuracy: 0.9937\n",
      "Epoch 30/100\n",
      "21/21 [==============================] - 0s 2ms/step - loss: 0.0702 - accuracy: 0.9844 - val_loss: 0.0504 - val_accuracy: 0.9937\n",
      "Epoch 31/100\n",
      "21/21 [==============================] - 0s 2ms/step - loss: 0.0677 - accuracy: 0.9844 - val_loss: 0.0498 - val_accuracy: 0.9937\n",
      "Epoch 32/100\n",
      "21/21 [==============================] - 0s 2ms/step - loss: 0.0723 - accuracy: 0.9860 - val_loss: 0.0489 - val_accuracy: 0.9937\n",
      "Epoch 33/100\n",
      "21/21 [==============================] - 0s 2ms/step - loss: 0.0718 - accuracy: 0.9860 - val_loss: 0.0482 - val_accuracy: 0.9937\n",
      "Epoch 34/100\n",
      "21/21 [==============================] - 0s 2ms/step - loss: 0.0756 - accuracy: 0.9860 - val_loss: 0.0479 - val_accuracy: 0.9937\n",
      "Epoch 35/100\n",
      "21/21 [==============================] - 0s 2ms/step - loss: 0.0690 - accuracy: 0.9844 - val_loss: 0.0485 - val_accuracy: 0.9937\n",
      "Epoch 36/100\n",
      "21/21 [==============================] - 0s 2ms/step - loss: 0.0721 - accuracy: 0.9860 - val_loss: 0.0491 - val_accuracy: 0.9937\n",
      "Epoch 37/100\n",
      "21/21 [==============================] - 0s 2ms/step - loss: 0.0646 - accuracy: 0.9860 - val_loss: 0.0483 - val_accuracy: 0.9937\n",
      "Epoch 38/100\n",
      "21/21 [==============================] - 0s 2ms/step - loss: 0.0668 - accuracy: 0.9860 - val_loss: 0.0475 - val_accuracy: 0.9937\n",
      "Epoch 39/100\n",
      "21/21 [==============================] - 0s 2ms/step - loss: 0.0628 - accuracy: 0.9860 - val_loss: 0.0471 - val_accuracy: 0.9937\n",
      "Epoch 40/100\n",
      "21/21 [==============================] - 0s 2ms/step - loss: 0.0636 - accuracy: 0.9860 - val_loss: 0.0475 - val_accuracy: 0.9937\n",
      "Epoch 41/100\n",
      "21/21 [==============================] - 0s 2ms/step - loss: 0.0573 - accuracy: 0.9860 - val_loss: 0.0473 - val_accuracy: 0.9937\n",
      "Epoch 42/100\n",
      "21/21 [==============================] - 0s 2ms/step - loss: 0.0682 - accuracy: 0.9860 - val_loss: 0.0468 - val_accuracy: 0.9937\n",
      "Epoch 43/100\n",
      "21/21 [==============================] - 0s 2ms/step - loss: 0.0568 - accuracy: 0.9828 - val_loss: 0.0454 - val_accuracy: 0.9937\n",
      "Epoch 44/100\n",
      "21/21 [==============================] - 0s 2ms/step - loss: 0.0608 - accuracy: 0.9860 - val_loss: 0.0451 - val_accuracy: 0.9937\n",
      "Epoch 45/100\n",
      "21/21 [==============================] - 0s 2ms/step - loss: 0.0613 - accuracy: 0.9797 - val_loss: 0.0451 - val_accuracy: 0.9937\n",
      "Epoch 46/100\n",
      "21/21 [==============================] - 0s 2ms/step - loss: 0.0533 - accuracy: 0.9875 - val_loss: 0.0445 - val_accuracy: 0.9937\n",
      "Epoch 47/100\n",
      "21/21 [==============================] - 0s 2ms/step - loss: 0.0581 - accuracy: 0.9875 - val_loss: 0.0443 - val_accuracy: 0.9937\n",
      "Epoch 48/100\n",
      "21/21 [==============================] - 0s 2ms/step - loss: 0.0636 - accuracy: 0.9844 - val_loss: 0.0450 - val_accuracy: 0.9937\n",
      "Epoch 49/100\n",
      "21/21 [==============================] - 0s 2ms/step - loss: 0.0549 - accuracy: 0.9844 - val_loss: 0.0440 - val_accuracy: 0.9937\n",
      "Epoch 50/100\n",
      "21/21 [==============================] - 0s 2ms/step - loss: 0.0539 - accuracy: 0.9860 - val_loss: 0.0441 - val_accuracy: 0.9937\n",
      "Epoch 51/100\n",
      "21/21 [==============================] - 0s 2ms/step - loss: 0.0659 - accuracy: 0.9844 - val_loss: 0.0445 - val_accuracy: 0.9937\n",
      "Epoch 52/100\n",
      "21/21 [==============================] - 0s 2ms/step - loss: 0.0564 - accuracy: 0.9860 - val_loss: 0.0435 - val_accuracy: 0.9937\n",
      "Epoch 53/100\n",
      "21/21 [==============================] - 0s 2ms/step - loss: 0.0568 - accuracy: 0.9860 - val_loss: 0.0442 - val_accuracy: 0.9937\n",
      "Epoch 54/100\n",
      "21/21 [==============================] - 0s 2ms/step - loss: 0.0461 - accuracy: 0.9860 - val_loss: 0.0451 - val_accuracy: 0.9937\n",
      "Epoch 55/100\n",
      "21/21 [==============================] - 0s 2ms/step - loss: 0.0581 - accuracy: 0.9860 - val_loss: 0.0456 - val_accuracy: 0.9937\n",
      "Epoch 56/100\n",
      "21/21 [==============================] - 0s 2ms/step - loss: 0.0570 - accuracy: 0.9844 - val_loss: 0.0455 - val_accuracy: 0.9937\n",
      "Epoch 57/100\n",
      "21/21 [==============================] - 0s 2ms/step - loss: 0.0521 - accuracy: 0.9860 - val_loss: 0.0448 - val_accuracy: 0.9937\n",
      "Epoch 58/100\n",
      "21/21 [==============================] - 0s 2ms/step - loss: 0.0524 - accuracy: 0.9844 - val_loss: 0.0448 - val_accuracy: 0.9937\n",
      "Epoch 59/100\n",
      "21/21 [==============================] - 0s 2ms/step - loss: 0.0543 - accuracy: 0.9860 - val_loss: 0.0441 - val_accuracy: 0.9937\n",
      "Epoch 60/100\n",
      "21/21 [==============================] - 0s 2ms/step - loss: 0.0581 - accuracy: 0.9860 - val_loss: 0.0441 - val_accuracy: 0.9937\n",
      "Epoch 61/100\n",
      "21/21 [==============================] - 0s 2ms/step - loss: 0.0578 - accuracy: 0.9860 - val_loss: 0.0451 - val_accuracy: 0.9937\n",
      "Epoch 62/100\n",
      "21/21 [==============================] - 0s 2ms/step - loss: 0.0471 - accuracy: 0.9860 - val_loss: 0.0451 - val_accuracy: 0.9937\n",
      "Epoch 63/100\n",
      "21/21 [==============================] - 0s 2ms/step - loss: 0.0584 - accuracy: 0.9860 - val_loss: 0.0457 - val_accuracy: 0.9937\n",
      "Epoch 64/100\n",
      "21/21 [==============================] - 0s 2ms/step - loss: 0.0527 - accuracy: 0.9875 - val_loss: 0.0463 - val_accuracy: 0.9937\n",
      "Epoch 65/100\n",
      "21/21 [==============================] - 0s 2ms/step - loss: 0.0563 - accuracy: 0.9860 - val_loss: 0.0462 - val_accuracy: 0.9937\n",
      "Epoch 66/100\n",
      "21/21 [==============================] - 0s 2ms/step - loss: 0.0443 - accuracy: 0.9891 - val_loss: 0.0470 - val_accuracy: 0.9937\n",
      "Epoch 67/100\n",
      "21/21 [==============================] - 0s 2ms/step - loss: 0.0448 - accuracy: 0.9844 - val_loss: 0.0476 - val_accuracy: 0.9937\n",
      "Epoch 68/100\n",
      "21/21 [==============================] - 0s 2ms/step - loss: 0.0530 - accuracy: 0.9875 - val_loss: 0.0467 - val_accuracy: 0.9937\n",
      "Epoch 69/100\n",
      "21/21 [==============================] - 0s 2ms/step - loss: 0.0459 - accuracy: 0.9875 - val_loss: 0.0446 - val_accuracy: 0.9937\n",
      "Epoch 70/100\n",
      "21/21 [==============================] - 0s 2ms/step - loss: 0.0577 - accuracy: 0.9860 - val_loss: 0.0443 - val_accuracy: 0.9937\n",
      "Epoch 71/100\n",
      "21/21 [==============================] - 0s 2ms/step - loss: 0.0522 - accuracy: 0.9828 - val_loss: 0.0436 - val_accuracy: 0.9937\n",
      "Epoch 72/100\n",
      "21/21 [==============================] - 0s 2ms/step - loss: 0.0594 - accuracy: 0.9860 - val_loss: 0.0446 - val_accuracy: 0.9937\n",
      "Epoch 73/100\n",
      "21/21 [==============================] - 0s 2ms/step - loss: 0.0552 - accuracy: 0.9860 - val_loss: 0.0452 - val_accuracy: 0.9937\n",
      "Epoch 74/100\n",
      "21/21 [==============================] - 0s 2ms/step - loss: 0.0438 - accuracy: 0.9860 - val_loss: 0.0447 - val_accuracy: 0.9937\n",
      "Epoch 75/100\n",
      "21/21 [==============================] - 0s 2ms/step - loss: 0.0548 - accuracy: 0.9875 - val_loss: 0.0454 - val_accuracy: 0.9937\n",
      "Epoch 76/100\n",
      "21/21 [==============================] - 0s 2ms/step - loss: 0.0541 - accuracy: 0.9860 - val_loss: 0.0453 - val_accuracy: 0.9937\n",
      "Epoch 77/100\n",
      "21/21 [==============================] - 0s 2ms/step - loss: 0.0498 - accuracy: 0.9844 - val_loss: 0.0449 - val_accuracy: 0.9937\n",
      "Epoch 78/100\n",
      "21/21 [==============================] - 0s 2ms/step - loss: 0.0414 - accuracy: 0.9875 - val_loss: 0.0447 - val_accuracy: 0.9937\n",
      "Epoch 79/100\n",
      "21/21 [==============================] - 0s 2ms/step - loss: 0.0505 - accuracy: 0.9875 - val_loss: 0.0459 - val_accuracy: 0.9937\n",
      "Epoch 80/100\n",
      "21/21 [==============================] - 0s 2ms/step - loss: 0.0459 - accuracy: 0.9875 - val_loss: 0.0456 - val_accuracy: 0.9937\n",
      "Epoch 81/100\n",
      "21/21 [==============================] - 0s 2ms/step - loss: 0.0534 - accuracy: 0.9860 - val_loss: 0.0456 - val_accuracy: 0.9937\n",
      "Epoch 82/100\n",
      "21/21 [==============================] - 0s 2ms/step - loss: 0.0440 - accuracy: 0.9875 - val_loss: 0.0455 - val_accuracy: 0.9937\n",
      "Epoch 83/100\n",
      "21/21 [==============================] - 0s 2ms/step - loss: 0.0435 - accuracy: 0.9860 - val_loss: 0.0450 - val_accuracy: 0.9937\n",
      "Epoch 84/100\n",
      "21/21 [==============================] - 0s 2ms/step - loss: 0.0575 - accuracy: 0.9860 - val_loss: 0.0452 - val_accuracy: 0.9937\n",
      "Epoch 85/100\n",
      "21/21 [==============================] - 0s 2ms/step - loss: 0.0532 - accuracy: 0.9860 - val_loss: 0.0457 - val_accuracy: 0.9937\n",
      "Epoch 86/100\n",
      "21/21 [==============================] - 0s 2ms/step - loss: 0.0466 - accuracy: 0.9875 - val_loss: 0.0454 - val_accuracy: 0.9937\n",
      "Epoch 87/100\n",
      "21/21 [==============================] - 0s 2ms/step - loss: 0.0489 - accuracy: 0.9860 - val_loss: 0.0455 - val_accuracy: 0.9937\n",
      "Epoch 88/100\n",
      "21/21 [==============================] - 0s 2ms/step - loss: 0.0504 - accuracy: 0.9860 - val_loss: 0.0449 - val_accuracy: 0.9937\n",
      "Epoch 89/100\n",
      "21/21 [==============================] - 0s 2ms/step - loss: 0.0538 - accuracy: 0.9844 - val_loss: 0.0457 - val_accuracy: 0.9937\n",
      "Epoch 90/100\n",
      "21/21 [==============================] - 0s 2ms/step - loss: 0.0424 - accuracy: 0.9875 - val_loss: 0.0449 - val_accuracy: 0.9937\n",
      "Epoch 91/100\n",
      "21/21 [==============================] - 0s 2ms/step - loss: 0.0475 - accuracy: 0.9844 - val_loss: 0.0433 - val_accuracy: 0.9937\n",
      "Epoch 92/100\n",
      "21/21 [==============================] - 0s 2ms/step - loss: 0.0420 - accuracy: 0.9875 - val_loss: 0.0444 - val_accuracy: 0.9937\n",
      "Epoch 93/100\n",
      "21/21 [==============================] - 0s 2ms/step - loss: 0.0501 - accuracy: 0.9875 - val_loss: 0.0450 - val_accuracy: 0.9937\n",
      "Epoch 94/100\n",
      "21/21 [==============================] - 0s 2ms/step - loss: 0.0455 - accuracy: 0.9875 - val_loss: 0.0484 - val_accuracy: 0.9937\n",
      "Epoch 95/100\n",
      "21/21 [==============================] - 0s 2ms/step - loss: 0.0494 - accuracy: 0.9860 - val_loss: 0.0486 - val_accuracy: 0.9937\n",
      "Epoch 96/100\n",
      "21/21 [==============================] - 0s 2ms/step - loss: 0.0462 - accuracy: 0.9828 - val_loss: 0.0489 - val_accuracy: 0.9937\n",
      "Epoch 97/100\n",
      "21/21 [==============================] - 0s 2ms/step - loss: 0.0479 - accuracy: 0.9875 - val_loss: 0.0485 - val_accuracy: 0.9937\n",
      "Epoch 98/100\n",
      "21/21 [==============================] - 0s 2ms/step - loss: 0.0519 - accuracy: 0.9860 - val_loss: 0.0479 - val_accuracy: 0.9937\n",
      "Epoch 99/100\n",
      "21/21 [==============================] - 0s 2ms/step - loss: 0.0444 - accuracy: 0.9875 - val_loss: 0.0477 - val_accuracy: 0.9937\n",
      "Epoch 100/100\n",
      "21/21 [==============================] - 0s 2ms/step - loss: 0.0468 - accuracy: 0.9860 - val_loss: 0.0477 - val_accuracy: 0.9937\n"
     ]
    },
    {
     "data": {
      "text/plain": [
       "<keras.callbacks.History at 0x1ed3ba01c10>"
      ]
     },
     "execution_count": 12,
     "metadata": {},
     "output_type": "execute_result"
    }
   ],
   "source": [
    "model.fit(ds_train, epochs = 100, validation_data = ds_val)"
   ]
  },
  {
   "cell_type": "code",
   "execution_count": 13,
   "metadata": {},
   "outputs": [
    {
     "name": "stdout",
     "output_type": "stream",
     "text": [
      "Hay un 26.5 de posibilidades de que este Pokemon sea legendario.\n"
     ]
    }
   ],
   "source": [
    "pok = pok = dataframe.loc[dataframe.name == \"Tyranitar\"]\n",
    "\n",
    "sample = {\n",
    "    \"base_egg_steps\": pok.base_egg_steps,\n",
    "    \"base_total\": pok.base_total,\n",
    "    \"experience_growth\": pok.experience_growth\n",
    "}\n",
    "\n",
    "input_dict = {name: tf.convert_to_tensor([value]) for name, value in sample.items()}\n",
    "predictions = model.predict(input_dict)\n",
    "\n",
    "print(\n",
    "    \"Hay un %.1f de posibilidades de que este Pokemon sea legendario.\" % (100 * predictions[0][0],)\n",
    ")"
   ]
  }
 ],
 "metadata": {
  "interpreter": {
   "hash": "69eb92836b941e979072a76c7fcfffe5419cca933cedd02cfafbdfca1a93358c"
  },
  "kernelspec": {
   "display_name": "Python 3.9.10 64-bit",
   "language": "python",
   "name": "python3"
  },
  "language_info": {
   "codemirror_mode": {
    "name": "ipython",
    "version": 3
   },
   "file_extension": ".py",
   "mimetype": "text/x-python",
   "name": "python",
   "nbconvert_exporter": "python",
   "pygments_lexer": "ipython3",
   "version": "3.9.10"
  },
  "orig_nbformat": 4
 },
 "nbformat": 4,
 "nbformat_minor": 2
}
