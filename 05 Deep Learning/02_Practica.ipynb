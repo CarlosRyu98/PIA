{
 "cells": [
  {
   "cell_type": "markdown",
   "metadata": {},
   "source": [
    "---\n",
    "Imports"
   ]
  },
  {
   "cell_type": "code",
   "execution_count": null,
   "metadata": {},
   "outputs": [],
   "source": [
    "import numpy as np\n",
    "import matplotlib.pyplot as plt\n",
    "import h5py\n",
    "import tensorflow\n",
    "from tensorflow import keras as kr"
   ]
  },
  {
   "cell_type": "markdown",
   "metadata": {},
   "source": [
    "---\n",
    "# Función de activación custom\n",
    "\n",
    "Crear una función de activación custom es sencillo, tan solo hay que crear una función como haríamos siempre.  \n",
    "Una vez definida esta función correctamente solo tendremos que introducirla en \"activation\", en vez de las que vienen por defecto (relu, sigmoid, etc...) a la hora de definir el modelo.\n"
   ]
  },
  {
   "cell_type": "code",
   "execution_count": null,
   "metadata": {},
   "outputs": [],
   "source": [
    "# Función de activación customizada que devuelve la media entre la relu y la sigmoid\n",
    "def custom_activation1(input):\n",
    "    return (kr.activations.relu(input) + kr.activations.sigmoid(input)) / 2\n",
    "\n",
    "# Función de activación customizada que devuelve la diferencia entre softmax y softplus\n",
    "def custom_activation2(input):\n",
    "    return kr.activations.softmax(input) - kr.activations.softplus(input)\n",
    "\n",
    "# Función de activación customizada que aplica la función relu al resultado de la función selu\n",
    "def custom_activation3(input):\n",
    "    return kr.activations.relu(kr.activations.selu(input))"
   ]
  },
  {
   "cell_type": "markdown",
   "metadata": {},
   "source": [
    "---\n",
    "#### Carga de datos"
   ]
  },
  {
   "cell_type": "code",
   "execution_count": null,
   "metadata": {},
   "outputs": [],
   "source": [
    "input_data = np.array([[0, 0], [0, 1], [1, 0], [1, 1]])\n",
    "target_data = np.array([[0], [1], [1], [0]])"
   ]
  },
  {
   "cell_type": "markdown",
   "metadata": {},
   "source": [
    "#### Definición del Modelo"
   ]
  },
  {
   "cell_type": "code",
   "execution_count": null,
   "metadata": {},
   "outputs": [],
   "source": [
    "model = kr.models.Sequential()\n",
    "model.add(kr.layers.Dense(32, activation=custom_activation1))\n",
    "model.add(kr.layers.Dense(16, activation=custom_activation3))\n",
    "model.add(kr.layers.Dense(1, activation=custom_activation2))\n"
   ]
  },
  {
   "cell_type": "markdown",
   "metadata": {},
   "source": [
    "#### Compilación del Modelo"
   ]
  },
  {
   "cell_type": "code",
   "execution_count": null,
   "metadata": {},
   "outputs": [],
   "source": [
    "model.compile   (loss='mean_squared_error',\n",
    "                optimizer='adam',\n",
    "                metrics=['binary_accuracy'])"
   ]
  },
  {
   "cell_type": "markdown",
   "metadata": {},
   "source": [
    "#### Entrenamiento del Modelo"
   ]
  },
  {
   "cell_type": "code",
   "execution_count": null,
   "metadata": {},
   "outputs": [],
   "source": [
    "model.fit(input_data, target_data, epochs=1000)"
   ]
  },
  {
   "cell_type": "markdown",
   "metadata": {},
   "source": [
    "#### Evaluación del Modelo"
   ]
  },
  {
   "cell_type": "code",
   "execution_count": null,
   "metadata": {},
   "outputs": [],
   "source": [
    "model.evaluate(input_data, target_data)"
   ]
  },
  {
   "cell_type": "markdown",
   "metadata": {},
   "source": [
    "#### Predicción del Modelo"
   ]
  },
  {
   "cell_type": "code",
   "execution_count": null,
   "metadata": {},
   "outputs": [],
   "source": [
    "print(model.predict(input_data).round())"
   ]
  },
  {
   "cell_type": "markdown",
   "metadata": {},
   "source": [
    "---\n",
    "# Capa Conv 3D\n",
    "\n",
    "Una capa convolucional es una capa que aplica un __filtro o varios__ sobre lo que se la ha dado, (véase filtros y máscaras del tema anterior). Una capa Conv3D hace esto pero en imágenes en 3 dimensiones (más una capa de canal).\n",
    "\n",
    "Argumentos importantes:\n",
    "* filters: el número de filtros.\n",
    "* kernel_size: dimensiones del kernel (\"máscara\").\n",
    "* activation: función de activación.\n",
    "\n",
    "\n",
    "[Explicación Capa Conv IBM](https://developer.ibm.com/es/articles/cc-convolutional-neural-network-vision-recognition/),  \n",
    "[Vídeos de DotCSV sobre Capas Convs](https://www.youtube.com/playlist?list=PL-Ogd76BhmcBaUXZGPJkmQpLgrBgGZ7v0),  \n",
    "[API de Keras](https://keras.io/api/layers/convolution_layers/convolution3d/),  \n",
    "[Geeks for Geeks Conv2D con todos los argumentos](https://www.geeksforgeeks.org/keras-conv2d-class/)"
   ]
  },
  {
   "cell_type": "markdown",
   "metadata": {},
   "source": [
    "#### Código de preparación"
   ]
  },
  {
   "cell_type": "markdown",
   "metadata": {},
   "source": [
    "Configuración del modelo"
   ]
  },
  {
   "cell_type": "code",
   "execution_count": null,
   "metadata": {},
   "outputs": [],
   "source": [
    "# -- Preparatory code --\n",
    "# Model configuration\n",
    "batch_size = 100\n",
    "no_epochs = 5\n",
    "learning_rate = 0.005\n",
    "no_classes = 10\n",
    "validation_split = 0.2\n",
    "verbosity = 1\n"
   ]
  },
  {
   "cell_type": "markdown",
   "metadata": {},
   "source": [
    "Convertir vector 1D en vector 3D"
   ]
  },
  {
   "cell_type": "code",
   "execution_count": null,
   "metadata": {},
   "outputs": [],
   "source": [
    "# Convert 1D vector into 3D values, provided by the 3D MNIST authors at\n",
    "# https://www.kaggle.com/daavoo/3d-mnist\n",
    "def array_to_color(array, cmap=\"Oranges\"):\n",
    "    s_m = plt.cm.ScalarMappable(cmap=cmap)\n",
    "    return s_m.to_rgba(array)[:, :-1]"
   ]
  },
  {
   "cell_type": "markdown",
   "metadata": {},
   "source": [
    "Reformar data a un formato que pueda manejar Conv3D"
   ]
  },
  {
   "cell_type": "code",
   "execution_count": null,
   "metadata": {},
   "outputs": [],
   "source": [
    "# Reshape data into format that can be handled by Conv3D layers.\n",
    "# Courtesy of Sam Berglin; Zheming Lian; Jiahui Jang - University of Wisconsin-Madison\n",
    "# Report - https://github.com/sberglin/Projects-and-Papers/blob/master/3D%20CNN/Report.pdf\n",
    "# Code - https://github.com/sberglin/Projects-and-Papers/blob/master/3D%20CNN/network_final_version.ipynb\n",
    "def rgb_data_transform(data):\n",
    "    data_t = []\n",
    "    for i in range(data.shape[0]):\n",
    "        data_t.append(array_to_color(data[i]).reshape(16, 16, 16, 3))\n",
    "    return np.asarray(data_t, dtype=np.float32)"
   ]
  },
  {
   "cell_type": "markdown",
   "metadata": {},
   "source": [
    "#### Código de procesamiento"
   ]
  },
  {
   "cell_type": "markdown",
   "metadata": {},
   "source": [
    "Carga de datos"
   ]
  },
  {
   "cell_type": "code",
   "execution_count": null,
   "metadata": {},
   "outputs": [],
   "source": [
    "hf = h5py.File(\"02_Data/full_dataset_vectors.h5\", \"r\")\n"
   ]
  },
  {
   "cell_type": "markdown",
   "metadata": {},
   "source": [
    "Preparación de datos"
   ]
  },
  {
   "cell_type": "code",
   "execution_count": null,
   "metadata": {},
   "outputs": [],
   "source": [
    "# Split the data into training/test features/targets\n",
    "X_train = hf[\"X_train\"][:]\n",
    "targets_train = hf[\"y_train\"][:]\n",
    "X_test = hf[\"X_test\"][:]\n",
    "targets_test = hf[\"y_test\"][:]\n",
    "\n",
    "# Determine sample shape\n",
    "sample_shape = (16, 16, 16, 3)\n",
    "\n",
    "# Reshape data into 3D format\n",
    "X_train = rgb_data_transform(X_train)\n",
    "X_test = rgb_data_transform(X_test)\n",
    "\n",
    "# Convert target vectors to categorical targets\n",
    "targets_train = kr.utils.to_categorical(targets_train).astype(np.int32)\n",
    "targets_test = kr.utils.to_categorical(targets_test).astype(np.int32)"
   ]
  },
  {
   "cell_type": "markdown",
   "metadata": {},
   "source": [
    "#### Creación del Modelo"
   ]
  },
  {
   "cell_type": "code",
   "execution_count": null,
   "metadata": {},
   "outputs": [],
   "source": [
    "# Create the model\n",
    "model = kr.models.Sequential()\n",
    "model.add(kr.layers.Conv3D  (32, kernel_size=(3, 3, 3), activation='relu',\n",
    "                            kernel_initializer='he_uniform', input_shape=sample_shape))\n",
    "model.add(kr.layers.MaxPooling3D(pool_size=(2, 2, 2)))\n",
    "model.add(kr.layers.Flatten())\n",
    "model.add(kr.layers.Dense   (256, activation='relu',\n",
    "                            kernel_initializer='he_uniform'))\n",
    "model.add(kr.layers.Dense(no_classes, activation='softmax'))\n"
   ]
  },
  {
   "cell_type": "markdown",
   "metadata": {},
   "source": [
    "#### Compilación del Modelo"
   ]
  },
  {
   "cell_type": "code",
   "execution_count": null,
   "metadata": {},
   "outputs": [],
   "source": [
    "# Compile the model\n",
    "model.compile   (loss=tensorflow.keras.losses.categorical_crossentropy,\n",
    "                optimizer=tensorflow.keras.optimizers.Adam(learning_rate=learning_rate),\n",
    "                metrics=['accuracy'])"
   ]
  },
  {
   "cell_type": "markdown",
   "metadata": {},
   "source": [
    "#### Entrenamiento del Modelo"
   ]
  },
  {
   "cell_type": "code",
   "execution_count": null,
   "metadata": {},
   "outputs": [],
   "source": [
    "# Fit data to model\n",
    "history = model.fit (X_train, targets_train,\n",
    "                    batch_size=batch_size,\n",
    "                    epochs=no_epochs,\n",
    "                    verbose=verbosity,\n",
    "                    validation_split=validation_split)"
   ]
  },
  {
   "cell_type": "markdown",
   "metadata": {},
   "source": [
    "#### Evaluación del Modelo"
   ]
  },
  {
   "cell_type": "code",
   "execution_count": null,
   "metadata": {},
   "outputs": [],
   "source": [
    "# Generate generalization metrics\n",
    "score = model.evaluate(X_test, targets_test, verbose=0)\n",
    "print(f'Test loss: {score[0]} / Test accuracy: {score[1]}')"
   ]
  },
  {
   "cell_type": "markdown",
   "metadata": {},
   "source": [
    "#### Visualización"
   ]
  },
  {
   "cell_type": "code",
   "execution_count": null,
   "metadata": {},
   "outputs": [],
   "source": [
    "# Plot history: Categorical crossentropy & Accuracy\n",
    "plt.plot(history.history['loss'],\n",
    "        label='Categorical crossentropy (training data)')\n",
    "plt.plot(history.history['val_loss'],\n",
    "        label='Categorical crossentropy (validation data)')\n",
    "plt.plot(history.history['accuracy'], label='Accuracy (training data)')\n",
    "plt.plot(history.history['val_accuracy'],\n",
    "        label='Accuracy (validation data)')\n",
    "plt.title('Model performance for 3D MNIST Keras Conv3D example')\n",
    "plt.ylabel('Loss value')\n",
    "plt.xlabel('No. epoch')\n",
    "plt.legend(loc=\"upper right\")\n",
    "plt.show()"
   ]
  }
 ],
 "metadata": {
  "interpreter": {
   "hash": "69eb92836b941e979072a76c7fcfffe5419cca933cedd02cfafbdfca1a93358c"
  },
  "kernelspec": {
   "display_name": "Python 3.9.10 64-bit",
   "language": "python",
   "name": "python3"
  },
  "language_info": {
   "codemirror_mode": {
    "name": "ipython",
    "version": 3
   },
   "file_extension": ".py",
   "mimetype": "text/x-python",
   "name": "python",
   "nbconvert_exporter": "python",
   "pygments_lexer": "ipython3",
   "version": "3.9.10"
  },
  "orig_nbformat": 4
 },
 "nbformat": 4,
 "nbformat_minor": 2
}
