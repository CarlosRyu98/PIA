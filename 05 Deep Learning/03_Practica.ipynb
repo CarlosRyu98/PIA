{
 "cells": [
  {
   "cell_type": "markdown",
   "metadata": {},
   "source": [
    "# Mean Squared Logarithmic Error"
   ]
  },
  {
   "cell_type": "markdown",
   "metadata": {},
   "source": [
    "## Formula del MSLE\n",
    "\n",
    "MSLE se usa cuando y tiene una larga cola de distribución , o cuando nos interesa el ratio de los valores verdaderos y los valores que se han predecido.\n",
    "1 (la constante ) es añadido para evitar divergencia cuando y es igual a 0.\n",
    "\n",
    "## Mecanismo:\n",
    "\n",
    "    Es solo un error cuadrático medio (MSE) calculado en escala logarítmica. De hecho, para calcularlo, tomamos un logaritmo de nuestras predicciones y los valores objetivo, y calculamos el error cuadrático medio (MSE) entre ellos.\n",
    "\n",
    "    Los objetivos generalmente no son negativos pero pueden ser iguales a 0, y el logaritmo de 0 no está definido. Por tanto se agrega una constante a las predicciones y los objetivos antes de aplicar la operación logarítmica.Esta constante también se puede definir para que sea diferente a uno según el problema que queramos resolver.\n",
    "\n",
    "    Esta métrica se usa generalmente en la misma situación que MSPE (Error de porcentaje cuadrático medio) y MAPE(Error porcentual absoluto medio), ya que también conlleva errores relativos más que errores absolutos.\n",
    "\n",
    "\n",
    "## Funcionalidad:\n",
    "\n",
    "    La expresión\n",
    "    log(pi+1)−log(ai+1)\n",
    "\n",
    "    tambien puede ser escrita así:\n",
    "$log((pi+1)/(ai+1))$\n",
    "\n",
    "![aqui va la sintaxis](https://cdn-images-1.medium.com/max/800/1*VjNfaSRuj3FIMcKA0yJAGg.png)\n",
    "\n",
    "    MSLE mide el ratio de los valores reales y predichos.\n",
    "\n",
    "### MSLE es preferible cuando:\n",
    "\n",
    "* Los objetivos crecen exponencialmente (por ejemplo haciendo un conteo de población)\n",
    "* Nos interesa mas el porcentaje de errores que el valor absoluto de errores.\n",
    "* Hay un gran rango de valores en las variables objetivo y no queremos penalizar grandes diferencias cuando los valores predichos y reales son numeros grandes.\n",
    "* MSLE penaliza una infraestimación frente a una sobreestimación.\n",
    "        \n",
    "### Vamos a imaginar 2 casos de predicciones,\n",
    "\n",
    "__Caso-1:__  \n",
    "nuestro modelo tiene una prediccion de 30 cuando el numero actual es 40\n",
    "\n",
    "__Caso-2:__  \n",
    "nuestro modelo tiene una prediccion de 300 cuando el numero actual es 400  \n",
    "Con el error cuadrático medio el segundo resultado es puntuado como 10 veces mas que el primer resultado\n",
    "En cambio con el error logaritmico cuadrático medio los 2 resultados son puntuados igual.\n",
    "MSLE tiene en cuenta el ratio de cambio.\n",
    "\n",
    "Si observamos el siguiente ejemplo:\n",
    "\n",
    "__Caso-3 :__\n",
    "\n",
    "        Prediccion = 600, Actual = 1000 (la diferencia es de 400)\n",
    "\n",
    "    RMSE = 400, RMSLogE = 0.5108\n",
    "\n",
    "    Caso-4 :\n",
    "\n",
    "        Prediccion = 1400 , Actual = 1000 (la diferencia es de 400)\n",
    "\n",
    "    RMSE = 400, RMSLogE = 0.3365\n",
    "\n",
    "    Cuando las diferencias son las mismas entre los valores predichos y reales:\n",
    "        El error cuadrático medio las trata de la misma forma en ambos casos ,\n",
    "        sin embargo el error logaritmico cuadrático medio penaliza la baja estimación mas que la sobreestimación.\n",
    "\n",
    "    A menudo, penalizar una baja estimacion mas que una sobreestimacion es importante a la hora de predicciones sobre ventas y demandas de inventario.\n",
    "    Sería preferible tener inventario extra a no ser capaz de proveer un producto tanto como se demanda.\n",
    "\n",
    "\n",
    "\n",
    "\n",
    "\n",
    "\n",
    "- - - - - - - - - - - - -\n",
    "\n",
    "\n",
    "URLs:\n",
    "\n",
    "https://towardsdatascience.com/11-evaluation-metrics-data-scientists-should-be-familiar-with-lessons-from-a-high-rank-kagglers-8596f75e58a7#5185\n",
    "\n",
    "https://hrngok.github.io/posts/metrics/\n",
    "\n",
    "https://sitiobigdata.com/2019/05/27/modelos-de-machine-learning-metricas-de-regresion-mse-parte-2/"
   ]
  },
  {
   "cell_type": "markdown",
   "metadata": {},
   "source": [
    "---\n",
    "Imports"
   ]
  },
  {
   "cell_type": "code",
   "execution_count": 181,
   "metadata": {},
   "outputs": [],
   "source": [
    "from sklearn.datasets import make_regression\n",
    "from sklearn.preprocessing import StandardScaler\n",
    "from keras.models import Sequential\n",
    "from keras.layers import Dense\n",
    "from matplotlib import pyplot"
   ]
  },
  {
   "cell_type": "markdown",
   "metadata": {},
   "source": [
    "Preparación de datos"
   ]
  },
  {
   "cell_type": "code",
   "execution_count": 182,
   "metadata": {},
   "outputs": [],
   "source": [
    "# generate regression dataset\n",
    "X, y = make_regression(n_samples=1000, n_features=20, noise=0.1, random_state=413)\n",
    "\n",
    "# standardize dataset\n",
    "X = StandardScaler().fit_transform(X)\n",
    "y = StandardScaler().fit_transform(y.reshape(len(y),1))[:,0]\n",
    "\n",
    "# split into train and test\n",
    "n_train = 500\n",
    "trainX, testX = X[:n_train, :], X[n_train:, :]\n",
    "trainy, testy = y[:n_train], y[n_train:]"
   ]
  },
  {
   "cell_type": "markdown",
   "metadata": {},
   "source": [
    "MSLE"
   ]
  },
  {
   "cell_type": "code",
   "execution_count": 183,
   "metadata": {},
   "outputs": [],
   "source": [
    "# define model\n",
    "model_msle = Sequential()\n",
    "model_msle.add(Dense(25, input_dim=20, activation='relu', kernel_initializer='he_uniform'))\n",
    "model_msle.add(Dense(1, activation='linear'))\n",
    "model_msle.compile(loss='mean_squared_logarithmic_error', metrics=['msle'])\n",
    "\n",
    "# fit model\n",
    "history_msle = model_msle.fit(trainX, trainy, validation_data=(testX, testy), epochs=100, verbose=0)"
   ]
  },
  {
   "cell_type": "markdown",
   "metadata": {},
   "source": [
    "MSE"
   ]
  },
  {
   "cell_type": "code",
   "execution_count": 184,
   "metadata": {},
   "outputs": [],
   "source": [
    "# define model\n",
    "model_mse = Sequential()\n",
    "model_mse.add(Dense(25, input_dim=20, activation='relu', kernel_initializer='he_uniform'))\n",
    "model_mse.add(Dense(1, activation='linear'))\n",
    "model_mse.compile(loss='mean_squared_error', metrics=['mse'])\n",
    "\n",
    "# fit model\n",
    "history_mse = model_mse.fit(trainX, trainy, validation_data=(testX, testy), epochs=100, verbose=0)"
   ]
  },
  {
   "cell_type": "markdown",
   "metadata": {},
   "source": [
    "MAE"
   ]
  },
  {
   "cell_type": "code",
   "execution_count": 185,
   "metadata": {},
   "outputs": [],
   "source": [
    "# define model\n",
    "model_mae = Sequential()\n",
    "model_mae.add(Dense(25, input_dim=20, activation='relu', kernel_initializer='he_uniform'))\n",
    "model_mae.add(Dense(1, activation='linear'))\n",
    "model_mae.compile(loss='mean_absolute_error', metrics=['mae'])\n",
    "\n",
    "# fit model\n",
    "history_mae = model_mae.fit(trainX, trainy, validation_data=(testX, testy), epochs=100, verbose=0)"
   ]
  },
  {
   "cell_type": "markdown",
   "metadata": {},
   "source": [
    "Visualización"
   ]
  },
  {
   "cell_type": "code",
   "execution_count": 186,
   "metadata": {},
   "outputs": [
    {
     "data": {
      "image/png": "[encoded data removed]",
      "text/plain": [
       "<Figure size 432x288 with 1 Axes>"
      ]
     },
     "metadata": {
      "needs_background": "light"
     },
     "output_type": "display_data"
    },
    {
     "data": {
      "image/png": "[encoded data removed]",
      "text/plain": [
       "<Figure size 432x288 with 1 Axes>"
      ]
     },
     "metadata": {
      "needs_background": "light"
     },
     "output_type": "display_data"
    },
    {
     "data": {
      "image/png": "[encoded data removed]",
      "text/plain": [
       "<Figure size 432x288 with 1 Axes>"
      ]
     },
     "metadata": {
      "needs_background": "light"
     },
     "output_type": "display_data"
    }
   ],
   "source": [
    "# plot loss during training\n",
    "pyplot.title(\"Mean Squared Logarithmic Error\")\n",
    "pyplot.plot(history_msle.history['loss'], label='train')\n",
    "pyplot.plot(history_msle.history['val_loss'], label='test')\n",
    "pyplot.legend()\n",
    "pyplot.show()\n",
    "\n",
    "# plot loss during training\n",
    "pyplot.title(\"Mean Squared Error\")\n",
    "pyplot.plot(history_mse.history['loss'], label='train')\n",
    "pyplot.plot(history_mse.history['val_loss'], label='test')\n",
    "pyplot.legend()\n",
    "pyplot.show()\n",
    "\n",
    "# plot loss during training\n",
    "pyplot.title(\"Mean Absolute Error\")\n",
    "pyplot.plot(history_mae.history['loss'], label='train')\n",
    "pyplot.plot(history_mae.history['val_loss'], label='test')\n",
    "pyplot.legend()\n",
    "pyplot.show()"
   ]
  },
  {
   "cell_type": "code",
   "execution_count": 187,
   "metadata": {},
   "outputs": [],
   "source": [
    "# mlp for regression with msle loss function\n",
    "from sklearn.datasets import make_regression\n",
    "from sklearn.preprocessing import StandardScaler\n",
    "from keras.models import Sequential\n",
    "from keras.layers import Dense\n",
    "from matplotlib import pyplot\n",
    "\n",
    "# generate regression dataset\n",
    "X, y = make_regression(n_samples=1000, n_features=20, noise=0.1, random_state=1)\n",
    "\n",
    "# standardize dataset\n",
    "X = StandardScaler().fit_transform(X)\n",
    "y = StandardScaler().fit_transform(y.reshape(len(y),1))[:,0]\n",
    "\n",
    "# split into train and test\n",
    "n_train = 500\n",
    "trainX, testX = X[:n_train, :], X[n_train:, :]\n",
    "trainy, testy = y[:n_train], y[n_train:]\n",
    "\n",
    "\n",
    "\n"
   ]
  }
 ],
 "metadata": {
  "interpreter": {
   "hash": "69eb92836b941e979072a76c7fcfffe5419cca933cedd02cfafbdfca1a93358c"
  },
  "kernelspec": {
   "display_name": "Python 3.9.10 64-bit",
   "language": "python",
   "name": "python3"
  },
  "language_info": {
   "codemirror_mode": {
    "name": "ipython",
    "version": 3
   },
   "file_extension": ".py",
   "mimetype": "text/x-python",
   "name": "python",
   "nbconvert_exporter": "python",
   "pygments_lexer": "ipython3",
   "version": "3.9.10"
  },
  "orig_nbformat": 4
 },
 "nbformat": 4,
 "nbformat_minor": 2
}
