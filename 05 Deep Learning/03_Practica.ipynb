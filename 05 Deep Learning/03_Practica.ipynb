{
 "cells": [
  {
   "cell_type": "markdown",
   "metadata": {},
   "source": [
    "# Mean Squared Logarithmic Error"
   ]
  },
  {
   "cell_type": "markdown",
   "metadata": {},
   "source": [
    "## Fórmula del MSLE\n",
    "\n",
    "Partiendo de que la expresión:  \n",
    "$$log(y_i+1) − log(y`_i+1)$$\n",
    "\n",
    "También puede ser escrita así:  \n",
    "$$log((y_i+1) / (y'_i+1))$$\n",
    "\n",
    "![Imagen](https://cdn-images-1.medium.com/max/800/1*VjNfaSRuj3FIMcKA0yJAGg.png)"
   ]
  },
  {
   "cell_type": "markdown",
   "metadata": {},
   "source": [
    "## Mecanismo:\n",
    "\n",
    "El _Error Logarítmico Cuadrático Medio_ es solo un _Error Cuadrático Medio_ calculado en escala __logarítmica__. De hecho, para calcularlo tomamos un logaritmo de nuestras predicciones y los valores objetivo, y calculamos el _Error Cuadrático Medio_ entre ellos.\n",
    "\n",
    "Los objetivos generalmente no son negativos pero pueden ser iguales a 0, y el __logaritmo de 0 no está definido__ (tiende a -∞). Por tanto se agrega una __constante__ a las predicciones y los objetivos antes de aplicar la operación logarítmica. Lo normal es que esta __constante__ se defina como 1, pero también se puede definir para que sea diferente según el problema que queramos resolver.\n",
    "\n",
    "Esta métrica se usa generalmente en la misma situación que el _Error de Porcentaje Cuadrático Medio_ (MSPE) y el _Error Porcentual Absoluto Medio_ (MAPE), ya que también conlleva errores relativos más que errores absolutos."
   ]
  },
  {
   "cell_type": "markdown",
   "metadata": {},
   "source": [
    "### Cuándo es MSLE preferible:\n",
    "\n",
    "* Cuando los objetivos __crecen exponencialmente__ (por ejemplo, haciendo un conteo de población)\n",
    "* Cuando nos interesa más el __porcentaje de error__ que el valor absoluto de error.\n",
    "* Cuando hay un gran __rango de valores__ en las variables objetivo y __NO queremos penalizar grandes diferencias__ cuando los valores predichos y reales son números grandes.\n",
    "* Cuando se quiere __penalizar infraestimaciones__ en vez de sobreestimaciones."
   ]
  },
  {
   "cell_type": "markdown",
   "metadata": {},
   "source": [
    "### Ejemplo 1:\n",
    "1. __Caso-1:__ Predicción = 30, Actual = 40\n",
    "\n",
    "2. __Caso-2:__ Prediccion = 300, Actual = 400\n",
    "\n",
    "\n",
    "* Con el Error Cuadrático Medio el __Caso-2__ es puntuado como __10 veces más__ que el __Caso-1__.  \n",
    "* En cambio, con el Error Logarítmico Cuadrático Medio los 2 casos son __puntuados igual__.  \n",
    "* El Error Logarítmico Cuadrático Medio tiene en cuenta el __Ratio de Cambio__."
   ]
  },
  {
   "cell_type": "markdown",
   "metadata": {},
   "source": [
    "### Ejemplo 2:\n",
    "\n",
    "3. __Caso-3:__\n",
    "    * Predicción = 600, Actual = 1000, Diferencia = 400\n",
    "    * __RMSE__ = 400, __RMSLogE__ = 0.5108  \n",
    "\n",
    "4. __Caso-4:__\n",
    "    * Predicción = 1400 , Actual = 1000, Diferencia = 400)\n",
    "    * __RMSE__ = 400, __RMSLogE__ = 0.3365\n",
    "\n",
    "* Cuando las diferencias son las mismas entre los valores predichos y reales:\n",
    "    * El Error Cuadrático Medio las trata de la __misma forma__ en ambos casos\n",
    "    * Sin embargo el Error Logaritmico Cuadrático Medio __penaliza la baja estimación__ mas que la sobreestimación.\n",
    "\n",
    "\n",
    "\n",
    "\n",
    "\n",
    "* A menudo, penalizar una baja estimacion mas que una sobreestimacion es importante a la hora de predicciones sobre ventas y demandas de inventario.\n",
    "\n",
    "* Sería preferible tener inventario extra a no ser capaz de proveer un producto tanto como se demanda."
   ]
  },
  {
   "cell_type": "markdown",
   "metadata": {},
   "source": [
    "---\n",
    "## Demo"
   ]
  },
  {
   "cell_type": "markdown",
   "metadata": {},
   "source": [
    "Imports"
   ]
  },
  {
   "cell_type": "code",
   "execution_count": 1,
   "metadata": {},
   "outputs": [],
   "source": [
    "from sklearn.datasets import make_regression\n",
    "from sklearn.preprocessing import StandardScaler\n",
    "from keras.models import Sequential\n",
    "from keras.layers import Dense\n",
    "from matplotlib import pyplot"
   ]
  },
  {
   "cell_type": "markdown",
   "metadata": {},
   "source": [
    "Preparación de datos"
   ]
  },
  {
   "cell_type": "code",
   "execution_count": 2,
   "metadata": {},
   "outputs": [],
   "source": [
    "# generate regression dataset\n",
    "X, y = make_regression(n_samples=1000, n_features=20, noise=0.1, random_state=413)\n",
    "\n",
    "# standardize dataset\n",
    "X = StandardScaler().fit_transform(X)\n",
    "y = StandardScaler().fit_transform(y.reshape(len(y),1))[:,0]\n",
    "\n",
    "# split into train and test\n",
    "n_train = 500\n",
    "trainX, testX = X[:n_train, :], X[n_train:, :]\n",
    "trainy, testy = y[:n_train], y[n_train:]"
   ]
  },
  {
   "cell_type": "markdown",
   "metadata": {},
   "source": [
    "MSLE"
   ]
  },
  {
   "cell_type": "code",
   "execution_count": 3,
   "metadata": {},
   "outputs": [],
   "source": [
    "# define model\n",
    "model_msle = Sequential()\n",
    "model_msle.add(Dense(25, input_dim=20, activation='relu', kernel_initializer='he_uniform'))\n",
    "model_msle.add(Dense(1, activation='linear'))\n",
    "model_msle.compile(loss='mean_squared_logarithmic_error', metrics=['msle'])\n",
    "\n",
    "# fit model\n",
    "history_msle = model_msle.fit(trainX, trainy, validation_data=(testX, testy), epochs=100, verbose=0)"
   ]
  },
  {
   "cell_type": "markdown",
   "metadata": {},
   "source": [
    "MSE"
   ]
  },
  {
   "cell_type": "code",
   "execution_count": 4,
   "metadata": {},
   "outputs": [],
   "source": [
    "# define model\n",
    "model_mse = Sequential()\n",
    "model_mse.add(Dense(25, input_dim=20, activation='relu', kernel_initializer='he_uniform'))\n",
    "model_mse.add(Dense(1, activation='linear'))\n",
    "model_mse.compile(loss='mean_squared_error', metrics=['mse'])\n",
    "\n",
    "# fit model\n",
    "history_mse = model_mse.fit(trainX, trainy, validation_data=(testX, testy), epochs=100, verbose=0)"
   ]
  },
  {
   "cell_type": "markdown",
   "metadata": {},
   "source": [
    "MAE"
   ]
  },
  {
   "cell_type": "code",
   "execution_count": 5,
   "metadata": {},
   "outputs": [],
   "source": [
    "# define model\n",
    "model_mae = Sequential()\n",
    "model_mae.add(Dense(25, input_dim=20, activation='relu', kernel_initializer='he_uniform'))\n",
    "model_mae.add(Dense(1, activation='linear'))\n",
    "model_mae.compile(loss='mean_absolute_error', metrics=['mae'])\n",
    "\n",
    "# fit model\n",
    "history_mae = model_mae.fit(trainX, trainy, validation_data=(testX, testy), epochs=100, verbose=0)"
   ]
  },
  {
   "cell_type": "markdown",
   "metadata": {},
   "source": [
    "Visualización"
   ]
  },
  {
   "cell_type": "code",
   "execution_count": 6,
   "metadata": {},
   "outputs": [
    {
     "data": {
      "image/png": "[encoded data removed]",
      "text/plain": [
       "<Figure size 432x288 with 1 Axes>"
      ]
     },
     "metadata": {
      "needs_background": "light"
     },
     "output_type": "display_data"
    },
    {
     "data": {
      "image/png": "[encoded data removed]",
      "text/plain": [
       "<Figure size 432x288 with 1 Axes>"
      ]
     },
     "metadata": {
      "needs_background": "light"
     },
     "output_type": "display_data"
    },
    {
     "data": {
      "image/png": "[encoded data removed]",
      "text/plain": [
       "<Figure size 432x288 with 1 Axes>"
      ]
     },
     "metadata": {
      "needs_background": "light"
     },
     "output_type": "display_data"
    }
   ],
   "source": [
    "# plot loss during training\n",
    "pyplot.title(\"Mean Squared Logarithmic Error\")\n",
    "pyplot.plot(history_msle.history['loss'], label='train')\n",
    "pyplot.plot(history_msle.history['val_loss'], label='test')\n",
    "pyplot.legend()\n",
    "pyplot.show()\n",
    "\n",
    "# plot loss during training\n",
    "pyplot.title(\"Mean Squared Error\")\n",
    "pyplot.plot(history_mse.history['loss'], label='train')\n",
    "pyplot.plot(history_mse.history['val_loss'], label='test')\n",
    "pyplot.legend()\n",
    "pyplot.show()\n",
    "\n",
    "# plot loss during training\n",
    "pyplot.title(\"Mean Absolute Error\")\n",
    "pyplot.plot(history_mae.history['loss'], label='train')\n",
    "pyplot.plot(history_mae.history['val_loss'], label='test')\n",
    "pyplot.legend()\n",
    "pyplot.show()"
   ]
  },
  {
   "cell_type": "markdown",
   "metadata": {},
   "source": [
    "---\n",
    "URLs:\n",
    "* [Towards Data Science](https://towardsdatascience.com/11-evaluation-metrics-data-scientists-should-be-familiar-with-lessons-from-a-high-rank-kagglers-8596f75e58a7#5185)\n",
    "\n",
    "* [HRNGOK](https://hrngok.github.io/posts/metrics/)\n",
    "\n",
    "* [Sitio Big Data](https://sitiobigdata.com/2019/05/27/modelos-de-machine-learning-metricas-de-regresion-mse-parte-2/)"
   ]
  }
 ],
 "metadata": {
  "interpreter": {
   "hash": "69eb92836b941e979072a76c7fcfffe5419cca933cedd02cfafbdfca1a93358c"
  },
  "kernelspec": {
   "display_name": "Python 3.9.10 64-bit",
   "language": "python",
   "name": "python3"
  },
  "language_info": {
   "codemirror_mode": {
    "name": "ipython",
    "version": 3
   },
   "file_extension": ".py",
   "mimetype": "text/x-python",
   "name": "python",
   "nbconvert_exporter": "python",
   "pygments_lexer": "ipython3",
   "version": "3.10.0"
  },
  "orig_nbformat": 4
 },
 "nbformat": 4,
 "nbformat_minor": 2
}
