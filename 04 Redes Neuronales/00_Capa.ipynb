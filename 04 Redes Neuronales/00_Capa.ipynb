{
 "cells": [
  {
   "cell_type": "code",
   "execution_count": 16,
   "metadata": {},
   "outputs": [],
   "source": [
    "import numpy as np\n",
    "from neurona import Neurona"
   ]
  },
  {
   "cell_type": "markdown",
   "metadata": {},
   "source": [
    "---"
   ]
  },
  {
   "cell_type": "code",
   "execution_count": 17,
   "metadata": {},
   "outputs": [],
   "source": [
    "class Capa:\n",
    "    def __init__(self, num_neuronas, num_entradas, fun_act):\n",
    "        self.peso_input = np.random.random((num_entradas, num_neuronas))\n",
    "\n",
    "    def capa_1(self, val_neuronas): # Entra una matriz de n x n\n",
    "        \n",
    "        output = np.matmul(self.peso_input, val_neuronas)\n",
    "        return output # Sale una matriz de 1 x n\n",
    "\n",
    "    def capa_n(self, val_neuronas): # Entra una matriz de 1 x n\n",
    "        output = np.matmul(self.peso_input, val_neuronas)\n",
    "        return output # Sale una matriz de 1 x n\n",
    "\n",
    "\n",
    "\n",
    "# Multiplicaciones matriciales\n"
   ]
  },
  {
   "cell_type": "code",
   "execution_count": 18,
   "metadata": {},
   "outputs": [
    {
     "name": "stdout",
     "output_type": "stream",
     "text": [
      "[[-0.89027032  2.68253156]\n",
      " [-0.85286044  1.76172679]]\n"
     ]
    }
   ],
   "source": [
    "c1 = Capa(2, 2, 3)\n",
    "print(c1.capa_n([[0, 2], [-3,4]]))"
   ]
  }
 ],
 "metadata": {
  "interpreter": {
   "hash": "69eb92836b941e979072a76c7fcfffe5419cca933cedd02cfafbdfca1a93358c"
  },
  "kernelspec": {
   "display_name": "Python 3.9.10 64-bit",
   "language": "python",
   "name": "python3"
  },
  "language_info": {
   "codemirror_mode": {
    "name": "ipython",
    "version": 3
   },
   "file_extension": ".py",
   "mimetype": "text/x-python",
   "name": "python",
   "nbconvert_exporter": "python",
   "pygments_lexer": "ipython3",
   "version": "3.9.10"
  },
  "orig_nbformat": 4
 },
 "nbformat": 4,
 "nbformat_minor": 2
}
