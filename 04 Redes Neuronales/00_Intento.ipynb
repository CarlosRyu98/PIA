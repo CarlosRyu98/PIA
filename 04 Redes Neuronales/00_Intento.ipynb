{
 "cells": [
  {
   "cell_type": "code",
   "execution_count": 1,
   "metadata": {},
   "outputs": [],
   "source": [
    "import numpy as np"
   ]
  },
  {
   "cell_type": "markdown",
   "metadata": {},
   "source": [
    "---\n",
    "Con funciones"
   ]
  },
  {
   "cell_type": "code",
   "execution_count": 28,
   "metadata": {},
   "outputs": [],
   "source": [
    "def neurona(x):\n",
    "    b = -len(x) + 1\n",
    "    sum = 0\n",
    "    for i in x:\n",
    "        sum += i\n",
    "    if (sum + b > 0):\n",
    "        y = 1\n",
    "    else: y = 0\n",
    "    return y"
   ]
  },
  {
   "cell_type": "code",
   "execution_count": 29,
   "metadata": {},
   "outputs": [
    {
     "name": "stdout",
     "output_type": "stream",
     "text": [
      "1\n"
     ]
    }
   ],
   "source": [
    "print(neurona((1, 1, 1)))"
   ]
  },
  {
   "cell_type": "markdown",
   "metadata": {},
   "source": [
    "---\n",
    "Con clases"
   ]
  },
  {
   "cell_type": "code",
   "execution_count": 5,
   "metadata": {},
   "outputs": [],
   "source": [
    "class Neurona:\n",
    "    def __init__(self, input):\n",
    "        self.input = input\n",
    "        self.bias = -len(self.input) + 1\n",
    "        self.output = 0\n",
    "    \n",
    "    def calc(self):\n",
    "        sum = self.bias\n",
    "        for i in self.input:\n",
    "            sum += i\n",
    "        if (sum > 0):\n",
    "            self.output = 1\n",
    "        else: self.output = 0\n",
    "\n",
    "    def show(self):\n",
    "        print(\"Resultado: \", self.output)"
   ]
  },
  {
   "cell_type": "code",
   "execution_count": 7,
   "metadata": {},
   "outputs": [
    {
     "name": "stdout",
     "output_type": "stream",
     "text": [
      "Resultado:  1\n"
     ]
    }
   ],
   "source": [
    "n1 = Neurona((1,1,1))\n",
    "n1.calc()\n",
    "n1.show()"
   ]
  }
 ],
 "metadata": {
  "interpreter": {
   "hash": "69eb92836b941e979072a76c7fcfffe5419cca933cedd02cfafbdfca1a93358c"
  },
  "kernelspec": {
   "display_name": "Python 3.9.10 64-bit",
   "language": "python",
   "name": "python3"
  },
  "language_info": {
   "codemirror_mode": {
    "name": "ipython",
    "version": 3
   },
   "file_extension": ".py",
   "mimetype": "text/x-python",
   "name": "python",
   "nbconvert_exporter": "python",
   "pygments_lexer": "ipython3",
   "version": "3.9.10"
  },
  "orig_nbformat": 4
 },
 "nbformat": 4,
 "nbformat_minor": 2
}
