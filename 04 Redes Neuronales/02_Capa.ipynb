{
 "cells": [
  {
   "cell_type": "code",
   "execution_count": 209,
   "metadata": {},
   "outputs": [],
   "source": [
    "import numpy as np"
   ]
  },
  {
   "cell_type": "markdown",
   "metadata": {},
   "source": [
    "---"
   ]
  },
  {
   "cell_type": "code",
   "execution_count": 236,
   "metadata": {},
   "outputs": [],
   "source": [
    "class Capa:\n",
    "    def __init__(self, num_neuronas, num_entradas, fun_act):\n",
    "        self.peso_input = np.random.random((num_entradas+1, num_neuronas))\n",
    "        self.fun_act = fun_act\n",
    "\n",
    "    # Entra una matriz de 1 x n y sale una matriz de 1 x n\n",
    "    def get_output(self, input):\n",
    "        input = np.insert(input, 0, 1)\n",
    "        if (input.shape[0] == self.peso_input.shape[0]):\n",
    "            return self.step_function(np.matmul(input, self.peso_input))\n",
    "        else: return \"Ha habido un error: No coinciden el número de neuronas\"\n",
    "\n",
    "    # Decide qué hacer según la función de activación\n",
    "    def step_function(self, input):\n",
    "        if self.fun_act == 1:\n",
    "            return self.sf_threshold(input)\n",
    "        elif self.fun_act == 2:\n",
    "            return self.sf_sigmoid(input)\n",
    "        elif self.fun_act == 3:\n",
    "            return self.sf_hyperbolic_tangent(input)\n",
    "        elif self.fun_act == 4:\n",
    "            return self.sf_relu(input)\n",
    "        else:\n",
    "            return \"Ha habido un error: Función de activación incorrecta.\"\n",
    "\n",
    "    def sf_threshold(self, input):\n",
    "        output = input.copy()\n",
    "        output[output<=0] = 0\n",
    "        output[output>0] = 1\n",
    "        return output\n",
    "\n",
    "    def sf_sigmoid(self, input):\n",
    "        return 1/(1+np.exp(-input))\n",
    "\n",
    "    def sf_hyperbolic_tangent(self, input):\n",
    "        return (np.exp(input) - np.exp(-input)) / (np.exp(input) + np.exp(-input))\n",
    "\n",
    "    def sf_relu(self, input):\n",
    "        return np.maximum([0], input)\n",
    "\n",
    "    # Función para mostrar los datos de la capa\n",
    "    def print(self):\n",
    "        print(\"Inputs: \\n\", self.peso_input)\n",
    "        print(\"Input shape: \\n\", self.peso_input.shape)\n",
    "        print(\"F Act: \\n\", self.fun_act)"
   ]
  },
  {
   "cell_type": "code",
   "execution_count": 237,
   "metadata": {},
   "outputs": [
    {
     "name": "stdout",
     "output_type": "stream",
     "text": [
      "Output: \n",
      " Ha habido un error: Función de activación incorrecta.\n",
      "Inputs: \n",
      " [[0.55875861 0.71233243 0.29283287 0.35221694]\n",
      " [0.4985179  0.90362487 0.96870402 0.72512824]\n",
      " [0.65821508 0.04464102 0.85610069 0.73142101]\n",
      " [0.64453232 0.82591689 0.09082306 0.0687834 ]]\n",
      "Input shape: \n",
      " (4, 4)\n",
      "F Act: \n",
      " 5\n"
     ]
    }
   ],
   "source": [
    "c1 = Capa(4, 3, 5)\n",
    "print(\"Output: \\n\",c1.get_output([[2, -9, 8]]))\n",
    "\n",
    "c1.print()"
   ]
  }
 ],
 "metadata": {
  "interpreter": {
   "hash": "69eb92836b941e979072a76c7fcfffe5419cca933cedd02cfafbdfca1a93358c"
  },
  "kernelspec": {
   "display_name": "Python 3.9.10 64-bit",
   "language": "python",
   "name": "python3"
  },
  "language_info": {
   "codemirror_mode": {
    "name": "ipython",
    "version": 3
   },
   "file_extension": ".py",
   "mimetype": "text/x-python",
   "name": "python",
   "nbconvert_exporter": "python",
   "pygments_lexer": "ipython3",
   "version": "3.9.10"
  },
  "orig_nbformat": 4
 },
 "nbformat": 4,
 "nbformat_minor": 2
}
