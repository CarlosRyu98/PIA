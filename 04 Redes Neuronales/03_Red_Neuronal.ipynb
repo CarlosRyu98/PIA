{
 "cells": [
  {
   "cell_type": "markdown",
   "metadata": {},
   "source": [
    "# Tarea: Hacer para N capas con un for"
   ]
  },
  {
   "cell_type": "markdown",
   "metadata": {},
   "source": [
    "---\n",
    "Imports"
   ]
  },
  {
   "cell_type": "code",
   "execution_count": 33,
   "metadata": {},
   "outputs": [],
   "source": [
    "import numpy as np\n",
    "import pandas as pd"
   ]
  },
  {
   "cell_type": "markdown",
   "metadata": {},
   "source": [
    "---\n",
    "Código de la Capa"
   ]
  },
  {
   "cell_type": "code",
   "execution_count": 34,
   "metadata": {},
   "outputs": [],
   "source": [
    "class Capa:\n",
    "    def __init__(self, num_neuronas, num_entradas, fun_act):\n",
    "        self.peso_input = np.random.random((num_entradas+1, num_neuronas))\n",
    "        self.fun_act = fun_act\n",
    "\n",
    "    # Entra una matriz de 1 x n y sale una matriz de 1 x n\n",
    "    def get_output(self, input):\n",
    "        input = np.insert(input, 0, 1)\n",
    "        if (input.shape[0] == self.peso_input.shape[0]):\n",
    "            self.suma = np.matmul(input, self.peso_input)\n",
    "            return self.step_function(self.suma)\n",
    "        else: return \"Ha habido un error: No coinciden el número de neuronas\"\n",
    "\n",
    "    # Decide qué hacer según la función de activación\n",
    "    def step_function(self, input):\n",
    "        if self.fun_act == 1:\n",
    "            return self.sf_threshold(input)\n",
    "        elif self.fun_act == 2:\n",
    "            return self.sf_sigmoid(input)\n",
    "        elif self.fun_act == 3:\n",
    "            return self.sf_hyperbolic_tangent(input)\n",
    "        elif self.fun_act == 4:\n",
    "            return self.sf_relu(input)\n",
    "        else:\n",
    "            return \"Ha habido un error: Función de activación incorrecta.\"\n",
    "\n",
    "    def sf_threshold(self, input):\n",
    "        output = input.copy()\n",
    "        output[output<=0] = 0\n",
    "        output[output>0] = 1\n",
    "        return output\n",
    "\n",
    "    def sf_sigmoid(self, input):\n",
    "        return 1/(1+np.exp(-input))\n",
    "\n",
    "    def sf_hyperbolic_tangent(self, input):\n",
    "        return (np.exp(input) - np.exp(-input)) / (np.exp(input) + np.exp(-input))\n",
    "\n",
    "    def sf_relu(self, input):\n",
    "        return np.maximum([0], input)\n",
    "\n",
    "    # Función para mostrar los datos de la capa\n",
    "    def print(self):\n",
    "        print(\"Inputs: \\n\", self.peso_input)\n",
    "        print(\"Input shape: \\n\", self.peso_input.shape)\n",
    "        print(\"F Act: \\n\", self.fun_act)"
   ]
  },
  {
   "cell_type": "markdown",
   "metadata": {},
   "source": [
    "---"
   ]
  },
  {
   "cell_type": "code",
   "execution_count": 35,
   "metadata": {},
   "outputs": [],
   "source": [
    "class Red_Neuronal():\n",
    "    def __init__(self,num_neuronas_capa, f_act_capa, num_inputs_1):\n",
    "        self.lista_capas = []\n",
    "        c = Capa(num_neuronas_capa[0], num_inputs_1, f_act_capa[0])\n",
    "        self.lista_capas.append(c)\n",
    "        for i in range(1, len(num_neuronas_capa)):\n",
    "            c = Capa(num_neuronas_capa[i], num_neuronas_capa[i-1], f_act_capa[i])\n",
    "            self.lista_capas.append(c)\n",
    "\n",
    "    # Función para hacer los cálculos\n",
    "    def test(self, inputs):\n",
    "        for c in self.lista_capas:\n",
    "            inputs = c.get_output(inputs)\n",
    "        return inputs\n",
    "\n",
    "    # Función para entrenar\n",
    "    def train(self, input, out_esp , ratio):\n",
    "\n",
    "        inputs, sumas = [], []\n",
    "        for c in self.lista_capas:\n",
    "            input = c.get_output(input)\n",
    "            sumas.append(c.suma)\n",
    "            inputs.append(input)\n",
    "\n",
    "        # Derivadas de las funciones de activación\n",
    "        df_act = self.f_act(sumas, 1)\n",
    "        ecm = self.f_ecm(np.array(input), out_esp)\n",
    "        decm = self.d_ecm(ecm)\n",
    "\n",
    "        # Primera capa\n",
    "        delta = decm * df_act # derivada f_coste * derivada f_activación\n",
    "\n",
    "        pesos = self.lista_capas[-1].peso_input[1:]\n",
    "        bias = self.lista_capas[-1].peso_input[0]\n",
    "\n",
    "        self.lista_capas[-1].peso_input[1:] = pesos - delta * pesos * ratio\n",
    "        self.lista_capas[-1].peso_input[0] = bias - delta * bias * ratio\n",
    "\n",
    "        # Capas N\n",
    "        for n in range(2, len(self.lista_capas)+1):\n",
    "            pesos_tmp = pesos\n",
    "            df_act = self.f_act(sumas, n)\n",
    "            delta = delta @ pesos_tmp.transpose() * df_act # derivada f_coste * derivada f_activación * pesos anterior * derivada f_coste anterior\n",
    "\n",
    "            pesos = self.lista_capas[-n].peso_input[1:]\n",
    "            bias = self.lista_capas[-n].peso_input[0]\n",
    "\n",
    "            # cambiar los self.pesos y self.bias\n",
    "            self.lista_capas[-n].peso_input[1:] = pesos - np.array([inputs[-n] @ delta]).transpose() * ratio\n",
    "            self.lista_capas[-n].peso_input[0] = bias - delta * bias * ratio\n",
    "\n",
    "    # Función y derivada del ecm\n",
    "    def f_ecm(self, r_esp, r_obt):\n",
    "        ecm = ((r_esp - r_obt).sum()**2) / len(r_esp)\n",
    "        return ecm\n",
    "\n",
    "    def d_ecm(self, input):\n",
    "        return np.sqrt(input)\n",
    "\n",
    "    # Derivada según la función de activación\n",
    "    def f_act(self, sumas, i):\n",
    "        if (self.lista_capas[len(self.lista_capas)-i].fun_act) == 2:\n",
    "            return self.d_sigmoid(sumas[len(sumas)-i])\n",
    "        if (self.lista_capas[len(self.lista_capas)-i].fun_act) == 3:\n",
    "            return self.d_hyperbolic_tangent(sumas[len(sumas)-i])\n",
    "        if (self.lista_capas[len(self.lista_capas)-i].fun_act) == 4:\n",
    "            return self.d_relu(sumas[len(sumas)-i])\n",
    "\n",
    "    def d_sigmoid(self, input):\n",
    "        return 1/(1+np.exp(-input)) * (1 - 1/(1+np.exp(-input)))\n",
    "\n",
    "    def d_hyperbolic_tangent(self, input):\n",
    "        return (2 / (np.exp(input) + np.exp(-input)))**2\n",
    "\n",
    "    def d_relu(self, input):\n",
    "        output = input.copy()\n",
    "        output[output<=0] = 0\n",
    "        output[output>0] = 1\n",
    "        return output\n",
    "\n",
    "    # Función para mostrar los datos de la red neuronal\n",
    "    def print(self):\n",
    "        c = 1\n",
    "        for capa in self.lista_capas:\n",
    "            print(\"Capa c: \")\n",
    "            capa.print()\n",
    "            print(\"---------\")\n",
    "            c += 1"
   ]
  },
  {
   "cell_type": "code",
   "execution_count": 56,
   "metadata": {},
   "outputs": [],
   "source": [
    "def recorrido(inputs, outputs, iteraciones, ra, num_tests):\n",
    "    for i in range(1, iteraciones+1):\n",
    "        for input, output in zip(inputs, outputs):\n",
    "            red.train(input, output, ra)\n",
    "        if i % num_tests == 0:\n",
    "            error = 0\n",
    "            for input, output in zip(inputs, outputs):\n",
    "                resultado = red.test(input)\n",
    "                ecm = red.f_ecm(resultado, output)\n",
    "                error += ecm\n",
    "            print(error)"
   ]
  },
  {
   "cell_type": "markdown",
   "metadata": {},
   "source": [
    "---\n",
    "Pruebas"
   ]
  },
  {
   "cell_type": "code",
   "execution_count": 67,
   "metadata": {},
   "outputs": [
    {
     "name": "stdout",
     "output_type": "stream",
     "text": [
      "999.4227252025634\n",
      "999.4065384513067\n",
      "999.3894666829331\n",
      "999.3714368236177\n",
      "999.3523676227597\n",
      "999.3321684852748\n",
      "999.3107380989811\n",
      "999.2879628141297\n",
      "999.2637147213827\n",
      "999.2378493610134\n"
     ]
    }
   ],
   "source": [
    "inputs = pd.read_csv(\"03_inputs.csv\", header=None).values\n",
    "outputs = pd.read_csv(\"03_outputs.csv\", header=None).values\n",
    "red = Red_Neuronal([2, 5, 7, 1], [2, 4, 2, 3], 2)\n",
    "recorrido(inputs, outputs, 10, 0.005, 1)"
   ]
  },
  {
   "cell_type": "code",
   "execution_count": 68,
   "metadata": {},
   "outputs": [
    {
     "name": "stdout",
     "output_type": "stream",
     "text": [
      "1.5553166940826326\n",
      "1.5012955672624932\n",
      "1.5000307481326238\n",
      "1.5000007822776742\n",
      "1.5000000276206575\n",
      "1.500000002065902\n",
      "1.5000000002657192\n",
      "1.5000000000395297\n",
      "1.5000000000060303\n",
      "1.5000000000009235\n",
      "1.5000000000001414\n",
      "1.5000000000000218\n",
      "1.5000000000000033\n",
      "1.5000000000000004\n",
      "1.5\n",
      "1.5\n",
      "1.5\n",
      "1.5\n",
      "1.5\n",
      "1.5\n"
     ]
    }
   ],
   "source": [
    "inputs = np.array([[0, 1, 1, 2, 1, 0]]).reshape(-1,1)\n",
    "outputs = np.array([[0, 0, 1, 1, 0, 1]]).reshape(-1,1)\n",
    "red = Red_Neuronal([1, 4, 3, 2, 1], [2, 3, 4, 3, 2], 1)\n",
    "recorrido(inputs, outputs, 10000, 0.005, 500)"
   ]
  }
 ],
 "metadata": {
  "interpreter": {
   "hash": "69eb92836b941e979072a76c7fcfffe5419cca933cedd02cfafbdfca1a93358c"
  },
  "kernelspec": {
   "display_name": "Python 3.9.10 64-bit",
   "language": "python",
   "name": "python3"
  },
  "language_info": {
   "codemirror_mode": {
    "name": "ipython",
    "version": 3
   },
   "file_extension": ".py",
   "mimetype": "text/x-python",
   "name": "python",
   "nbconvert_exporter": "python",
   "pygments_lexer": "ipython3",
   "version": "3.9.10"
  },
  "orig_nbformat": 4
 },
 "nbformat": 4,
 "nbformat_minor": 2
}
