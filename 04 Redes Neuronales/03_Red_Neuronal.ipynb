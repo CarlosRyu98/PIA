{
 "cells": [
  {
   "cell_type": "markdown",
   "metadata": {},
   "source": [
    "# Tarea: Hacer para N capas con un for"
   ]
  },
  {
   "cell_type": "markdown",
   "metadata": {},
   "source": [
    "---\n",
    "Imports"
   ]
  },
  {
   "cell_type": "code",
   "execution_count": 134,
   "metadata": {},
   "outputs": [],
   "source": [
    "import numpy as np"
   ]
  },
  {
   "cell_type": "markdown",
   "metadata": {},
   "source": [
    "---\n",
    "Código de la Capa"
   ]
  },
  {
   "cell_type": "code",
   "execution_count": 135,
   "metadata": {},
   "outputs": [],
   "source": [
    "class Capa:\n",
    "    def __init__(self, num_neuronas, num_entradas, fun_act):\n",
    "        self.peso_input = np.random.random((num_entradas+1, num_neuronas))\n",
    "        self.fun_act = fun_act\n",
    "\n",
    "    # Entra una matriz de 1 x n y sale una matriz de 1 x n\n",
    "    def get_output(self, input):\n",
    "        input = np.insert(input, 0, 1)\n",
    "        if (input.shape[0] == self.peso_input.shape[0]):\n",
    "            self.suma = np.matmul(input, self.peso_input)\n",
    "            return self.step_function(self.suma)\n",
    "        else: return \"Ha habido un error: No coinciden el número de neuronas\"\n",
    "\n",
    "    # Decide qué hacer según la función de activación\n",
    "    def step_function(self, input):\n",
    "        if self.fun_act == 1:\n",
    "            return self.sf_threshold(input)\n",
    "        elif self.fun_act == 2:\n",
    "            return self.sf_sigmoid(input)\n",
    "        elif self.fun_act == 3:\n",
    "            return self.sf_hyperbolic_tangent(input)\n",
    "        elif self.fun_act == 4:\n",
    "            return self.sf_relu(input)\n",
    "        else:\n",
    "            return \"Ha habido un error: Función de activación incorrecta.\"\n",
    "\n",
    "    def sf_threshold(self, input):\n",
    "        output = input.copy()\n",
    "        output[output<=0] = 0\n",
    "        output[output>0] = 1\n",
    "        return output\n",
    "\n",
    "    def sf_sigmoid(self, input):\n",
    "        return 1/(1+np.exp(-input))\n",
    "\n",
    "    def sf_hyperbolic_tangent(self, input):\n",
    "        return (np.exp(input) - np.exp(-input)) / (np.exp(input) + np.exp(-input))\n",
    "\n",
    "    def sf_relu(self, input):\n",
    "        return np.maximum([0], input)\n",
    "\n",
    "    # Función para mostrar los datos de la capa\n",
    "    def print(self):\n",
    "        print(\"Inputs: \\n\", self.peso_input)\n",
    "        print(\"Input shape: \\n\", self.peso_input.shape)\n",
    "        print(\"F Act: \\n\", self.fun_act)"
   ]
  },
  {
   "cell_type": "markdown",
   "metadata": {},
   "source": [
    "---"
   ]
  },
  {
   "cell_type": "code",
   "execution_count": 136,
   "metadata": {},
   "outputs": [],
   "source": [
    "class Red_Neuronal():\n",
    "    def __init__(self,num_neuronas_capa, f_act_capa, num_inputs_1):\n",
    "        self.lista_capas = []\n",
    "        c = Capa(num_neuronas_capa[0], num_inputs_1, f_act_capa[0])\n",
    "        self.lista_capas.append(c)\n",
    "        for i in range(1, len(num_neuronas_capa)):\n",
    "            c = Capa(num_neuronas_capa[i], num_neuronas_capa[i-1], f_act_capa[i])\n",
    "            self.lista_capas.append(c)\n",
    "\n",
    "    # Función para hacer los cálculos\n",
    "    def calc(self, inputs):\n",
    "        for c in self.lista_capas:\n",
    "            inputs = c.get_output(inputs)\n",
    "        return inputs\n",
    "\n",
    "    # Función para entrenar\n",
    "    def train(self, input, out_esp , ratio):\n",
    "        inputs, sumas = [], []\n",
    "        for c in self.lista_capas:\n",
    "            input = c.get_output(input)\n",
    "            sumas.append(c.suma)\n",
    "            inputs.append(input)\n",
    "\n",
    "        # Derivadas de las funciones de activación\n",
    "        df_act = self.f_act(sumas, 1)\n",
    "        print(\"df_act: \", df_act)\n",
    "\n",
    "        print(\"--------------------------------------------\")\n",
    "        # Delta\n",
    "        decm = self.d_ecm(self.f_ecm(np.array(input), out_esp))\n",
    "        delta = decm * df_act # derivada f_coste * derivada f_activación\n",
    "        print(\"delta: \", delta)\n",
    "\n",
    "        # Primera\n",
    "        pesos = self.lista_capas[-1].peso_input[1:]\n",
    "        bias = self.lista_capas[-1].peso_input[0] # bias\n",
    "\n",
    "        pesosNv = pesos - delta * pesos * ratio\n",
    "        bias = bias - delta * bias * ratio\n",
    "\n",
    "        print(\"Pesos: \\n\", pesosNv)\n",
    "        print(\"Bias: \\n\", bias)\n",
    "\n",
    "        print(\"--------------------------------------------\")\n",
    "        # Siguiente(s) capa(s)\n",
    "        # Nuevo delta cogiendo el delta anterior\n",
    "        df_act = self.f_act(sumas, 2)\n",
    "        delta = delta @ pesos.transpose() * df_act # derivada f_coste * derivada f_activación * pesos anterior * derivada f_coste anterior\n",
    "        print(\"delta: \\n\", delta)\n",
    "        print(\"pesos: \\n\", pesos)\n",
    "\n",
    "        # Hacer lo mismo con pesos y bias?\n",
    "        pesos2 = self.lista_capas[-2].peso_input[1:]\n",
    "        bias = self.lista_capas[-2].peso_input[0] # bias\n",
    "\n",
    "        mul = np.array([np.matmul(pesos2, delta)])\n",
    "        print(\"mul: \\n\", mul)\n",
    "\n",
    "        pesosNv = pesos2 - mul.transpose() * ratio # np.matmul(delta, pesos)\n",
    "        bias = bias - delta * bias * ratio\n",
    "\n",
    "        print(\"Pesos: \\n\", pesosNv)\n",
    "        print(\"Bias: \\n\", bias)\n",
    "\n",
    "\n",
    "\n",
    "\n",
    "    # Derivada según la función de activación\n",
    "    def f_act(self, sumas, i):\n",
    "        if (self.lista_capas[len(self.lista_capas)-i].fun_act) == 2:\n",
    "            return self.d_sigmoid(sumas[len(sumas)-i])\n",
    "        if (self.lista_capas[len(self.lista_capas)-i].fun_act) == 3:\n",
    "            return self.d_hyperbolic_tangent(sumas[len(sumas)-i])\n",
    "        if (self.lista_capas[len(self.lista_capas)-i].fun_act) == 4:\n",
    "            return self.d_relu(sumas[len(sumas)-i])\n",
    "\n",
    "    def f_ecm(self, r_esp, r_obt):\n",
    "        ecm = pow((r_esp - r_obt).sum(), 2)/len(r_esp)\n",
    "        return ecm\n",
    "\n",
    "    def d_ecm(self, input):\n",
    "        return np.sqrt(input)\n",
    "\n",
    "    def d_sigmoid(self, input):\n",
    "        return input * (1 - input)\n",
    "\n",
    "    def d_hyperbolic_tangent(self, input):\n",
    "        return 1 - (np.exp(input) - np.exp(-input)) / (np.exp(input) + np.exp(-input))**2\n",
    "\n",
    "    def d_relu(self, input):\n",
    "        output = input.copy()\n",
    "        output[output<=0] = 0\n",
    "        output[output>0] = 1\n",
    "        return output\n",
    "\n",
    "    # Función para mostrar los datos de la red neuronal\n",
    "    def print(self):\n",
    "        c = 1\n",
    "        for capa in self.lista_capas:\n",
    "            print(\"Capa c: \")\n",
    "            capa.print()\n",
    "            print(\"---------\")\n",
    "            c += 1"
   ]
  },
  {
   "cell_type": "markdown",
   "metadata": {},
   "source": [
    "---\n",
    "Pruebas"
   ]
  },
  {
   "cell_type": "code",
   "execution_count": 137,
   "metadata": {},
   "outputs": [
    {
     "name": "stdout",
     "output_type": "stream",
     "text": [
      "df_act:  [0.82757201 0.88800946 0.77383233]\n",
      "--------------------------------------------\n",
      "delta:  [0.30867776 0.33122044 0.28863329]\n",
      "Pesos: \n",
      " [[0.34990027 0.60169667 0.74351731]\n",
      " [0.72924093 0.69201887 0.2690752 ]]\n",
      "Bias: \n",
      " [0.30550488 0.44753094 0.0310088 ]\n",
      "--------------------------------------------\n",
      "delta: \n",
      " [-3.85947791 -1.05056306]\n",
      "pesos: \n",
      " [[0.45530782 0.8005707  0.9489388 ]\n",
      " [0.94892494 0.9207464  0.34341621]]\n",
      "mul: \n",
      " [[-0.68629553 -1.46957364 -4.10869967]]\n",
      "Pesos: \n",
      " [[0.5576019  1.01045596]\n",
      " [1.45968151 1.18766331]\n",
      " [4.04283491 3.46088737]]\n",
      "Bias: \n",
      " [3.29915912 1.63702043]\n"
     ]
    }
   ],
   "source": [
    "rn1 = Red_Neuronal([3,2,3], [4,2,3], 4)\n",
    "rn1.train([[4, -2, 3, -5]], [[0.7, 0.9, 0.5]], 0.75)"
   ]
  },
  {
   "cell_type": "markdown",
   "metadata": {},
   "source": [
    "---\n",
    "\n",
    "Error Cuadrático Medio: $$ECM = 1/N * Σ_i^N(RE_i-RO_i)^2$$\n",
    "derivada del Error Cuadrático Medio: $$dECM = 1/N * Σ_i^N(RE_i-RO_i)$$\n",
    "derivada función Sigmoide: $$x * (1-x)$$\n",
    "derivada función Hiperbólica: $$dtanhip = 1 - (tanhip(x)^2)$$\n",
    "derivada función ReLu: $$f(x) = { 0, x <= 0; 1, x > 0}$$"
   ]
  }
 ],
 "metadata": {
  "interpreter": {
   "hash": "69eb92836b941e979072a76c7fcfffe5419cca933cedd02cfafbdfca1a93358c"
  },
  "kernelspec": {
   "display_name": "Python 3.9.10 64-bit",
   "language": "python",
   "name": "python3"
  },
  "language_info": {
   "codemirror_mode": {
    "name": "ipython",
    "version": 3
   },
   "file_extension": ".py",
   "mimetype": "text/x-python",
   "name": "python",
   "nbconvert_exporter": "python",
   "pygments_lexer": "ipython3",
   "version": "3.9.10"
  },
  "orig_nbformat": 4
 },
 "nbformat": 4,
 "nbformat_minor": 2
}
