{
 "cells": [
  {
   "cell_type": "markdown",
   "metadata": {},
   "source": [
    "# Tarea: Hacer para N capas con un for"
   ]
  },
  {
   "cell_type": "markdown",
   "metadata": {},
   "source": [
    "---\n",
    "Imports"
   ]
  },
  {
   "cell_type": "code",
   "execution_count": 1,
   "metadata": {},
   "outputs": [],
   "source": [
    "import numpy as np\n",
    "import pandas as pd\n",
    "import matplotlib.pyplot as plt\n",
    "import time\n",
    "from IPython.display import clear_output\n"
   ]
  },
  {
   "cell_type": "markdown",
   "metadata": {},
   "source": [
    "---\n",
    "Código de la Capa"
   ]
  },
  {
   "cell_type": "code",
   "execution_count": 2,
   "metadata": {},
   "outputs": [],
   "source": [
    "class Capa:\n",
    "    def __init__(self, num_neuronas, num_entradas, fun_act):\n",
    "        self.peso_input = np.random.random((num_entradas+1, num_neuronas))\n",
    "        self.fun_act = fun_act\n",
    "\n",
    "    # Entra una matriz de 1 x n y sale una matriz de 1 x n\n",
    "    def get_output(self, input):\n",
    "        input = np.insert(input, 0, 1)\n",
    "        if (input.shape[0] == self.peso_input.shape[0]):\n",
    "            self.suma = np.matmul(input, self.peso_input)\n",
    "            return self.step_function(self.suma)\n",
    "        else: return \"Ha habido un error: No coinciden el número de neuronas\"\n",
    "\n",
    "    # Decide qué hacer según la función de activación\n",
    "    def step_function(self, input):\n",
    "        if self.fun_act == 1:\n",
    "            return self.sf_threshold(input)\n",
    "        elif self.fun_act == 2:\n",
    "            return self.sf_sigmoid(input)\n",
    "        elif self.fun_act == 3:\n",
    "            return self.sf_hyperbolic_tangent(input)\n",
    "        elif self.fun_act == 4:\n",
    "            return self.sf_relu(input)\n",
    "        else:\n",
    "            return \"Ha habido un error: Función de activación incorrecta.\"\n",
    "\n",
    "    def sf_threshold(self, input):\n",
    "        output = input.copy()\n",
    "        output[output<=0] = 0\n",
    "        output[output>0] = 1\n",
    "        return output\n",
    "\n",
    "    def sf_sigmoid(self, input):\n",
    "        return 1/(1+np.exp(-input))\n",
    "\n",
    "    def sf_hyperbolic_tangent(self, input):\n",
    "        return (np.exp(input) - np.exp(-input)) / (np.exp(input) + np.exp(-input))\n",
    "\n",
    "    def sf_relu(self, input):\n",
    "        return np.maximum([0], input)\n",
    "\n",
    "    # Función para mostrar los datos de la capa\n",
    "    def print(self):\n",
    "        print(\"Inputs: \\n\", self.peso_input)\n",
    "        print(\"Input shape: \\n\", self.peso_input.shape)\n",
    "        print(\"F Act: \\n\", self.fun_act)"
   ]
  },
  {
   "cell_type": "markdown",
   "metadata": {},
   "source": [
    "---"
   ]
  },
  {
   "cell_type": "code",
   "execution_count": 3,
   "metadata": {},
   "outputs": [],
   "source": [
    "class Red_Neuronal():\n",
    "    def __init__(self,num_neuronas_capa, f_act_capa, num_inputs_1):\n",
    "        self.lista_capas = []\n",
    "        c = Capa(num_neuronas_capa[0], num_inputs_1, f_act_capa[0])\n",
    "        self.lista_capas.append(c)\n",
    "        for i in range(1, len(num_neuronas_capa)):\n",
    "            c = Capa(num_neuronas_capa[i], num_neuronas_capa[i-1], f_act_capa[i])\n",
    "            self.lista_capas.append(c)\n",
    "\n",
    "    # Función para hacer los cálculos\n",
    "    def test(self, inputs):\n",
    "        for c in self.lista_capas:\n",
    "            inputs = c.get_output(inputs)\n",
    "        return inputs\n",
    "\n",
    "    # Función para entrenar\n",
    "    def train(self, input, out_esp , ratio):\n",
    "\n",
    "        inputs, sumas = [], []\n",
    "        for c in self.lista_capas:\n",
    "            input = c.get_output(input)\n",
    "            sumas.append(c.suma)\n",
    "            inputs.append(input)\n",
    "\n",
    "        # Derivadas de las funciones de activación\n",
    "        df_act = self.f_act(sumas, 1)\n",
    "        ecm = self.f_ecm(np.array(input), out_esp)\n",
    "        decm = self.d_ecm(ecm)\n",
    "\n",
    "        # Primera capa\n",
    "        delta = decm * df_act # derivada f_coste * derivada f_activación\n",
    "\n",
    "        pesos = self.lista_capas[-1].peso_input[1:]\n",
    "        bias = self.lista_capas[-1].peso_input[0]\n",
    "\n",
    "        self.lista_capas[-1].peso_input[1:] = pesos - inputs[-1].transpose() @ delta * ratio\n",
    "        self.lista_capas[-1].peso_input[0] = bias - delta.mean() * ratio\n",
    "\n",
    "        # Capas N\n",
    "        for n in range(2, len(self.lista_capas)+1):\n",
    "            pesos_tmp = pesos\n",
    "            df_act = self.f_act(sumas, n)\n",
    "            delta = delta @ pesos_tmp.transpose() * df_act # derivada f_coste * derivada f_activación * pesos anterior * derivada f_coste anterior\n",
    "\n",
    "            pesos = self.lista_capas[-n].peso_input[1:]\n",
    "            bias = self.lista_capas[-n].peso_input[0]\n",
    "\n",
    "            # cambiar los self.pesos y self.bias\n",
    "            self.lista_capas[-n].peso_input[1:] = pesos - inputs[-n].transpose() @ delta * ratio\n",
    "            self.lista_capas[-n].peso_input[0] = bias - delta.mean() * ratio\n",
    "\n",
    "    # Función y derivada del ecm\n",
    "    def f_ecm(self, r_esp, r_obt):\n",
    "        return np.square(np.subtract(r_esp, r_obt)).mean()\n",
    "\n",
    "    def d_ecm(self, input):\n",
    "        return np.sqrt(input)\n",
    "\n",
    "    # Derivada según la función de activación\n",
    "    def f_act(self, sumas, i):\n",
    "        if (self.lista_capas[len(self.lista_capas)-i].fun_act) == 2:\n",
    "            return self.d_sigmoid(sumas[len(sumas)-i])\n",
    "        if (self.lista_capas[len(self.lista_capas)-i].fun_act) == 3:\n",
    "            return self.d_hyperbolic_tangent(sumas[len(sumas)-i])\n",
    "        if (self.lista_capas[len(self.lista_capas)-i].fun_act) == 4:\n",
    "            return self.d_relu(sumas[len(sumas)-i])\n",
    "\n",
    "    def d_sigmoid(self, input):\n",
    "        return (1 / (1 + np.exp(-input)) * (1 - 1 / (1 + np.exp(-input))))\n",
    "\n",
    "    def d_hyperbolic_tangent(self, input):\n",
    "        return np.square(2 / (np.exp(input) + np.exp(-input)))\n",
    "\n",
    "    def d_relu(self, input):\n",
    "        output = input.copy()\n",
    "        output[output<=0] = 0\n",
    "        output[output>0] = 1\n",
    "        return output\n",
    "\n",
    "    # Función para mostrar los datos de la red neuronal\n",
    "    def print(self):\n",
    "        c = 1\n",
    "        for capa in self.lista_capas:\n",
    "            print(\"Capa c: \")\n",
    "            capa.print()\n",
    "            print(\"---------\")\n",
    "            c += 1"
   ]
  },
  {
   "cell_type": "code",
   "execution_count": 4,
   "metadata": {},
   "outputs": [],
   "source": [
    "def recorrido(red, inputs, outputs, iteraciones, ra, num_tests):\n",
    "    for i in range(1, iteraciones+1):\n",
    "        for input, output in zip(inputs, outputs):\n",
    "            red.train(input, output, ra)\n",
    "        if i % num_tests == 0:\n",
    "            resultados = []\n",
    "            for input, output in zip(inputs, outputs):\n",
    "                resultado = red.test(input)\n",
    "                resultados.append(resultado)\n",
    "            ecm = red.f_ecm(resultados, outputs)\n",
    "            print(ecm)\n",
    "\n",
    "def recorrido_grafico(red, inputs, outputs, iteraciones, ra, num_tests):\n",
    "    lista = []\n",
    "    for i in range(1, iteraciones+1):\n",
    "        for input, output in zip(inputs, outputs):\n",
    "            red.train(input, output, ra)\n",
    "        if i % num_tests == 0:\n",
    "            resultados = []\n",
    "            for input, output in zip(inputs, outputs):\n",
    "                resultado = red.test(input)\n",
    "                resultados.append(resultado)\n",
    "            ecm = red.f_ecm(resultados, outputs)\n",
    "            clear_output(wait=True)\n",
    "            lista.append(ecm)\n",
    "            plt.plot(lista)\n",
    "            plt.show()"
   ]
  },
  {
   "cell_type": "markdown",
   "metadata": {},
   "source": [
    "---\n",
    "Pruebas"
   ]
  },
  {
   "cell_type": "code",
   "execution_count": 5,
   "metadata": {},
   "outputs": [
    {
     "data": {
      "image/png": "[encoded data removed]",
      "text/plain": [
       "<Figure size 432x288 with 1 Axes>"
      ]
     },
     "metadata": {
      "needs_background": "light"
     },
     "output_type": "display_data"
    }
   ],
   "source": [
    "inputs = np.array([[0, 1, 1, 2, 1, 0]]).reshape(-1,1)\n",
    "outputs = np.array([[0, 0, 1, 1, 0, 1]]).reshape(-1,1)\n",
    "red = Red_Neuronal([1, 4, 3, 2, 1], [2, 3, 4, 3, 2], 1)\n",
    "recorrido_grafico(red, inputs, outputs, 12000, 0.005, 200)"
   ]
  },
  {
   "cell_type": "code",
   "execution_count": 6,
   "metadata": {},
   "outputs": [
    {
     "data": {
      "image/png": "[encoded data removed]",
      "text/plain": [
       "<Figure size 432x288 with 1 Axes>"
      ]
     },
     "metadata": {
      "needs_background": "light"
     },
     "output_type": "display_data"
    }
   ],
   "source": [
    "inputs = pd.read_csv(\"03_inputs.csv\", header=None).values\n",
    "outputs = pd.read_csv(\"03_outputs.csv\", header=None).values\n",
    "red = Red_Neuronal([8, 5, 7, 1], [2, 2, 2, 2], 2)\n",
    "recorrido_grafico(red, inputs, outputs, 100, 0.001, 2)"
   ]
  },
  {
   "cell_type": "code",
   "execution_count": 7,
   "metadata": {},
   "outputs": [
    {
     "data": {
      "image/png": "[encoded data removed]",
      "text/plain": [
       "<Figure size 432x288 with 1 Axes>"
      ]
     },
     "metadata": {
      "needs_background": "light"
     },
     "output_type": "display_data"
    }
   ],
   "source": [
    "inputs = pd.read_csv(\"03_inputs.csv\", header=None).values\n",
    "outputs = pd.read_csv(\"03_outputs.csv\", header=None).values\n",
    "red = Red_Neuronal([8, 5, 7, 1], [3, 3, 3, 3], 2)\n",
    "recorrido_grafico(red, inputs, outputs, 100, 0.001, 2)"
   ]
  },
  {
   "cell_type": "code",
   "execution_count": 8,
   "metadata": {},
   "outputs": [
    {
     "data": {
      "image/png": "[encoded data removed]",
      "text/plain": [
       "<Figure size 432x288 with 1 Axes>"
      ]
     },
     "metadata": {
      "needs_background": "light"
     },
     "output_type": "display_data"
    }
   ],
   "source": [
    "inputs = pd.read_csv(\"03_inputs.csv\", header=None).values\n",
    "outputs = pd.read_csv(\"03_outputs.csv\", header=None).values\n",
    "red = Red_Neuronal([8, 5, 7, 1], [4, 4, 4, 4], 2)\n",
    "recorrido_grafico(red, inputs, outputs, 100, 0.001, 2)"
   ]
  },
  {
   "cell_type": "markdown",
   "metadata": {},
   "source": [
    "---\n",
    "Ejemplo de visualización"
   ]
  },
  {
   "cell_type": "code",
   "execution_count": 9,
   "metadata": {},
   "outputs": [],
   "source": [
    "# Función para mostrar los resultados\n",
    "# Parámetros:\n",
    "# \t\tnn: red neuronal\n",
    "#\t\tX: la matriz con los datos de entrada\n",
    "#\t\tY: la matriz con las salidas esperadas\n",
    "#\t\tlr: Ratio de aprendizaje\n",
    "#\t\titerations: número de iteraciones que haremos sobre todo el conjunto de datos de entrenamiento\n",
    "def show_training(nn, X, Y, lr, iterations):\n",
    "    loss = []\n",
    "\n",
    "    for i in range(iterations+1):\n",
    "        # Entrenar la red neuronal\n",
    "        \n",
    "        for x in range(len(X)):\n",
    "# TODO cambiar nn.train por vuestro método de entrenamiento\n",
    "            nn.train(X[x], Y[x], lr)\n",
    "        # Every 50 iterations, we check if network is learning showing the graphics\n",
    "        if i % 5 == 0:\n",
    "            results = []\n",
    "            for x in range(len(X)):\n",
    "                results.append(nn.test(X[x]))\n",
    "# TODO cambiar \"cost\" por la llamada a vuestra función de coste:\n",
    "            loss.append(nn.f_ecm(results, Y))\n",
    "            # Show how our network is predicting\n",
    "            res = 50\n",
    "            _x0 = np.linspace(-1.5, 1.5, res)\n",
    "            _x1 = np.linspace(-1.5, 1.5, res)\n",
    "            _Y  = np.zeros((res, res))\n",
    "            for i0, x0 in enumerate(_x0):\n",
    "                for i1, x1 in enumerate(_x1):\n",
    "# TODO cambiar \"test\" por vuestro método de ejecutar o calcular\n",
    "                    _Y[i0, i1] = nn.test(np.array([[x0, x1]]))\n",
    "            \n",
    "            plt.pcolormesh(_x0, _x1, _Y, cmap=\"coolwarm\")\n",
    "            plt.axis(\"equal\")\n",
    "\n",
    "            plt.scatter(X[Y[:,0] == 0, 0], X[Y[:,0] == 0, 1], c=\"skyblue\")\n",
    "            plt.scatter(X[Y[:,0] == 1, 0], X[Y[:,0] == 1, 1], c=\"salmon\")\n",
    "\n",
    "            clear_output(wait=True)\n",
    "            plt.show()\n",
    "            plt.plot(range(len(loss)), loss)\n",
    "            plt.show()\n",
    "            time.sleep(0.25)"
   ]
  },
  {
   "cell_type": "code",
   "execution_count": 10,
   "metadata": {},
   "outputs": [
    {
     "data": {
      "image/png": "[encoded data removed]",
      "text/plain": [
       "<Figure size 432x288 with 1 Axes>"
      ]
     },
     "metadata": {
      "needs_background": "light"
     },
     "output_type": "display_data"
    },
    {
     "data": {
      "image/png": "[encoded data removed]",
      "text/plain": [
       "<Figure size 432x288 with 1 Axes>"
      ]
     },
     "metadata": {
      "needs_background": "light"
     },
     "output_type": "display_data"
    }
   ],
   "source": [
    "inputs = pd.read_csv(\"03_inputs.csv\", header=None).values\n",
    "outputs = pd.read_csv(\"03_outputs.csv\", header=None).values\n",
    "red = Red_Neuronal([2, 1], [3, 2], 2)\n",
    "show_training(red, inputs, outputs, 0.003, 500)"
   ]
  }
 ],
 "metadata": {
  "interpreter": {
   "hash": "69eb92836b941e979072a76c7fcfffe5419cca933cedd02cfafbdfca1a93358c"
  },
  "kernelspec": {
   "display_name": "Python 3.9.10 64-bit",
   "language": "python",
   "name": "python3"
  },
  "language_info": {
   "codemirror_mode": {
    "name": "ipython",
    "version": 3
   },
   "file_extension": ".py",
   "mimetype": "text/x-python",
   "name": "python",
   "nbconvert_exporter": "python",
   "pygments_lexer": "ipython3",
   "version": "3.10.0"
  },
  "orig_nbformat": 4
 },
 "nbformat": 4,
 "nbformat_minor": 2
}
