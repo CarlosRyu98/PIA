{
 "cells": [
  {
   "cell_type": "code",
   "execution_count": 14,
   "metadata": {},
   "outputs": [],
   "source": [
    "import numpy as np\n",
    "from Capa import Capa"
   ]
  },
  {
   "cell_type": "markdown",
   "metadata": {},
   "source": [
    "---"
   ]
  },
  {
   "cell_type": "code",
   "execution_count": 60,
   "metadata": {},
   "outputs": [],
   "source": [
    "class Red_Neuronal():\n",
    "    def __init__(self,num_neuronas_capa, f_act_capa, num_inputs_1):\n",
    "        self.lista_capas = []\n",
    "        self.lista_capas.append(Capa(num_neuronas_capa[0], num_inputs_1, f_act_capa[0]))\n",
    "        for i in range(1, len(num_neuronas_capa)):\n",
    "            c = Capa(num_neuronas_capa[i], num_neuronas_capa[i-1], f_act_capa[i])\n",
    "            self.lista_capas.append(c)\n",
    "\n",
    "    # Función para hacer los cálculos\n",
    "    def calc(self, inputs):\n",
    "        for c in self.lista_capas:\n",
    "            inputs = c.get_output(inputs)\n",
    "        return inputs\n",
    "\n",
    "\n",
    "    # Función para mostrar los datos de la red neuronal\n",
    "    def print(self):\n",
    "        c = 1\n",
    "        for capa in self.lista_capas:\n",
    "            print(\"Capa c: \")\n",
    "            capa.print()\n",
    "            print(\"---------\")\n",
    "            c += 1"
   ]
  },
  {
   "cell_type": "code",
   "execution_count": 61,
   "metadata": {},
   "outputs": [
    {
     "name": "stdout",
     "output_type": "stream",
     "text": [
      "Capa c: \n",
      "Input shape: \n",
      " (5, 3)\n",
      "F Act: \n",
      " 4\n",
      "---------\n",
      "Capa c: \n",
      "Input shape: \n",
      " (4, 2)\n",
      "F Act: \n",
      " 2\n",
      "---------\n",
      "Capa c: \n",
      "Input shape: \n",
      " (3, 1)\n",
      "F Act: \n",
      " 1\n",
      "---------\n",
      "[1.]\n"
     ]
    }
   ],
   "source": [
    "rn1 = Red_Neuronal([3,2,1], [4,2,1], 4)\n",
    "rn1.print()\n",
    "print(rn1.calc([[4, -2, 3, -5]]))"
   ]
  }
 ],
 "metadata": {
  "interpreter": {
   "hash": "69eb92836b941e979072a76c7fcfffe5419cca933cedd02cfafbdfca1a93358c"
  },
  "kernelspec": {
   "display_name": "Python 3.9.10 64-bit",
   "language": "python",
   "name": "python3"
  },
  "language_info": {
   "codemirror_mode": {
    "name": "ipython",
    "version": 3
   },
   "file_extension": ".py",
   "mimetype": "text/x-python",
   "name": "python",
   "nbconvert_exporter": "python",
   "pygments_lexer": "ipython3",
   "version": "3.9.10"
  },
  "orig_nbformat": 4
 },
 "nbformat": 4,
 "nbformat_minor": 2
}
