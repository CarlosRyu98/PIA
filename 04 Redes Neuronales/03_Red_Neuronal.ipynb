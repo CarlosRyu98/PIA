{
 "cells": [
  {
   "cell_type": "markdown",
   "metadata": {},
   "source": [
    "---\n",
    "Imports"
   ]
  },
  {
   "cell_type": "code",
   "execution_count": 31,
   "metadata": {},
   "outputs": [],
   "source": [
    "import numpy as np\n",
    "from Capa import Capa"
   ]
  },
  {
   "cell_type": "markdown",
   "metadata": {},
   "source": [
    "---"
   ]
  },
  {
   "cell_type": "markdown",
   "metadata": {},
   "source": [
    "Error Cuadrático Medio: $$ECM = 1/N * Σ_i^N(RE_i-RO_i)^2$$\n",
    "derivada del Error Cuadrático Medio: $$dECM = 1/N * Σ_i^N(RE_i-RO_i)$$\n",
    "derivada función Sigmoide: $$x * (1-x)$$\n",
    "derivada función Hiperbólica: $$dtanhip = 1 - (tanhip(x)^2)$$\n",
    "derivada función ReLu: $$f(x) = { 0, x <= 0; 1, x > 0}$$"
   ]
  },
  {
   "cell_type": "code",
   "execution_count": 42,
   "metadata": {},
   "outputs": [],
   "source": [
    "class Red_Neuronal():\n",
    "    def __init__(self,num_neuronas_capa, f_act_capa, num_inputs_1):\n",
    "        self.lista_capas = []\n",
    "        c = Capa(num_neuronas_capa[0], num_inputs_1, f_act_capa[0])\n",
    "        self.lista_capas.append(c)\n",
    "        for i in range(1, len(num_neuronas_capa)):\n",
    "            c = Capa(num_neuronas_capa[i], num_neuronas_capa[i-1], f_act_capa[i])\n",
    "            self.lista_capas.append(c)\n",
    "\n",
    "    # Función para hacer los cálculos\n",
    "    def calc(self, inputs):\n",
    "        for c in self.lista_capas:\n",
    "            inputs = c.get_output(inputs)\n",
    "        return inputs\n",
    "\n",
    "    # Función para entrenar\n",
    "    def train(self, ratio):\n",
    "        self.lista_capas[len(self.lista_capas)-1].peso_input # pesos\n",
    "        # pesos = pesos - delta * pesos * ratio\n",
    "        # bias = bias - delta * ratio\n",
    "\n",
    "    def f_coste(self, r_esp, r_obt):\n",
    "        ecm = pow((r_esp - r_obt).sum(), 2)/len(r_esp)\n",
    "        return ecm\n",
    "\n",
    "    # Función para mostrar los datos de la red neuronal\n",
    "    def print(self):\n",
    "        c = 1\n",
    "        for capa in self.lista_capas:\n",
    "            print(\"Capa c: \")\n",
    "            capa.print()\n",
    "            print(\"---------\")\n",
    "            c += 1"
   ]
  },
  {
   "cell_type": "markdown",
   "metadata": {},
   "source": [
    "---\n",
    "Pruebas"
   ]
  },
  {
   "cell_type": "code",
   "execution_count": 43,
   "metadata": {},
   "outputs": [
    {
     "name": "stdout",
     "output_type": "stream",
     "text": [
      "[0.81818059 0.90625736 0.90877882]\n",
      "0.09477337753381843\n",
      "[[0.44897686 0.74716777 0.53109032]\n",
      " [0.1228664  0.1785211  0.67917733]\n",
      " [0.58241629 0.58410487 0.31893368]]\n"
     ]
    }
   ],
   "source": [
    "rn1 = Red_Neuronal([3,2,3], [4,2,3], 4)\n",
    "# rn1.print()\n",
    "res = rn1.calc([[4, -2, 3, -5]])\n",
    "print(res)\n",
    "print(rn1.f_coste(np.array([0.7, 0.6, 0.8]), res))\n",
    "rn1.train(1)"
   ]
  }
 ],
 "metadata": {
  "interpreter": {
   "hash": "69eb92836b941e979072a76c7fcfffe5419cca933cedd02cfafbdfca1a93358c"
  },
  "kernelspec": {
   "display_name": "Python 3.9.10 64-bit",
   "language": "python",
   "name": "python3"
  },
  "language_info": {
   "codemirror_mode": {
    "name": "ipython",
    "version": 3
   },
   "file_extension": ".py",
   "mimetype": "text/x-python",
   "name": "python",
   "nbconvert_exporter": "python",
   "pygments_lexer": "ipython3",
   "version": "3.9.10"
  },
  "orig_nbformat": 4
 },
 "nbformat": 4,
 "nbformat_minor": 2
}
