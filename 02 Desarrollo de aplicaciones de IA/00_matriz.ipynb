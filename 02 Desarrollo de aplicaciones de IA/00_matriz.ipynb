{
 "cells": [
  {
   "cell_type": "code",
   "execution_count": 3,
   "metadata": {},
   "outputs": [
    {
     "name": "stdout",
     "output_type": "stream",
     "text": [
      "Primera matriz:\n",
      "[1, 1, 1, 1, 0]\n",
      "[1, 0, 1, 1, 0]\n",
      "[1, 0, 0, 1, 0]\n",
      "[1, 1, 0, 0, 0]\n",
      "[1, 0, 0, 0, 0]\n",
      "[1, 0, 1, 0, 0]\n",
      "[1, 0, 1, 0, 1]\n",
      "[0, 0, 0, 1, 0]\n",
      "[0, 0, 0, 0, 1]\n",
      "[1, 1, 1, 1, 0]\n",
      "---------------\n",
      "Segunda matriz:\n",
      "[0, 1, 1, 0, 1, 0, 1, 1, 1, 1]\n",
      "[1, 1, 1, 0, 0, 1, 1, 0, 0, 0]\n",
      "[1, 1, 1, 0, 0, 1, 0, 0, 1, 0]\n",
      "[1, 0, 1, 1, 1, 0, 1, 1, 1, 0]\n",
      "[0, 1, 1, 1, 0, 0, 1, 1, 0, 0]\n",
      "---------------\n",
      "Matriz multiplicada:\n",
      "[2, 1, 4, 3, 3]\n",
      "[2, 2, 1, 3, 2]\n",
      "[1, 1, 2, 1, 2]\n",
      "[1, 2, 2, 1, 0]\n",
      "[0, 1, 1, 0, 1]\n",
      "[1, 2, 2, 0, 1]\n",
      "[1, 3, 3, 1, 1]\n",
      "[1, 0, 1, 1, 1]\n",
      "[0, 1, 1, 1, 0]\n",
      "[3, 3, 4, 1, 2]\n"
     ]
    }
   ],
   "source": [
    "import random\n",
    "\n",
    "print(\"Primera matriz:\")\n",
    "matriz = []\n",
    "for x in range(0, 10):\n",
    "    matrizint = []\n",
    "    for y in range(0, 5):\n",
    "        matrizint.insert(len(matrizint), random.randint(0, 1))\n",
    "    matriz.insert(len(matriz), matrizint)\n",
    "for x in matriz:\n",
    "    print(x)\n",
    "\n",
    "print(\"---------------\")\n",
    "print(\"Segunda matriz:\")\n",
    "\n",
    "matriz2 = []\n",
    "for x in range(0, 5):\n",
    "    matrizint = []\n",
    "    for y in range(0, 10):\n",
    "        matrizint.insert(len(matrizint), random.randint(0, 1))\n",
    "    matriz2.insert(len(matriz2), matrizint)\n",
    "for x in matriz2:\n",
    "    print(x)\n",
    "\n",
    "print(\"---------------\")\n",
    "print(\"Matriz multiplicada:\")\n",
    "\n",
    "matriz3 = []\n",
    "for x in range(0, 10):\n",
    "    matrizint = []\n",
    "    for y in range(0, 5):\n",
    "        producto = 0\n",
    "        for z in range(0, 5):\n",
    "            producto += matriz[x][z] * matriz2[z][y]\n",
    "        matrizint.insert(len(matriz3), producto)\n",
    "    matriz3.insert(len(matriz3), matrizint)\n",
    "for x in matriz3:\n",
    "    print(x)"
   ]
  }
 ],
 "metadata": {
  "interpreter": {
   "hash": "5ef8c08b800cfe7a39ab89adcf703ee7065445770650f99cd00596bc349a0a52"
  },
  "kernelspec": {
   "display_name": "Python 3.9.7 64-bit (windows store)",
   "language": "python",
   "name": "python3"
  },
  "language_info": {
   "codemirror_mode": {
    "name": "ipython",
    "version": 3
   },
   "file_extension": ".py",
   "mimetype": "text/x-python",
   "name": "python",
   "nbconvert_exporter": "python",
   "pygments_lexer": "ipython3",
   "version": "3.9.8"
  },
  "orig_nbformat": 4
 },
 "nbformat": 4,
 "nbformat_minor": 2
}
