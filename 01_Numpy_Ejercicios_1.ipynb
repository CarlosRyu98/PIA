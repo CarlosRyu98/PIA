{
  "cells": [
    {
      "cell_type": "markdown",
      "metadata": {
        "id": "LXgzv1V5lPXi"
      },
      "source": [
        "# Ejercicios NumPy"
      ]
    },
    {
      "cell_type": "markdown",
      "metadata": {
        "id": "dA5cYe7AlShE"
      },
      "source": [
        "Tras hacer tus propias pruebas con la teoría de NumPy, completa los siguientes ejercicios en orden"
      ]
    },
    {
      "cell_type": "markdown",
      "metadata": {
        "id": "ADfp2pApl4BF"
      },
      "source": [
        "---\n",
        "## Ejercicio 1"
      ]
    },
    {
      "cell_type": "markdown",
      "metadata": {
        "id": "KXZZO1zol8Qo"
      },
      "source": [
        "Antes de empezar a trabajar de verdad, tendrás que importar la librería de NumPy para poder trabajar con ella:"
      ]
    },
    {
      "cell_type": "code",
      "execution_count": 2,
      "metadata": {
        "id": "KZOgslZVl9OD"
      },
      "outputs": [],
      "source": [
        "import numpy as np"
      ]
    },
    {
      "cell_type": "markdown",
      "metadata": {
        "id": "4VkL00bgl9ge"
      },
      "source": [
        "---\n",
        "## Ejercicio 2"
      ]
    },
    {
      "cell_type": "markdown",
      "metadata": {
        "id": "BoZhx3JLl-Si"
      },
      "source": [
        "Crea un array de **una dimensión** con los 10 valores que tu quieras y muéstralo por pantalla:"
      ]
    },
    {
      "cell_type": "code",
      "execution_count": 34,
      "metadata": {
        "id": "Dy7Unk9Wl-qx"
      },
      "outputs": [
        {
          "name": "stdout",
          "output_type": "stream",
          "text": [
            "[1 2 3 4 5 6 7 8 9 0]\n"
          ]
        }
      ],
      "source": [
        "a1d = np.array([1,2,3,4,5,6,7,8,9,0])\n",
        "print(a1d)"
      ]
    },
    {
      "cell_type": "markdown",
      "metadata": {
        "id": "6677oBi5l--F"
      },
      "source": [
        "---\n",
        "## Ejercicio 3"
      ]
    },
    {
      "cell_type": "markdown",
      "metadata": {
        "id": "41JYosl8l_wm"
      },
      "source": [
        "Crea un array de distinto nombre al anterior de **dos dimensiones** con los 3x3 valores que tu quieras y muéstrala por pantalla:"
      ]
    },
    {
      "cell_type": "code",
      "execution_count": 5,
      "metadata": {
        "id": "5mlfPZf6mABE"
      },
      "outputs": [
        {
          "name": "stdout",
          "output_type": "stream",
          "text": [
            "[[1 2 3]\n",
            " [4 5 6]\n",
            " [7 8 9]]\n"
          ]
        }
      ],
      "source": [
        "a2d = np.array([\n",
        "    [1,2,3],\n",
        "    [4,5,6],\n",
        "    [7,8,9]\n",
        "    ])\n",
        "print(a2d)"
      ]
    },
    {
      "cell_type": "markdown",
      "metadata": {
        "id": "eVg9kk42mAX_"
      },
      "source": [
        "---\n",
        "## Ejercicio 4"
      ]
    },
    {
      "cell_type": "markdown",
      "metadata": {
        "id": "pedf75MGmA-I"
      },
      "source": [
        "Crea un array de distinto nombre a los anteriores de **tres dimensiones** con los 2x2x2 valores que tu quieras y muéstrala por pantalla:"
      ]
    },
    {
      "cell_type": "code",
      "execution_count": 24,
      "metadata": {
        "id": "N6u9E6i3mBLv"
      },
      "outputs": [
        {
          "name": "stdout",
          "output_type": "stream",
          "text": [
            "[[[1 2]\n",
            "  [3 4]]\n",
            "\n",
            " [[5 6]\n",
            "  [7 8]]]\n",
            "(2, 2, 2)\n"
          ]
        }
      ],
      "source": [
        "a3d = np.array(\n",
        "    [\n",
        "        [\n",
        "            [1,2],\n",
        "            [3,4]\n",
        "        ],\n",
        "        [\n",
        "            [5,6],\n",
        "            [7,8]\n",
        "        ],\n",
        "    ])\n",
        "print(a3d)"
      ]
    },
    {
      "cell_type": "markdown",
      "metadata": {
        "id": "NK3e4TpmmBfN"
      },
      "source": [
        "---\n",
        "## Ejercicio 5"
      ]
    },
    {
      "cell_type": "markdown",
      "metadata": {
        "id": "YNcdlYDjmCBY"
      },
      "source": [
        "Muestra las dimensiones, el tamaño y la forma que tienen las tres matrices creadas anteriormente:"
      ]
    },
    {
      "cell_type": "code",
      "execution_count": 22,
      "metadata": {
        "id": "kB77aVDhmCN2"
      },
      "outputs": [
        {
          "name": "stdout",
          "output_type": "stream",
          "text": [
            "Dimensiones:  1\n",
            "Tipo:  int32\n",
            "Tamaño:  10\n",
            "Forma:  (10,)\n",
            "Dimensiones:  2\n",
            "Tipo:  int32\n",
            "Tamaño:  9\n",
            "Forma:  (3, 3)\n",
            "Dimensiones:  3\n",
            "Tipo:  int32\n",
            "Tamaño:  8\n",
            "Forma:  (2, 2, 2)\n"
          ]
        }
      ],
      "source": [
        "for x in (a1d, a2d, a3d):\n",
        "    print(\"Dimensiones: \", x.ndim)\n",
        "    print(\"Tipo: \", x.dtype)\n",
        "    print(\"Tamaño: \", x.size)\n",
        "    print(\"Forma: \", x.shape)"
      ]
    },
    {
      "cell_type": "markdown",
      "metadata": {
        "id": "dWM-6b0lnBbZ"
      },
      "source": [
        "---\n",
        "## Ejercicio 6"
      ]
    },
    {
      "cell_type": "markdown",
      "metadata": {
        "id": "oowvRvyrnCMy"
      },
      "source": [
        "Crea un array de una dimensión de tipo int8. En una de las posiciones pon el valor 1000. ¿Qué ocurre y porqué?"
      ]
    },
    {
      "cell_type": "code",
      "execution_count": 40,
      "metadata": {
        "id": "8l_eEmAvnCcL"
      },
      "outputs": [
        {
          "name": "stdout",
          "output_type": "stream",
          "text": [
            "[  1   2   3   4   5   6   7   8   9 -24]\n",
            "int8\n"
          ]
        }
      ],
      "source": [
        "a1di8 = np.array([1,2,3,4,5,6,7,8,9,0], dtype=np.int8)\n",
        "a1di8[9] = 1000\n",
        "print(a1di8)\n",
        "print(a1di8.dtype)"
      ]
    },
    {
      "cell_type": "markdown",
      "metadata": {
        "id": "qV3M-sd0nC26"
      },
      "source": [
        "---\n",
        "## Ejercicio 7"
      ]
    },
    {
      "cell_type": "markdown",
      "metadata": {
        "id": "yYZC-dFOnDmZ"
      },
      "source": [
        "Crea un array de dos dimensiones de tipo float128 y luego muestra su tipo por pantalla:"
      ]
    },
    {
      "cell_type": "code",
      "execution_count": 45,
      "metadata": {
        "id": "LkAGxyuFnDwh"
      },
      "outputs": [
        {
          "name": "stdout",
          "output_type": "stream",
          "text": [
            "[[1. 2. 3. 4. 5.]\n",
            " [6. 7. 8. 9. 0.]]\n",
            "float64\n"
          ]
        }
      ],
      "source": [
        "a2df128 = np.array([[1,2,3,4,5],[6,7,8,9,0]], dtype=np.float64)\n",
        "print(a2df128)\n",
        "print(a2df128.dtype)"
      ]
    },
    {
      "cell_type": "markdown",
      "metadata": {
        "id": "OZ3XX41HnEO1"
      },
      "source": [
        "---\n",
        "## Ejercicio 8"
      ]
    },
    {
      "cell_type": "markdown",
      "metadata": {
        "id": "3qBso9AbnE-9"
      },
      "source": [
        "Crea un array con la tabla del 5 en una sola instrucción y muéstralo por pantalla:"
      ]
    },
    {
      "cell_type": "code",
      "execution_count": 51,
      "metadata": {
        "id": "NpShB_oUnFKN"
      },
      "outputs": [
        {
          "name": "stdout",
          "output_type": "stream",
          "text": [
            "[ 0  5 10 15 20 25 30 35 40 45]\n"
          ]
        }
      ],
      "source": [
        "mult = 5\n",
        "am5 = np.arange(0, 10 * mult, mult)\n",
        "print(am5)"
      ]
    },
    {
      "cell_type": "markdown",
      "metadata": {
        "id": "Z2Ymsre1nFp-"
      },
      "source": [
        "---\n",
        "## Ejercicio 9"
      ]
    },
    {
      "cell_type": "markdown",
      "metadata": {
        "id": "R2LvvpIUnGXJ"
      },
      "source": [
        "Crea un array con 20 valores entre los números 1 y 2. Estos valores deben estar distribuídos de manera equitativa:"
      ]
    },
    {
      "cell_type": "code",
      "execution_count": 55,
      "metadata": {
        "id": "ft9_dnY1nGhd"
      },
      "outputs": [
        {
          "name": "stdout",
          "output_type": "stream",
          "text": [
            "[0.         0.05263158 0.10526316 0.15789474 0.21052632 0.26315789\n",
            " 0.31578947 0.36842105 0.42105263 0.47368421 0.52631579 0.57894737\n",
            " 0.63157895 0.68421053 0.73684211 0.78947368 0.84210526 0.89473684\n",
            " 0.94736842 1.        ]\n"
          ]
        }
      ],
      "source": [
        "a1e2 = np.linspace(0, 1, 20)\n",
        "print(a1e2)"
      ]
    },
    {
      "cell_type": "markdown",
      "metadata": {
        "id": "V_2YvVrUnGzO"
      },
      "source": [
        "---\n",
        "## Ejercicio 10"
      ]
    },
    {
      "cell_type": "markdown",
      "metadata": {
        "id": "veIUhoHdnHkC"
      },
      "source": [
        "Crea una matriz de forma 2x3 y muéstrala por pantalla. A continuación cambia su forma a una matriz 3x2"
      ]
    },
    {
      "cell_type": "code",
      "execution_count": 60,
      "metadata": {
        "id": "4xmNj-genHwf"
      },
      "outputs": [
        {
          "name": "stdout",
          "output_type": "stream",
          "text": [
            "(2, 3)\n",
            "[[1 2 3]\n",
            " [4 5 6]]\n",
            "(3, 2)\n",
            "[[1 2]\n",
            " [3 4]\n",
            " [5 6]]\n"
          ]
        }
      ],
      "source": [
        "a2x3 = np.array([\n",
        "    [1,2,3],\n",
        "    [4,5,6]\n",
        "    ])\n",
        "\n",
        "a3x2 = a2x3.reshape(3, 2)\n",
        "\n",
        "print(a2x3.shape)\n",
        "print(a2x3)\n",
        "print(a3x2.shape)\n",
        "print(a3x2)"
      ]
    },
    {
      "cell_type": "markdown",
      "metadata": {
        "id": "0OKve7lDoPMT"
      },
      "source": [
        "---\n",
        "## Ejercicio 11"
      ]
    },
    {
      "cell_type": "markdown",
      "metadata": {
        "id": "O-WK7p6soR8-"
      },
      "source": [
        "Crea una matriz de 3x6 con valores aleatorios. Después muestra por pantalla las siguientes convinaciones:\n",
        "*   La primera fila entera\n",
        "*   La primera columna entera\n",
        "*   Todos los valores entre las columnas 2 y 4\n",
        "*   Todos los valores de las filas 1 y 2\n",
        "*   Todos los valores entre las filas 2 y 3 y las columnas 5 y 6"
      ]
    },
    {
      "cell_type": "code",
      "execution_count": 82,
      "metadata": {
        "id": "A21uA-KdohAT"
      },
      "outputs": [
        {
          "name": "stdout",
          "output_type": "stream",
          "text": [
            "[[8 6 7 3 5 2]\n",
            " [5 0 5 0 6 4]\n",
            " [1 1 7 0 3 3]]\n",
            "----------------\n",
            "Primera columna\n",
            "[8 6 7 3 5 2]\n",
            "----------------\n",
            "Primera fila\n",
            "[8 5 1]\n",
            "----------------\n",
            "Columas 2-4\n",
            "[[6 7 3]\n",
            " [0 5 0]\n",
            " [1 7 0]]\n",
            "----------------\n",
            "Filas 1-2\n",
            "[[8 6 7 3 5 2]\n",
            " [5 0 5 0 6 4]]\n",
            "----------------\n",
            "Filas 2-3 Columnas 5-6\n",
            "[[6 4]\n",
            " [3 3]]\n"
          ]
        }
      ],
      "source": [
        "m3x6 = np.random.randint(10, size = (3, 6))\n",
        "\n",
        "print(m3x6)\n",
        "print(\"----------------\")\n",
        "print(\"1ª columna\")\n",
        "print(m3x6[0,:])\n",
        "print(\"----------------\")\n",
        "print(\"1ª fila\")\n",
        "print(m3x6[:,0])\n",
        "print(\"----------------\")\n",
        "print(\"Columas 2-4\")\n",
        "print(m3x6[:,1:4])\n",
        "print(\"----------------\")\n",
        "print(\"Filas 1-2\")\n",
        "print(m3x6[0:2,:])\n",
        "print(\"----------------\")\n",
        "print(\"Filas 2-3 Columnas 5-6\")\n",
        "print(m3x6[1:3,4:6])"
      ]
    },
    {
      "cell_type": "markdown",
      "metadata": {
        "id": "NcMs8O0xohx0"
      },
      "source": [
        "---\n",
        "## Ejercicio 12"
      ]
    },
    {
      "cell_type": "markdown",
      "metadata": {
        "id": "O2Aabc_Uoiqe"
      },
      "source": [
        "Crea un array de tamaño 1x5. Después añádele 5 elementos nuevos. Por último, elimina los dos primeros valores y muéstralo por pantalla:"
      ]
    },
    {
      "cell_type": "code",
      "execution_count": 85,
      "metadata": {
        "id": "8tSosR39oi2O"
      },
      "outputs": [
        {
          "name": "stdout",
          "output_type": "stream",
          "text": [
            "[1 2 3 4 5]\n",
            "[1 2 3 4 5 6 7 8 9 0]\n",
            "[3 4 5 6 7 8 9 0]\n"
          ]
        }
      ],
      "source": [
        "a1x5 = np.array([1,2,3,4,5])\n",
        "print(a1x5)\n",
        "a1x5 = np.append(a1x5, [6,7,8,9,0])\n",
        "print(a1x5)\n",
        "a1x5 = np.delete(a1x5, [0,1])\n",
        "print(a1x5)"
      ]
    },
    {
      "cell_type": "markdown",
      "metadata": {
        "id": "M9WW962tojUz"
      },
      "source": [
        "---\n",
        "## Ejercicio 13"
      ]
    },
    {
      "cell_type": "markdown",
      "metadata": {
        "id": "kPfnKIW6okVX"
      },
      "source": [
        "Crea dos matrices 3x3, una con valores aleatorios y otra de identidad. Realiza las cuatro operaciones básicas entre ellas (suma, resta, multiplicación y división). Por último, calcula la raíz cuadrada de matriz de identidad."
      ]
    },
    {
      "cell_type": "code",
      "execution_count": 97,
      "metadata": {
        "id": "h5PJEntqoks0"
      },
      "outputs": [
        {
          "name": "stdout",
          "output_type": "stream",
          "text": [
            "Matriz1:\n",
            "[[9 8 5]\n",
            " [6 4 4]\n",
            " [4 3 5]]\n",
            "-------------\n",
            "Matriz2:\n",
            "[[1. 0. 0.]\n",
            " [0. 1. 0.]\n",
            " [0. 0. 1.]]\n",
            "-------------\n",
            "Suma:\n",
            "[[10.  8.  5.]\n",
            " [ 6.  5.  4.]\n",
            " [ 4.  3.  6.]]\n",
            "-------------\n",
            "Resta:\n",
            "[[8. 8. 5.]\n",
            " [6. 3. 4.]\n",
            " [4. 3. 4.]]\n",
            "-------------\n",
            "Multiplicación:\n",
            "[[9. 0. 0.]\n",
            " [0. 4. 0.]\n",
            " [0. 0. 5.]]\n",
            "-------------\n",
            "División:\n",
            "[[ 9. inf inf]\n",
            " [inf  4. inf]\n",
            " [inf inf  5.]]\n",
            "-------------\n",
            "Raiz identidad:\n",
            "[[1. 0. 0.]\n",
            " [0. 1. 0.]\n",
            " [0. 0. 1.]]\n",
            "-------------\n"
          ]
        },
        {
          "name": "stderr",
          "output_type": "stream",
          "text": [
            "C:\\Users\\BDIA\\AppData\\Local\\Temp/ipykernel_7812/351832289.py:20: RuntimeWarning: divide by zero encountered in true_divide\n",
            "  print(m1 / m2)\n"
          ]
        }
      ],
      "source": [
        "m1 = np.random.randint(10, size = (3,3))\n",
        "m2 = np.identity(3)\n",
        "\n",
        "print(\"Matriz1:\")\n",
        "print(m1)\n",
        "print(\"-------------\")\n",
        "print(\"Matriz2:\")\n",
        "print(m2)\n",
        "print(\"-------------\")\n",
        "print(\"Suma:\")\n",
        "print(m1 + m2)\n",
        "print(\"-------------\")\n",
        "print(\"Resta:\")\n",
        "print(m1 - m2)\n",
        "print(\"-------------\")\n",
        "print(\"Multiplicación:\")\n",
        "print(m1 * m2)\n",
        "print(\"-------------\")\n",
        "print(\"División:\")\n",
        "print(m1 / m2)\n",
        "print(\"-------------\")\n",
        "print(\"Raiz identidad:\")\n",
        "print(np.sqrt(m2))\n",
        "print(\"-------------\")"
      ]
    },
    {
      "cell_type": "markdown",
      "metadata": {
        "id": "-pvYqcfFolmh"
      },
      "source": [
        "---\n",
        "## Ejercicio 14"
      ]
    },
    {
      "cell_type": "markdown",
      "metadata": {
        "id": "sM9V2Ulnomoo"
      },
      "source": [
        "Sin utilizar las funciones std, mean y median de NumPy, programa dichas funcionalidades:"
      ]
    },
    {
      "cell_type": "code",
      "execution_count": 110,
      "metadata": {
        "id": "eeN5RTZQom_m"
      },
      "outputs": [
        {
          "name": "stdout",
          "output_type": "stream",
          "text": [
            "5.666666666666667\n"
          ]
        }
      ],
      "source": [
        "matriz = np.random.randint(10, size = (3,3))\n",
        "\n",
        "def calcMedia(matriz):\n",
        "    media = float(np.sum(matriz) / matriz.size)\n",
        "    return media\n",
        "\n",
        "print(calcMedia(matriz))"
      ]
    },
    {
      "cell_type": "markdown",
      "metadata": {
        "id": "-QL_QTj-oncQ"
      },
      "source": [
        "---\n",
        "## Ejercicio 15"
      ]
    },
    {
      "cell_type": "markdown",
      "metadata": {
        "id": "jxdjFioFooZS"
      },
      "source": [
        "Compara los tiempos de ejecución entre las funciones que has creado anteriormente  y las de NumPy para matrices de tamaño 1.000.000 x 1.000.000 con valores aleatorios:"
      ]
    },
    {
      "cell_type": "code",
      "execution_count": null,
      "metadata": {
        "id": "3Z7iVaiooosD"
      },
      "outputs": [],
      "source": []
    }
  ],
  "metadata": {
    "colab": {
      "name": "01-Numpy_Ejercicios_1.ipynb",
      "provenance": []
    },
    "kernelspec": {
      "display_name": "Python 3",
      "name": "python3"
    },
    "language_info": {
      "codemirror_mode": {
        "name": "ipython",
        "version": 3
      },
      "file_extension": ".py",
      "mimetype": "text/x-python",
      "name": "python",
      "nbconvert_exporter": "python",
      "pygments_lexer": "ipython3",
      "version": "3.9.8"
    }
  },
  "nbformat": 4,
  "nbformat_minor": 0
}
