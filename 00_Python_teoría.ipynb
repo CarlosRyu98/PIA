{
  "cells": [
    {
      "cell_type": "markdown",
      "metadata": {
        "id": "rnxGFBDlNV_V"
      },
      "source": [
        "Aquí podréis aprender los conocimientos mínimos necesarios de Python para empezar a utilizarlo en vuestras aplicaciones de Inteligencia Artificial, Machine Learning y Big Data.\n",
        "\n",
        "**Dato curioso:** Python recibió su nombre de la compañía de comedia británica Monty Python.\n"
      ]
    },
    {
      "cell_type": "markdown",
      "metadata": {
        "id": "ts6XANINP0hb"
      },
      "source": [
        "---\n",
        "# Hello, World!\n"
      ]
    },
    {
      "cell_type": "markdown",
      "metadata": {
        "id": "fyexsbm9Wljj"
      },
      "source": [
        "Como todo buen comienzo en la programación, comenzaremos por hacer un programa en Python que muestre por pantalla el texto \"Hello, World!\":"
      ]
    },
    {
      "cell_type": "code",
      "execution_count": 1,
      "metadata": {
        "colab": {
          "base_uri": "https://localhost:8080/"
        },
        "id": "7VZ3PhagQI2p",
        "outputId": "a8782eed-2fc7-46df-f87a-62e05e500be7"
      },
      "outputs": [
        {
          "name": "stdout",
          "output_type": "stream",
          "text": [
            "Hello, World!\n"
          ]
        }
      ],
      "source": [
        "print(\"Hello, World!\")"
      ]
    },
    {
      "cell_type": "markdown",
      "metadata": {
        "id": "aG9aFQ_vWii5"
      },
      "source": [
        "Sencillo, ¿No? En este caso podemos ver cómo la función principal utilizada por Python para mostrar información por pantalla es \"print()\". Aun así, qué sería de nosotros si no pudieramos introducir información y utilizarla. Para ello utilizaremos la función **input**:"
      ]
    },
    {
      "cell_type": "code",
      "execution_count": 2,
      "metadata": {
        "colab": {
          "base_uri": "https://localhost:8080/"
        },
        "id": "uioney9efSeF",
        "outputId": "33cc6847-5e61-46ab-af56-42b2f399aa92"
      },
      "outputs": [
        {
          "name": "stdout",
          "output_type": "stream",
          "text": [
            "¡Hola a!\n"
          ]
        }
      ],
      "source": [
        "name = input(\"Introduce tu nombre: \")\n",
        "print(\"¡Hola \" + name + \"!\")"
      ]
    },
    {
      "cell_type": "markdown",
      "metadata": {
        "id": "MrGF8th4QXM9"
      },
      "source": [
        "---\n",
        "# Variables"
      ]
    },
    {
      "cell_type": "markdown",
      "metadata": {
        "id": "XQjLV2bfWbeh"
      },
      "source": [
        "Aquí tenéis un ejemplo de cómo se pueden definir variables y asignarles valores para, posteriormente, mostrar su valor por pantalla:"
      ]
    },
    {
      "cell_type": "code",
      "execution_count": 3,
      "metadata": {
        "id": "yM-gPfm_SBIR"
      },
      "outputs": [
        {
          "name": "stdout",
          "output_type": "stream",
          "text": [
            "Hello, World!\n"
          ]
        }
      ],
      "source": [
        "variable = \"Hello, World!\"\n",
        "print(variable)"
      ]
    },
    {
      "cell_type": "markdown",
      "metadata": {
        "id": "RcJ3UaBMTsIi"
      },
      "source": [
        "Tal y como habrás podido comprobar, no hace falta definir las variables. En Python, cada variable se crea en el momento en que por primera vez se le asigna un valor. Además, no necesitan declararse con ningún tipo en particular, e incluso pueden cambiar de tipo después de que se hayan establecido:"
      ]
    },
    {
      "cell_type": "code",
      "execution_count": 4,
      "metadata": {
        "id": "Y9AwMrhfUAvH"
      },
      "outputs": [
        {
          "name": "stdout",
          "output_type": "stream",
          "text": [
            "25\n",
            "<class 'int'>\n",
            "Nuevo tipo de variable\n",
            "<class 'str'>\n"
          ]
        }
      ],
      "source": [
        "x = 25\n",
        "print(x)\n",
        "#También podemos conocer el tipo de una variable de la siguiente manera\n",
        "print(type(x))\n",
        "x = \"Nuevo tipo de variable\"\n",
        "print(x)\n",
        "print(type(x))"
      ]
    },
    {
      "cell_type": "markdown",
      "metadata": {
        "id": "mDVlEW5fUZki"
      },
      "source": [
        "Así mismo, puede que en algún momento te interese cambiar el tipo de una variable mediante la conversión de tipos. Aquí os muestro unos de los ejemplos más típicos:"
      ]
    },
    {
      "cell_type": "code",
      "execution_count": 5,
      "metadata": {
        "id": "yS6FfUD9Uj2y"
      },
      "outputs": [
        {
          "name": "stdout",
          "output_type": "stream",
          "text": [
            "3 3 3.0\n"
          ]
        }
      ],
      "source": [
        "x = str(3)    # x será \"3\"\n",
        "y = int(3)    # y será 3\n",
        "z = float(3)  # z será 3.0\n",
        "print(x,y,z)"
      ]
    },
    {
      "cell_type": "markdown",
      "metadata": {
        "id": "wlx-IhaiWHp6"
      },
      "source": [
        "Cabe destacar que todas las variables de Python definidas fuera de una función son **globales**. Las únicas variables locales son las definidas dentro de una función. Aun así, también existe la posibilidad de definir variables globales dentro de funciones:"
      ]
    },
    {
      "cell_type": "code",
      "execution_count": 6,
      "metadata": {
        "id": "HgHmSMMfpcZY"
      },
      "outputs": [
        {
          "name": "stdout",
          "output_type": "stream",
          "text": [
            "3\n"
          ]
        }
      ],
      "source": [
        "def example_function():\n",
        "  global x\n",
        "  x = 10\n",
        "\n",
        "print(x)"
      ]
    },
    {
      "cell_type": "markdown",
      "metadata": {
        "id": "1D2EDp5XpiM2"
      },
      "source": [
        "El error al ejecutar el ejemplo anterior viene de que aunque definamos una variable global en una función, la variable global no existe hasta que se ejecute la función:"
      ]
    },
    {
      "cell_type": "code",
      "execution_count": 7,
      "metadata": {
        "id": "XVnwZUvLSoDn"
      },
      "outputs": [
        {
          "name": "stdout",
          "output_type": "stream",
          "text": [
            "10\n"
          ]
        }
      ],
      "source": [
        "def example_function():\n",
        "  global x\n",
        "  x = 10\n",
        "\n",
        "example_function()\n",
        "print(x)"
      ]
    },
    {
      "cell_type": "markdown",
      "metadata": {
        "id": "qMZ6v-dzqLda"
      },
      "source": [
        "Por último, se pueden definir variables al mismo tiempo de las siguientes formas:"
      ]
    },
    {
      "cell_type": "code",
      "execution_count": 8,
      "metadata": {
        "id": "rG6KcYzFqb0q"
      },
      "outputs": [
        {
          "name": "stdout",
          "output_type": "stream",
          "text": [
            "Orange\n",
            "Banana\n",
            "Cherry\n",
            "Orange\n",
            "Orange\n",
            "Orange\n"
          ]
        }
      ],
      "source": [
        "#Asignando a cada una un valor diferente en función de la posición que ocupan\n",
        "x, y, z = \"Orange\", \"Banana\", \"Cherry\"\n",
        "print(x)\n",
        "print(y)\n",
        "print(z)\n",
        "\n",
        "#Asignando a cada una el mismo valor\n",
        "x = y = z = \"Orange\"\n",
        "print(x)\n",
        "print(y)\n",
        "print(z)"
      ]
    },
    {
      "cell_type": "markdown",
      "metadata": {
        "id": "jAalWubdr01Y"
      },
      "source": [
        "---\n",
        "# Colecciones de datos"
      ]
    },
    {
      "cell_type": "markdown",
      "metadata": {
        "id": "36fkGZtjsyM3"
      },
      "source": [
        "## Listas"
      ]
    },
    {
      "cell_type": "markdown",
      "metadata": {
        "id": "VexGEn5ps75K"
      },
      "source": [
        "Unas de las colecciones de datos más utilizadas son las listas:"
      ]
    },
    {
      "cell_type": "code",
      "execution_count": 9,
      "metadata": {
        "id": "RT7ikT6Rumud"
      },
      "outputs": [
        {
          "name": "stdout",
          "output_type": "stream",
          "text": [
            "['primero', 'segundo', 'tercero']\n"
          ]
        }
      ],
      "source": [
        "mi_lista = [\"primero\", \"segundo\", \"tercero\"]\n",
        "print(mi_lista)"
      ]
    },
    {
      "cell_type": "markdown",
      "metadata": {
        "id": "ZqhKly1mu1y6"
      },
      "source": [
        "Sus datos están indexados y ordenados, entendiendo por orden que cada dato tiene asignada una posición concreta. También podemos acceder y modificar posiciones concretas de una lista definida:"
      ]
    },
    {
      "cell_type": "code",
      "execution_count": 10,
      "metadata": {
        "id": "12MNAQ8cu_e0"
      },
      "outputs": [
        {
          "name": "stdout",
          "output_type": "stream",
          "text": [
            "['primero', 'segundo', 'cuarto']\n"
          ]
        }
      ],
      "source": [
        "mi_lista = [\"primero\", \"segundo\", \"tercero\"]\n",
        "mi_lista[2] = \"cuarto\"\n",
        "print(mi_lista)"
      ]
    },
    {
      "cell_type": "markdown",
      "metadata": {
        "id": "QW2funOdvKnL"
      },
      "source": [
        "También se pueden añadir nuevos elementos o eliminar alguno de ellos, así como extender una lista con los elementos de otra:"
      ]
    },
    {
      "cell_type": "code",
      "execution_count": 11,
      "metadata": {
        "id": "fQCvTCo7vYsM"
      },
      "outputs": [
        {
          "name": "stdout",
          "output_type": "stream",
          "text": [
            "['primero', 'segundo', 'tercero']\n",
            "['nuevo_elemento_inicio', 'primero', 'segundo', 'tercero', 'nuevo_elemento_final']\n",
            "['primero', 'segundo', 'tercero', 'nuevo_elemento_final']\n",
            "['primero', 'segundo', 'tercero']\n",
            "['primero', 'segundo', 'tercero', 'cuarto', 'quinto', 'sexto']\n"
          ]
        }
      ],
      "source": [
        "mi_lista = [\"primero\", \"segundo\", \"tercero\"]\n",
        "print(mi_lista)\n",
        "\n",
        "#Añadir un nuevo elemento en una posición concreta, en este caso al principio y al final\n",
        "mi_lista.insert(0, \"nuevo_elemento_inicio\")\n",
        "mi_lista.insert(len(mi_lista), \"nuevo_elemento_final\")\n",
        "print(mi_lista)\n",
        "\n",
        "#Eliminar un elemento por su valor\n",
        "mi_lista.remove(\"nuevo_elemento_inicio\")\n",
        "print(mi_lista)\n",
        "\n",
        "#Eliminar un elemento por su posición\n",
        "mi_lista.pop(3)\n",
        "print(mi_lista)\n",
        "\n",
        "#Extender una lista con los valores de otra\n",
        "mi_segunda_lista = [\"cuarto\", \"quinto\", \"sexto\"]\n",
        "mi_lista.extend(mi_segunda_lista)\n",
        "print(mi_lista)"
      ]
    },
    {
      "cell_type": "markdown",
      "metadata": {
        "id": "_EfaqXI3toBR"
      },
      "source": [
        "## Tuplas"
      ]
    },
    {
      "cell_type": "markdown",
      "metadata": {
        "id": "5l38Q7nkt_Wc"
      },
      "source": [
        "Las tuplas son similares a las listas solo que tanto su tamaño y posiciones como sus valores **no se pueden modificar**:"
      ]
    },
    {
      "cell_type": "code",
      "execution_count": 12,
      "metadata": {
        "id": "2nVquzTPxFQi"
      },
      "outputs": [
        {
          "name": "stdout",
          "output_type": "stream",
          "text": [
            "('primero', 'segundo', 'tercero')\n"
          ]
        }
      ],
      "source": [
        "mi_tupla = (\"primero\", \"segundo\", \"tercero\")\n",
        "print(mi_tupla)"
      ]
    },
    {
      "cell_type": "markdown",
      "metadata": {
        "id": "fVx10WcLx0KM"
      },
      "source": [
        "Las tuplas, a diferencia de las listas, admiten distintos tipos de datos en una misma:"
      ]
    },
    {
      "cell_type": "code",
      "execution_count": 13,
      "metadata": {
        "id": "zfvUPaX7x5t4"
      },
      "outputs": [
        {
          "name": "stdout",
          "output_type": "stream",
          "text": [
            "('abc', 34, True, 40, 'nombre')\n"
          ]
        }
      ],
      "source": [
        "tupla = (\"abc\", 34, True, 40, \"nombre\")\n",
        "print(tupla)"
      ]
    },
    {
      "cell_type": "markdown",
      "metadata": {
        "id": "Qi_LX-gLt_9G"
      },
      "source": [
        "## Sets"
      ]
    },
    {
      "cell_type": "markdown",
      "metadata": {
        "id": "GJtjRrMnuSEc"
      },
      "source": [
        "Los sets son colecciones de datos sin orden y sin indexar por lo que no permiten duplicados."
      ]
    },
    {
      "cell_type": "code",
      "execution_count": 14,
      "metadata": {
        "id": "D0g33s-V1eVR"
      },
      "outputs": [
        {
          "name": "stdout",
          "output_type": "stream",
          "text": [
            "{'def', 'abc', 'xgm'}\n"
          ]
        }
      ],
      "source": [
        "mi_set = {\"abc\", \"def\", \"xgm\"}\n",
        "print(mi_set)"
      ]
    },
    {
      "cell_type": "markdown",
      "metadata": {
        "id": "zBEwGzAV1nv6"
      },
      "source": [
        "Al igual que las tuplas, los sets permiten tener distintos tipos de datos:"
      ]
    },
    {
      "cell_type": "code",
      "execution_count": 15,
      "metadata": {
        "id": "JBurkrBO2f50"
      },
      "outputs": [
        {
          "name": "stdout",
          "output_type": "stream",
          "text": [
            "{True, 34, 40, 'name', 'abc'}\n"
          ]
        }
      ],
      "source": [
        "mi_set = {\"abc\", 34, True, 40, \"name\"}\n",
        "print(mi_set)"
      ]
    },
    {
      "cell_type": "markdown",
      "metadata": {
        "id": "hrwPkP0buSUA"
      },
      "source": [
        "## Diccionarios"
      ]
    },
    {
      "cell_type": "markdown",
      "metadata": {
        "id": "wKva2AniuUgJ"
      },
      "source": [
        "Los diccionarios son utilizados para almacenar informacion en pares de clave:valor"
      ]
    },
    {
      "cell_type": "code",
      "execution_count": 16,
      "metadata": {
        "id": "gMdwnDuB3_y6"
      },
      "outputs": [
        {
          "name": "stdout",
          "output_type": "stream",
          "text": [
            "{'brand': 'Ford', 'model': 'Mustang', 'year': 1964}\n"
          ]
        }
      ],
      "source": [
        "mi_diccionario = {\n",
        "  \"brand\": \"Ford\",\n",
        "  \"model\": \"Mustang\",\n",
        "  \"year\": 1964\n",
        "}\n",
        "print(mi_diccionario)"
      ]
    },
    {
      "cell_type": "markdown",
      "metadata": {
        "id": "DfZKAo9f4Pkc"
      },
      "source": [
        "En los diccionarios no se permiten duplicados en el elemento *clave* pero sí en el elemento *valor*. Además, se pueden utilizar valores y claves de cualquier tipo:"
      ]
    },
    {
      "cell_type": "code",
      "execution_count": 17,
      "metadata": {
        "colab": {
          "base_uri": "https://localhost:8080/"
        },
        "id": "ArWdFagz24wd",
        "outputId": "d7c38d0f-432c-497a-96ae-b05f0d61eb01"
      },
      "outputs": [
        {
          "name": "stdout",
          "output_type": "stream",
          "text": [
            "{'brand': 'Ford', 'model': 'Mustang', 'year': 1964, 1: 'Mustang'}\n"
          ]
        }
      ],
      "source": [
        "mi_diccionario = {\n",
        "    \"brand\": \"Ford\",\n",
        "    \"model\": \"Mustang\",\n",
        "    \"year\": 1964,\n",
        "    1: \"Mustang\"\n",
        "}\n",
        "print(mi_diccionario)"
      ]
    },
    {
      "cell_type": "markdown",
      "metadata": {
        "id": "zho-mLCO3kFu"
      },
      "source": [
        "Los diccionarios son modificables, se puede modificar el valor asociado a cualquier clave pero no las claves en sí:"
      ]
    },
    {
      "cell_type": "code",
      "execution_count": 18,
      "metadata": {
        "id": "pU1Bv95h4Y2r"
      },
      "outputs": [
        {
          "name": "stdout",
          "output_type": "stream",
          "text": [
            "{'brand': 'Ford', 'model': 'Mustang', 'year': 2018}\n"
          ]
        }
      ],
      "source": [
        "mi_diccionario = {\n",
        "  \"brand\": \"Ford\",\n",
        "  \"model\": \"Mustang\",\n",
        "  \"year\": 1964\n",
        "}\n",
        "mi_diccionario[\"year\"] = 2018\n",
        "print(mi_diccionario)"
      ]
    },
    {
      "cell_type": "markdown",
      "metadata": {
        "id": "2g2or2MU4eX6"
      },
      "source": [
        "Se pueden añadir nuevos elementos o eliminar algún elemento existente de la siguiente manera:"
      ]
    },
    {
      "cell_type": "code",
      "execution_count": 19,
      "metadata": {
        "id": "g-mLA4fy4nOi"
      },
      "outputs": [
        {
          "name": "stdout",
          "output_type": "stream",
          "text": [
            "{'brand': 'Ford', 'model': 'Mustang', 'year': 1964, 'color': 'red'}\n",
            "{'brand': 'Ford', 'model': 'Mustang', 'year': 1964}\n"
          ]
        }
      ],
      "source": [
        "# Añadir nuevos elementos:\n",
        "mi_diccionario = {\n",
        "  \"brand\": \"Ford\",\n",
        "  \"model\": \"Mustang\",\n",
        "  \"year\": 1964\n",
        "}\n",
        "mi_diccionario[\"color\"] = \"red\"\n",
        "print(mi_diccionario)\n",
        "\n",
        "# Eliminar un elemento concreto por la clave:\n",
        "mi_diccionario.pop(\"color\")\n",
        "print(mi_diccionario)\n"
      ]
    },
    {
      "cell_type": "markdown",
      "metadata": {
        "id": "tu1qXoyz5ZMr"
      },
      "source": [
        "A la hora de recorrer y utilizar los distintos elementos, tanto claves como valores, de un diccionario, podemos utilizar distintos métodos:"
      ]
    },
    {
      "cell_type": "code",
      "execution_count": 20,
      "metadata": {
        "id": "6mmLgakd5iAB"
      },
      "outputs": [
        {
          "name": "stdout",
          "output_type": "stream",
          "text": [
            "[brand] = Ford\n",
            "[model] = Mustang\n",
            "[year] = 1964\n",
            "dict_keys(['brand', 'model', 'year'])\n",
            "dict_values(['Ford', 'Mustang', 1964])\n",
            "brand Ford\n",
            "model Mustang\n",
            "year 1964\n"
          ]
        }
      ],
      "source": [
        "mi_diccionario = {\n",
        "    \"brand\": \"Ford\",\n",
        "    \"model\": \"Mustang\",\n",
        "    \"year\": 1964\n",
        "}\n",
        "\n",
        "# En este caso la variable \"x\" almacenará en cada iteración del bucle las distintas claves del diccionario\n",
        "for x in mi_diccionario:\n",
        "  # En este caso, se utiliza la convesión a string sobre los valores del diccionario para evitar errores a la hora de concatenar (no se puede concatenar un string con un valor entero)\n",
        "  print(\"[\" + x + \"] = \" + str(mi_diccionario[x]))\n",
        "\n",
        "# También podemos utilizar las funciones \".keys()\" y \".values()\" para obtener un listado de claves y valores respectivamente\n",
        "claves = mi_diccionario.keys()\n",
        "valores = mi_diccionario.values()\n",
        "print(claves)\n",
        "print(valores)\n",
        "\n",
        "# En el caso de querer recorrer ambos al mismo tiempo sería de la siguiente forma:\n",
        "for x, y in mi_diccionario.items():\n",
        "  # Siendo la \"x\" la clave y la \"y\" el valor de cada elemento del diccionario\n",
        "  print(x, y)\n"
      ]
    },
    {
      "cell_type": "markdown",
      "metadata": {
        "id": "BiZ2Gqyr--K2"
      },
      "source": [
        "---\n",
        "# Estructuras de control"
      ]
    },
    {
      "cell_type": "markdown",
      "metadata": {
        "id": "fytdbUTW_EmF"
      },
      "source": [
        "## if..else"
      ]
    },
    {
      "cell_type": "markdown",
      "metadata": {
        "id": "i1zmV0cE_RVH"
      },
      "source": [
        "En python, estas son las principales expresiones lógicas de comparación:\n",
        "\n",
        "*   Igual: **a == b**\n",
        "*   Distinto: **a != b**\n",
        "*   Menor: **a < b**\n",
        "*   Menor o igual: **a <= b**\n",
        "*   Mayor: **a > b**\n",
        "*   Mayor o igual: **a >= b**\n",
        "\n",
        "Además, python se basa en el uso de la sandria en lugar de las típicas llaves \"{}\" de otros lenguajes para diferenciar las instrucciones que hay en el interior de una estructura de control:"
      ]
    },
    {
      "cell_type": "code",
      "execution_count": 21,
      "metadata": {
        "id": "8RX8laJLpB0x"
      },
      "outputs": [
        {
          "name": "stdout",
          "output_type": "stream",
          "text": [
            "a es mayor que b\n"
          ]
        }
      ],
      "source": [
        "a = 41\n",
        "b = 12\n",
        "if a > b:\n",
        "  print(\"a es mayor que b\")\n",
        "else:\n",
        "  print(\"b es mayor que a\")"
      ]
    },
    {
      "cell_type": "markdown",
      "metadata": {
        "id": "3rKDdS1kpSDg"
      },
      "source": [
        "Al igual que otros lenguajes, se puede utilizar únicamente la instrucción *if* sin un *else* anidado o se pueden anidar varios mediante la etiqueta **elif**:"
      ]
    },
    {
      "cell_type": "code",
      "execution_count": 22,
      "metadata": {
        "id": "KuOKjav3pdiU"
      },
      "outputs": [
        {
          "name": "stdout",
          "output_type": "stream",
          "text": [
            "a es mayor que 10\n",
            "a es mayor que 40\n",
            "FIN\n"
          ]
        }
      ],
      "source": [
        "a = 41\n",
        "if a > 10:\n",
        "  print(\"a es mayor que 10\")\n",
        "  if a > 50:\n",
        "    print(\"a es mayor que 50\")\n",
        "  elif a > 40:\n",
        "    print(\"a es mayor que 40\")\n",
        "  else:\n",
        "    print(\"a es menor de 40\")\n",
        "print(\"FIN\")"
      ]
    },
    {
      "cell_type": "markdown",
      "metadata": {
        "id": "c7tJQ_4nqk0X"
      },
      "source": [
        "También se puede utiliar la sentencia *if* en una sola línea para reducir nuestro código:"
      ]
    },
    {
      "cell_type": "code",
      "execution_count": 23,
      "metadata": {
        "id": "GPYgEfydq2oF"
      },
      "outputs": [
        {
          "name": "stdout",
          "output_type": "stream",
          "text": [
            "a es mayor que b\n",
            "AAA\n",
            "A > B\n"
          ]
        }
      ],
      "source": [
        "a = 21\n",
        "b = 10\n",
        "if a > b: print(\"a es mayor que b\")\n",
        "\n",
        "# Aquí un ejemplo de if..else\n",
        "print(\"AAA\") if a > b else print(\"BBB\")\n",
        "\n",
        "# Por último, un ejemplo de if..elif..else\n",
        "print(\"A > B\") if a > b else print(\"A = B\") if a == b else print(\"B > A\")"
      ]
    },
    {
      "cell_type": "markdown",
      "metadata": {
        "id": "QS5T5v8Tr42B"
      },
      "source": [
        "Otra opción es la de comparar varios elementos al mismo tiempo mediante el uso de los operandos **and** y **or** para concatenar comparaciones:"
      ]
    },
    {
      "cell_type": "code",
      "execution_count": 24,
      "metadata": {
        "id": "D3lcBQxYsKGd"
      },
      "outputs": [
        {
          "name": "stdout",
          "output_type": "stream",
          "text": [
            "a no es el elemento más pequeño\n",
            "a es elemento con el mayor valor\n"
          ]
        }
      ],
      "source": [
        "a = 21\n",
        "b = 10\n",
        "c = 17\n",
        "\n",
        "if a > b or a > c: print(\"a no es el elemento más pequeño\")\n",
        "\n",
        "if a > b and a > c: print(\"a es elemento con el mayor valor\")\n",
        "elif b > a and b > c: print(\"b es el elemento con el mayor valor\")\n",
        "elif c > a and c > b: print(\"c es el elemento con el mayor valor\")\n",
        "else: print(\"hay al menos dos elementos con los valores más altos\")"
      ]
    },
    {
      "cell_type": "markdown",
      "metadata": {
        "id": "6PTLLalM_R-G"
      },
      "source": [
        "## while"
      ]
    },
    {
      "cell_type": "markdown",
      "metadata": {
        "id": "XBm7X4LR_Vfl"
      },
      "source": [
        "La estructura *while*, al igual que en otros lenguajes, ejecuta su contenido siempre y cuando una condición se mantenga verdadera:"
      ]
    },
    {
      "cell_type": "code",
      "execution_count": 25,
      "metadata": {
        "id": "q64igfemtn0M"
      },
      "outputs": [
        {
          "name": "stdout",
          "output_type": "stream",
          "text": [
            "1\n",
            "2\n",
            "3\n",
            "4\n",
            "5\n"
          ]
        }
      ],
      "source": [
        "i = 1\n",
        "while i < 6:\n",
        "  print(i)\n",
        "  i += 1"
      ]
    },
    {
      "cell_type": "markdown",
      "metadata": {
        "id": "Jt2SlKxJtrvq"
      },
      "source": [
        "Como no, también podremos aprovecharnos de las sentencias **break** para terminar el bucle cuando nos interese y **continue** para saltar a la siguiente iteración:"
      ]
    },
    {
      "cell_type": "code",
      "execution_count": 26,
      "metadata": {
        "id": "WCGmbjTeuM9a"
      },
      "outputs": [
        {
          "name": "stdout",
          "output_type": "stream",
          "text": [
            "1\n",
            "2\n",
            "4\n",
            "5\n"
          ]
        }
      ],
      "source": [
        "i = 0\n",
        "while i < 10:\n",
        "  i += 1\n",
        "  if i == 3: continue\n",
        "  print(i)\n",
        "  if i == 5: break;"
      ]
    },
    {
      "cell_type": "markdown",
      "metadata": {
        "id": "Rg1lKIJCujj_"
      },
      "source": [
        "Por último, en python se ha incluído la posibilidad de utilizar la sentencia **else** al final de un bucle *while* para ejecutar un bloque de código cuando la condición deja de ser verdadera:"
      ]
    },
    {
      "cell_type": "code",
      "execution_count": 27,
      "metadata": {
        "id": "oelTz3FQuxwH"
      },
      "outputs": [
        {
          "name": "stdout",
          "output_type": "stream",
          "text": [
            "1\n",
            "2\n",
            "3\n",
            "4\n",
            "5\n",
            "Hemos terminado el bucle III\n",
            "1\n"
          ]
        }
      ],
      "source": [
        "i = 0\n",
        "while i < 5:\n",
        "  i+=1\n",
        "  print(i)\n",
        "else:\n",
        "  print(\"Hemos terminado el bucle III\")\n",
        "\n",
        "# Este otro else no se ejecutará ya que no ha dejado de ser verdadera la condición:\n",
        "j = 0\n",
        "while j < 5:\n",
        "  j += 1\n",
        "  print(j)\n",
        "  break\n",
        "else:\n",
        "  print(\"Hemos terminado el bucle JJJ\")"
      ]
    },
    {
      "cell_type": "markdown",
      "metadata": {
        "id": "O4bGLnYo_Vn3"
      },
      "source": [
        "## for"
      ]
    },
    {
      "cell_type": "markdown",
      "metadata": {
        "id": "dINIq4Mo_W6e"
      },
      "source": [
        "Como última estructura de control tenemos el **for**. Esta estructura puede utilizarse en múltiples escenarios:"
      ]
    },
    {
      "cell_type": "code",
      "execution_count": 28,
      "metadata": {
        "id": "pkZgginazJQo"
      },
      "outputs": [
        {
          "name": "stdout",
          "output_type": "stream",
          "text": [
            "apple\n",
            "banana\n",
            "cherry\n",
            "---------------------------\n",
            "b\n",
            "a\n",
            "n\n",
            "a\n",
            "n\n",
            "a\n"
          ]
        }
      ],
      "source": [
        "# Recorrer una lista\n",
        "fruits = [\"apple\", \"banana\", \"cherry\"]\n",
        "for x in fruits:\n",
        "  print(x)\n",
        "\n",
        "print(\"---------------------------\")\n",
        "# Recorrer un String\n",
        "for x in \"banana\":\n",
        "  print(x)"
      ]
    },
    {
      "cell_type": "markdown",
      "metadata": {
        "id": "hdlfRIVg0E80"
      },
      "source": [
        "Al igual que con el *while*, podremos utilizar las instrucciones **break** para terminar el bucle y **continue** para saltar a la siguiente iteración:"
      ]
    },
    {
      "cell_type": "code",
      "execution_count": 29,
      "metadata": {
        "id": "yE2wV8Jo0NQd"
      },
      "outputs": [
        {
          "name": "stdout",
          "output_type": "stream",
          "text": [
            "b\n",
            "t\n",
            "e\n",
            "l\n",
            "FIN\n"
          ]
        }
      ],
      "source": [
        "for x in \"botella\":\n",
        "  if x == \"o\": continue\n",
        "  print(x)\n",
        "  if x == \"l\": break\n",
        "\n",
        "print(\"FIN\")"
      ]
    },
    {
      "cell_type": "markdown",
      "metadata": {
        "id": "do-OK2rW08m5"
      },
      "source": [
        "También al igual que antes, se podrá utilizar la instrucción **else** para ejecutar un último bloque cuando el *for* haya terminado de ejecutarse correctamente (sin el uso de la instrucción *break*):"
      ]
    },
    {
      "cell_type": "code",
      "execution_count": 30,
      "metadata": {
        "id": "KUMHPH6B1Hqs"
      },
      "outputs": [
        {
          "name": "stdout",
          "output_type": "stream",
          "text": [
            "0\n",
            "1\n",
            "2\n",
            "for terminado correctamente\n",
            "10\n",
            "12\n"
          ]
        }
      ],
      "source": [
        "for x in range(3):\n",
        "  print(x)\n",
        "else:\n",
        "  print(\"for terminado correctamente\")\n",
        "\n",
        "\n",
        "for x in range(10, 16, 2):\n",
        "  print(x)\n",
        "  if x == 12: break\n",
        "else:\n",
        "  print(\"ESTE TEXTO NO SE MOSTRARÁ\")"
      ]
    },
    {
      "cell_type": "markdown",
      "metadata": {
        "id": "a8-Ehb90_ZsZ"
      },
      "source": [
        "---\n",
        "# Funciones"
      ]
    },
    {
      "cell_type": "markdown",
      "metadata": {
        "id": "ndLBxa0Y16I4"
      },
      "source": [
        "Para definir funciones lo haremos mediante el uso de **def**:"
      ]
    },
    {
      "cell_type": "code",
      "execution_count": 31,
      "metadata": {
        "id": "anwd6r8E2DNq"
      },
      "outputs": [
        {
          "name": "stdout",
          "output_type": "stream",
          "text": [
            "Código interno de la función\n"
          ]
        }
      ],
      "source": [
        "def mi_funcion():\n",
        "  print(\"Código interno de la función\")\n",
        "\n",
        "# Así llamaremos a la función\n",
        "mi_funcion()"
      ]
    },
    {
      "cell_type": "markdown",
      "metadata": {
        "id": "c0u6iKGG2Nmj"
      },
      "source": [
        "En el caso de querer pasar parámetros a la función, lo haríamos de la siguiente manera:"
      ]
    },
    {
      "cell_type": "code",
      "execution_count": 32,
      "metadata": {
        "id": "hFiPBsOj2SSg"
      },
      "outputs": [
        {
          "name": "stdout",
          "output_type": "stream",
          "text": [
            "El parámetro recibido es: test\n",
            "El parámetro recibido es: 2\n"
          ]
        }
      ],
      "source": [
        "def mi_funcion(param):\n",
        "  print(\"El parámetro recibido es: \" + str(param))\n",
        "\n",
        "mi_funcion(\"test\")\n",
        "mi_funcion(2)"
      ]
    },
    {
      "cell_type": "markdown",
      "metadata": {
        "id": "twN9floN2tFC"
      },
      "source": [
        "En un principio, a una función hay que llamarla con el mismo número de parámetros que tiene definidos. Por tanto, si tiene dos parámetros, la llamaremos con dós parámetros, ni uno ni tres. Aun así, podemos definir una función sin conocer el número de parámetros de la siguiente manera, teniendo que cuenta que los recibirá como una lista:"
      ]
    },
    {
      "cell_type": "code",
      "execution_count": 33,
      "metadata": {
        "id": "vlA0Do5y3BNI"
      },
      "outputs": [
        {
          "name": "stdout",
          "output_type": "stream",
          "text": [
            "He recibido 0 parámetros\n",
            "-----------------\n",
            "He recibido 3 parámetros\n",
            "El primer parámetro es: Primero\n",
            "Primero\n",
            "23\n",
            "Tercero\n"
          ]
        }
      ],
      "source": [
        "def mi_funcion(*params):\n",
        "  print(\"He recibido \" + str(len(params)) + \" parámetros\")\n",
        "  if len(params) > 0: print(\"El primer parámetro es: \" + str(params[0]))\n",
        "  \n",
        "  # Aquí recorro y muestro todos los parámetros\n",
        "  for x in params:\n",
        "    print(x)\n",
        "\n",
        "mi_funcion()\n",
        "print(\"-----------------\")\n",
        "mi_funcion(\"Primero\", 23, \"Tercero\")"
      ]
    },
    {
      "cell_type": "markdown",
      "metadata": {
        "id": "uYvVVepI4GVh"
      },
      "source": [
        "También podremos pasar los argumentos en el orden que prefiramos:"
      ]
    },
    {
      "cell_type": "code",
      "execution_count": 34,
      "metadata": {
        "id": "gutzo-CY4MXr"
      },
      "outputs": [
        {
          "name": "stdout",
          "output_type": "stream",
          "text": [
            "x = 2\n",
            "y = YYY\n",
            "z = a\n"
          ]
        }
      ],
      "source": [
        "def mi_funcion(x, y, z):\n",
        "  print(\"x = \" + str(x))\n",
        "  print(\"y = \" + str(y))\n",
        "  print(\"z = \" + str(z))\n",
        "\n",
        "mi_funcion(z = \"a\", x = 2, y = \"YYY\")"
      ]
    },
    {
      "cell_type": "markdown",
      "metadata": {
        "id": "LnkzeznA4rWN"
      },
      "source": [
        "Si combinamos los dos conceptos anteriores podremos obtener cualquier número de parámetros en cualquier orden, de tal forma que para la función se trate de un diccionario:"
      ]
    },
    {
      "cell_type": "code",
      "execution_count": 35,
      "metadata": {
        "id": "pMh0XFqM47I-"
      },
      "outputs": [
        {
          "name": "stdout",
          "output_type": "stream",
          "text": [
            "El apellido es: Jorge\n",
            "{'apellido': 'Jorge', 'nombre': 'Mikel', 'email': 'mjorgesote@educacion.navarra.es'}\n"
          ]
        }
      ],
      "source": [
        "def mi_funcion(**params):\n",
        "  print(\"El apellido es: \" + params[\"apellido\"])\n",
        "  print(params)\n",
        "\n",
        "mi_funcion(apellido = \"Jorge\", nombre = \"Mikel\", email = \"mjorgesote@educacion.navarra.es\")\n",
        "\n",
        "# El riesgo de acceder así a un parámetros que no sabemos si llega o no es que realmente no se reciba y de un error:\n",
        "# mi_funcion(nombre = \"Mikel\", email = \"mjorgesote@educacion.navarra.es\")"
      ]
    },
    {
      "cell_type": "markdown",
      "metadata": {
        "id": "pAM7p9eH56ka"
      },
      "source": [
        "También podremos definir un valor por defecto para cada parámetro de tal forma que si no viene se tomará dicho valor por defecto:"
      ]
    },
    {
      "cell_type": "code",
      "execution_count": 36,
      "metadata": {
        "id": "tUcBpT1B6GSn"
      },
      "outputs": [
        {
          "name": "stdout",
          "output_type": "stream",
          "text": [
            "222 YYY\n",
            "-----------------\n",
            "10 ZZZ\n",
            "-----------------\n",
            "10 YYY\n"
          ]
        }
      ],
      "source": [
        "def mi_funcion(x = 10, y = \"YYY\"):\n",
        "  print(x, y)\n",
        "\n",
        "mi_funcion(222)\n",
        "print(\"-----------------\")\n",
        "mi_funcion(y = \"ZZZ\")\n",
        "print(\"-----------------\")\n",
        "mi_funcion()"
      ]
    },
    {
      "cell_type": "markdown",
      "metadata": {
        "id": "yI-N-vb46bo4"
      },
      "source": [
        "Para terminar, siempre existe el caso de que queramos obtener un resultado de una función. Para ello, podremos utilizar la instrucción **return** para devolver cualquier elemento"
      ]
    },
    {
      "cell_type": "code",
      "execution_count": 37,
      "metadata": {
        "id": "ct6Pltyy6lbk"
      },
      "outputs": [
        {
          "name": "stdout",
          "output_type": "stream",
          "text": [
            "20\n"
          ]
        }
      ],
      "source": [
        "def mi_funcion(x):\n",
        "  return x * 5\n",
        "\n",
        "print(mi_funcion(4))"
      ]
    },
    {
      "cell_type": "markdown",
      "metadata": {
        "id": "meajLfIL169i"
      },
      "source": [
        "---\n",
        "# Control de errores"
      ]
    },
    {
      "cell_type": "markdown",
      "metadata": {
        "id": "MM45555k19G_"
      },
      "source": [
        "Para el control de errores usaremos la estructura **try..except**:"
      ]
    },
    {
      "cell_type": "code",
      "execution_count": 38,
      "metadata": {
        "id": "iryDxA8A72PK"
      },
      "outputs": [
        {
          "name": "stdout",
          "output_type": "stream",
          "text": [
            "Se ha producido un error\n"
          ]
        }
      ],
      "source": [
        "try:\n",
        "  # Esta línea generará un error debido a que la variable x no existe\n",
        "  print(asdf)\n",
        "except:\n",
        "  print(\"Se ha producido un error\")"
      ]
    },
    {
      "cell_type": "markdown",
      "metadata": {
        "id": "fvKbTx5w8EwD"
      },
      "source": [
        "Si tras contener un error deseamos hacer algún tipo de operación podemos utilizar la sentencia **finally**:"
      ]
    },
    {
      "cell_type": "code",
      "execution_count": 39,
      "metadata": {
        "id": "2TM_z8GD8Mh-"
      },
      "outputs": [
        {
          "name": "stdout",
          "output_type": "stream",
          "text": [
            "Se ha producido un error\n",
            "Linea ejecutada tras controlar el error en caso de existir\n"
          ]
        }
      ],
      "source": [
        "try:\n",
        "  print(asdf)\n",
        "except:\n",
        "  print(\"Se ha producido un error\")\n",
        "finally:\n",
        "  print(\"Linea ejecutada tras controlar el error en caso de existir\")"
      ]
    },
    {
      "cell_type": "markdown",
      "metadata": {
        "id": "vDFHlQ4C8aTe"
      },
      "source": [
        "Así mismo, podemos capturar los distintos tipos de errores y actuar de forma distinta para cada uno de ellos:"
      ]
    },
    {
      "cell_type": "code",
      "execution_count": 40,
      "metadata": {
        "id": "1nWB28k58iia"
      },
      "outputs": [
        {
          "name": "stdout",
          "output_type": "stream",
          "text": [
            "La variable asdf no ha sido definida\n"
          ]
        }
      ],
      "source": [
        "try:\n",
        "  print(asdf)\n",
        "except NameError:\n",
        "  print(\"La variable asdf no ha sido definida\")\n",
        "except:\n",
        "  print(\"Ha fallado alguna otra cosa\")"
      ]
    },
    {
      "cell_type": "markdown",
      "metadata": {
        "id": "P9oDyFiyD43n"
      },
      "source": [
        "Para el caso en que queramos que se ejecute un bloque de código solo si no han ocurrido errores antes, podremos utilizar la sentencia **else**:"
      ]
    },
    {
      "cell_type": "code",
      "execution_count": 41,
      "metadata": {
        "id": "5mGZFgvPEFmm"
      },
      "outputs": [
        {
          "name": "stdout",
          "output_type": "stream",
          "text": [
            "Hola\n",
            "No ha ocurrido ningún error\n",
            "------------------\n",
            "Ha ocurrido un error\n"
          ]
        }
      ],
      "source": [
        "try:\n",
        "  print(\"Hola\")\n",
        "except:\n",
        "  print(\"Ha ocurrido un error\")\n",
        "else:\n",
        "  print(\"No ha ocurrido ningún error\")\n",
        "\n",
        "print(\"------------------\")\n",
        "# En este caso no se ejecutará el código dentro del else\n",
        "try:\n",
        "  print(asdf)\n",
        "except:\n",
        "  print(\"Ha ocurrido un error\")\n",
        "else:\n",
        "  print(\"No ha ocurrido ningún error\")"
      ]
    },
    {
      "cell_type": "markdown",
      "metadata": {
        "id": "q5RJSv7FEjDQ"
      },
      "source": [
        "Para casos en los que queramos lanzar una excepción desde un código podemos utilizar la instrucción **raise**:"
      ]
    },
    {
      "cell_type": "code",
      "execution_count": 42,
      "metadata": {
        "id": "tNz5gdWbFAM3"
      },
      "outputs": [
        {
          "name": "stdout",
          "output_type": "stream",
          "text": [
            "No se aceptan números menores o iguales a 0\n"
          ]
        }
      ],
      "source": [
        "try:\n",
        "  x = 0\n",
        "  if x <= 0:\n",
        "    raise Exception(\"No se aceptan números menores o iguales a 0\")\n",
        "except Exception as e:\n",
        "  print(e)"
      ]
    },
    {
      "cell_type": "markdown",
      "metadata": {
        "id": "olcCDCl1FimW"
      },
      "source": [
        "También podemos lanzar errores más concretos que el de *excepción*:"
      ]
    },
    {
      "cell_type": "code",
      "execution_count": 43,
      "metadata": {
        "id": "1DekIKxSFsQ7"
      },
      "outputs": [
        {
          "name": "stdout",
          "output_type": "stream",
          "text": [
            "Error de tipo, no se aceptan números enteros\n"
          ]
        }
      ],
      "source": [
        "try:\n",
        "  x = 0\n",
        "  if type(x) is int:\n",
        "    raise TypeError(\"Error de tipo, no se aceptan números enteros\")\n",
        "except TypeError as te:\n",
        "  print (te)"
      ]
    },
    {
      "cell_type": "markdown",
      "metadata": {
        "id": "CXva9Sz3UWtT"
      },
      "source": [
        "---\n",
        "# Programación Orientada a Objetos"
      ]
    },
    {
      "cell_type": "markdown",
      "metadata": {
        "id": "H4W_0G0IUd_g"
      },
      "source": [
        "Para crear una clase propia lo haremos de la siguiente manera:"
      ]
    },
    {
      "cell_type": "code",
      "execution_count": 44,
      "metadata": {
        "id": "Z71GRMZeYyZP"
      },
      "outputs": [
        {
          "name": "stdout",
          "output_type": "stream",
          "text": [
            "negro\n",
            "Todoterreno\n"
          ]
        }
      ],
      "source": [
        "class Vehiculo:\n",
        "  color = \"negro\"\n",
        "  tipo = \"Todoterreno\"\n",
        "\n",
        "# De esta manera crearemos una instancia de la clase Vehiculo\n",
        "mi_coche = Vehiculo()\n",
        "\n",
        "# Así podremos acceder a cada uno de los atributos de la clase\n",
        "print(mi_coche.color)\n",
        "print(mi_coche.tipo)"
      ]
    },
    {
      "cell_type": "markdown",
      "metadata": {
        "id": "FoCprsFOZTU0"
      },
      "source": [
        "Para definir un constructor modificando el de por defecto, utilizaremos el método **__init__**:"
      ]
    },
    {
      "cell_type": "code",
      "execution_count": 45,
      "metadata": {
        "id": "OoijegiRZnSO"
      },
      "outputs": [
        {
          "name": "stdout",
          "output_type": "stream",
          "text": [
            "Mikel\n",
            "21\n"
          ]
        }
      ],
      "source": [
        "class Person:\n",
        "  def __init__(self, name, age):\n",
        "    self.name = name\n",
        "    self.age = age\n",
        "\n",
        "p1 = Person(\"Mikel\", \"21\")\n",
        "print(p1.name)\n",
        "print(p1.age)"
      ]
    },
    {
      "cell_type": "markdown",
      "metadata": {
        "id": "ZqTOHRpcaHxX"
      },
      "source": [
        "Como os habréis fijado, en el constructor como primer parámetro hemos pasado **self**. Esto es porque en todas las funciones que definamos, la propia instancia del objeto será el primer parámetro. No es obligatorio utilizar la palabra **self** pero la mantendremos por que es una convención del lenguaje:"
      ]
    },
    {
      "cell_type": "code",
      "execution_count": 46,
      "metadata": {
        "id": "CV_FrY7NbLip"
      },
      "outputs": [
        {
          "name": "stdout",
          "output_type": "stream",
          "text": [
            "Mikel: 21\n",
            "Mikel: 24\n"
          ]
        }
      ],
      "source": [
        "class Person:\n",
        "  def __init__(self, name, age):\n",
        "    self.name = name\n",
        "    self.age =age\n",
        "  \n",
        "  def show(self):\n",
        "    print(self.name + \": \" + str(self.age))\n",
        "  \n",
        "  def new_age(self, new_age):\n",
        "    self.age = new_age\n",
        "\n",
        "p1 = Person(\"Mikel\", 21)\n",
        "p1.show()\n",
        "p1.new_age(24)\n",
        "p1.show()"
      ]
    },
    {
      "cell_type": "markdown",
      "metadata": {
        "id": "I8Aul5nEcDDS"
      },
      "source": [
        "No hace falta definir métodos para modificar las propiedades de los objetos"
      ]
    },
    {
      "cell_type": "code",
      "execution_count": 47,
      "metadata": {
        "id": "TKy4-yZmcJBS"
      },
      "outputs": [
        {
          "name": "stdout",
          "output_type": "stream",
          "text": [
            "Pepito: 46\n",
            "Pepito: 10\n"
          ]
        }
      ],
      "source": [
        "class Person:\n",
        "  def __init__(self, name, age):\n",
        "    self.name = name\n",
        "    self.age = age\n",
        "  \n",
        "  def show(self):\n",
        "    print(self.name + \": \" + str(self.age))\n",
        "  \n",
        "p1 = Person(\"Pepito\", 46)\n",
        "p1.show()\n",
        "p1.age = 10\n",
        "p1.show()"
      ]
    },
    {
      "cell_type": "markdown",
      "metadata": {
        "id": "vPteZXEJdNCH"
      },
      "source": [
        "En cuanto a la herencia, si queremos definir una nueva clase que herede de otra podríamos hacerlo de la siguiente manera:"
      ]
    },
    {
      "cell_type": "code",
      "execution_count": 48,
      "metadata": {
        "id": "xsKE4c3hdVH1"
      },
      "outputs": [
        {
          "name": "stdout",
          "output_type": "stream",
          "text": [
            "Artificial Intelligence\n"
          ]
        }
      ],
      "source": [
        "class Person:\n",
        "  def __init__(self, name, age):\n",
        "    self.name = name\n",
        "    self.age = age\n",
        "  \n",
        "  def show(self):\n",
        "    print(self.name + \": \" + str(self.age))\n",
        "\n",
        "class Student(Person):\n",
        "  def __init__(self, name, age, studies):\n",
        "    # Primero llamaremos al constructor de la clase padre\n",
        "    Person.__init__(self, name, age)\n",
        "    self.studies = studies\n",
        "  \n",
        "  def show(self):\n",
        "    print(self.studies)\n",
        "\n",
        "\n",
        "s1 = Student(\"Mikel\", 37, \"Artificial Intelligence\")\n",
        "s1.show()"
      ]
    }
  ],
  "metadata": {
    "colab": {
      "name": "00-Python_teoría.ipynb",
      "provenance": []
    },
    "interpreter": {
      "hash": "5ef8c08b800cfe7a39ab89adcf703ee7065445770650f99cd00596bc349a0a52"
    },
    "kernelspec": {
      "display_name": "Python 3.9.7 64-bit (windows store)",
      "name": "python3"
    },
    "language_info": {
      "codemirror_mode": {
        "name": "ipython",
        "version": 3
      },
      "file_extension": ".py",
      "mimetype": "text/x-python",
      "name": "python",
      "nbconvert_exporter": "python",
      "pygments_lexer": "ipython3",
      "version": "3.9.7"
    }
  },
  "nbformat": 4,
  "nbformat_minor": 0
}
